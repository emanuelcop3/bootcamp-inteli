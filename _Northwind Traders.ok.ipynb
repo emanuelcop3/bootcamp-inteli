{
 "cells": [
  {
   "cell_type": "markdown",
   "metadata": {},
   "source": [
    "# <font color='blue'>  Desafio: Northwind Traders</font>\n"
   ]
  },
  {
   "cell_type": "markdown",
   "metadata": {},
   "source": [
    "### Contexto:\n",
    "\n",
    "Northwind Traders é uma loja fictícia que gerencia pedidos, produtos, clientes,\n",
    "fornecedores e muitos outros aspectos de uma pequena empresa.\n"
   ]
  },
  {
   "cell_type": "markdown",
   "metadata": {},
   "source": [
    "### Problema de negócio:\n",
    "Northwind possui relatórios feitos em planilhas feitos de forma sob demanda.Assim,com o crescimento acelerado há a necessidade de melhoria em todo  o sistema de dados."
   ]
  },
  {
   "cell_type": "markdown",
   "metadata": {},
   "source": [
    "### Desafio:\n",
    "Gerar um relatório com indicadores de performance para responder\n",
    "às demandas da Northwind.\n"
   ]
  },
  {
   "cell_type": "markdown",
   "metadata": {},
   "source": [
    "### <font color='green'>  Análise dos dados da Northwind</font>\n"
   ]
  },
  {
   "cell_type": "code",
   "execution_count": 62,
   "metadata": {},
   "outputs": [],
   "source": [
    "# Importando as funções necessárias \n",
    "import pandas as pd\n",
    "import numpy as np\n",
    "import matplotlib.pyplot as plt\n",
    "import plotly.express as px\n",
    "import plotly\n",
    "%matplotlib inline"
   ]
  },
  {
   "cell_type": "code",
   "execution_count": 43,
   "metadata": {},
   "outputs": [
    {
     "data": {
      "text/html": [
       "<div>\n",
       "<style scoped>\n",
       "    .dataframe tbody tr th:only-of-type {\n",
       "        vertical-align: middle;\n",
       "    }\n",
       "\n",
       "    .dataframe tbody tr th {\n",
       "        vertical-align: top;\n",
       "    }\n",
       "\n",
       "    .dataframe thead th {\n",
       "        text-align: right;\n",
       "    }\n",
       "</style>\n",
       "<table border=\"1\" class=\"dataframe\">\n",
       "  <thead>\n",
       "    <tr style=\"text-align: right;\">\n",
       "      <th></th>\n",
       "      <th>category_id</th>\n",
       "      <th>category_name</th>\n",
       "      <th>description</th>\n",
       "      <th>picture</th>\n",
       "    </tr>\n",
       "  </thead>\n",
       "  <tbody>\n",
       "    <tr>\n",
       "      <th>0</th>\n",
       "      <td>1</td>\n",
       "      <td>Beverages</td>\n",
       "      <td>Soft drinks, coffees, teas, beers, and ales</td>\n",
       "      <td>\\x</td>\n",
       "    </tr>\n",
       "    <tr>\n",
       "      <th>1</th>\n",
       "      <td>2</td>\n",
       "      <td>Condiments</td>\n",
       "      <td>Sweet and savory sauces, relishes, spreads, an...</td>\n",
       "      <td>\\x</td>\n",
       "    </tr>\n",
       "    <tr>\n",
       "      <th>2</th>\n",
       "      <td>3</td>\n",
       "      <td>Confections</td>\n",
       "      <td>Desserts, candies, and sweet breads</td>\n",
       "      <td>\\x</td>\n",
       "    </tr>\n",
       "    <tr>\n",
       "      <th>3</th>\n",
       "      <td>4</td>\n",
       "      <td>Dairy Products</td>\n",
       "      <td>Cheeses</td>\n",
       "      <td>\\x</td>\n",
       "    </tr>\n",
       "    <tr>\n",
       "      <th>4</th>\n",
       "      <td>5</td>\n",
       "      <td>Grains/Cereals</td>\n",
       "      <td>Breads, crackers, pasta, and cereal</td>\n",
       "      <td>\\x</td>\n",
       "    </tr>\n",
       "    <tr>\n",
       "      <th>5</th>\n",
       "      <td>6</td>\n",
       "      <td>Meat/Poultry</td>\n",
       "      <td>Prepared meats</td>\n",
       "      <td>\\x</td>\n",
       "    </tr>\n",
       "    <tr>\n",
       "      <th>6</th>\n",
       "      <td>7</td>\n",
       "      <td>Produce</td>\n",
       "      <td>Dried fruit and bean curd</td>\n",
       "      <td>\\x</td>\n",
       "    </tr>\n",
       "    <tr>\n",
       "      <th>7</th>\n",
       "      <td>8</td>\n",
       "      <td>Seafood</td>\n",
       "      <td>Seaweed and fish</td>\n",
       "      <td>\\x</td>\n",
       "    </tr>\n",
       "  </tbody>\n",
       "</table>\n",
       "</div>"
      ],
      "text/plain": [
       "   category_id   category_name  \\\n",
       "0            1       Beverages   \n",
       "1            2      Condiments   \n",
       "2            3     Confections   \n",
       "3            4  Dairy Products   \n",
       "4            5  Grains/Cereals   \n",
       "5            6    Meat/Poultry   \n",
       "6            7         Produce   \n",
       "7            8         Seafood   \n",
       "\n",
       "                                         description picture  \n",
       "0        Soft drinks, coffees, teas, beers, and ales      \\x  \n",
       "1  Sweet and savory sauces, relishes, spreads, an...      \\x  \n",
       "2                Desserts, candies, and sweet breads      \\x  \n",
       "3                                            Cheeses      \\x  \n",
       "4                Breads, crackers, pasta, and cereal      \\x  \n",
       "5                                     Prepared meats      \\x  \n",
       "6                          Dried fruit and bean curd      \\x  \n",
       "7                                   Seaweed and fish      \\x  "
      ]
     },
     "execution_count": 43,
     "metadata": {},
     "output_type": "execute_result"
    }
   ],
   "source": [
    "\n",
    "northwind_categories = pd.read_csv('categories.csv',sep=\";\",engine='python')\n",
    "northwind_categories.head(10000)\n",
    "\n"
   ]
  },
  {
   "cell_type": "code",
   "execution_count": 54,
   "metadata": {},
   "outputs": [
    {
     "data": {
      "text/plain": [
       "<BarContainer object of 8 artists>"
      ]
     },
     "execution_count": 54,
     "metadata": {},
     "output_type": "execute_result"
    },
    {
     "data": {
      "image/png": "[encoded data removed]",
      "text/plain": [
       "<Figure size 1152x576 with 1 Axes>"
      ]
     },
     "metadata": {
      "needs_background": "light"
     },
     "output_type": "display_data"
    }
   ],
   "source": [
    "x = northwind_categories['category_name']\n",
    "y = northwind_categories['description']\n",
    "plt.figure(figsize=(16,8))\n",
    "plt.bar(x,y,color = 'orange')"
   ]
  },
  {
   "cell_type": "code",
   "execution_count": 4,
   "metadata": {},
   "outputs": [
    {
     "data": {
      "text/html": [
       "<div>\n",
       "<style scoped>\n",
       "    .dataframe tbody tr th:only-of-type {\n",
       "        vertical-align: middle;\n",
       "    }\n",
       "\n",
       "    .dataframe tbody tr th {\n",
       "        vertical-align: top;\n",
       "    }\n",
       "\n",
       "    .dataframe thead th {\n",
       "        text-align: right;\n",
       "    }\n",
       "</style>\n",
       "<table border=\"1\" class=\"dataframe\">\n",
       "  <thead>\n",
       "    <tr style=\"text-align: right;\">\n",
       "      <th></th>\n",
       "      <th>customer_id</th>\n",
       "      <th>customer_type_id</th>\n",
       "    </tr>\n",
       "  </thead>\n",
       "  <tbody>\n",
       "  </tbody>\n",
       "</table>\n",
       "</div>"
      ],
      "text/plain": [
       "Empty DataFrame\n",
       "Columns: [customer_id, customer_type_id]\n",
       "Index: []"
      ]
     },
     "execution_count": 4,
     "metadata": {},
     "output_type": "execute_result"
    }
   ],
   "source": [
    "# customer_customer_demo é uma tabela vazia\n",
    "northwind_customer_demo = pd.read_csv('customer_customer_demo.csv',sep=\";\",engine='python')\n",
    "northwind_customer_demo.head()"
   ]
  },
  {
   "cell_type": "code",
   "execution_count": 5,
   "metadata": {},
   "outputs": [
    {
     "data": {
      "text/html": [
       "<div>\n",
       "<style scoped>\n",
       "    .dataframe tbody tr th:only-of-type {\n",
       "        vertical-align: middle;\n",
       "    }\n",
       "\n",
       "    .dataframe tbody tr th {\n",
       "        vertical-align: top;\n",
       "    }\n",
       "\n",
       "    .dataframe thead th {\n",
       "        text-align: right;\n",
       "    }\n",
       "</style>\n",
       "<table border=\"1\" class=\"dataframe\">\n",
       "  <thead>\n",
       "    <tr style=\"text-align: right;\">\n",
       "      <th></th>\n",
       "      <th>customer_type_id</th>\n",
       "      <th>customer_desc</th>\n",
       "    </tr>\n",
       "  </thead>\n",
       "  <tbody>\n",
       "  </tbody>\n",
       "</table>\n",
       "</div>"
      ],
      "text/plain": [
       "Empty DataFrame\n",
       "Columns: [customer_type_id, customer_desc]\n",
       "Index: []"
      ]
     },
     "execution_count": 5,
     "metadata": {},
     "output_type": "execute_result"
    }
   ],
   "source": [
    "# customer_demographics é uma tabela vazia \n",
    "northwind_demographics = pd.read_csv('customer_demographics.csv',sep=\";\",engine='python')\n",
    "northwind_demographics.head()"
   ]
  },
  {
   "cell_type": "code",
   "execution_count": 108,
   "metadata": {},
   "outputs": [
    {
     "data": {
      "text/html": [
       "<div>\n",
       "<style scoped>\n",
       "    .dataframe tbody tr th:only-of-type {\n",
       "        vertical-align: middle;\n",
       "    }\n",
       "\n",
       "    .dataframe tbody tr th {\n",
       "        vertical-align: top;\n",
       "    }\n",
       "\n",
       "    .dataframe thead th {\n",
       "        text-align: right;\n",
       "    }\n",
       "</style>\n",
       "<table border=\"1\" class=\"dataframe\">\n",
       "  <thead>\n",
       "    <tr style=\"text-align: right;\">\n",
       "      <th></th>\n",
       "      <th>customer_id</th>\n",
       "      <th>company_name</th>\n",
       "      <th>contact_name</th>\n",
       "      <th>contact_title</th>\n",
       "      <th>address</th>\n",
       "      <th>city</th>\n",
       "      <th>region</th>\n",
       "      <th>postal_code</th>\n",
       "      <th>country</th>\n",
       "      <th>phone</th>\n",
       "      <th>fax</th>\n",
       "    </tr>\n",
       "  </thead>\n",
       "  <tbody>\n",
       "    <tr>\n",
       "      <th>0</th>\n",
       "      <td>ALFKI</td>\n",
       "      <td>Alfreds Futterkiste</td>\n",
       "      <td>Maria Anders</td>\n",
       "      <td>Sales Representative</td>\n",
       "      <td>Obere Str. 57</td>\n",
       "      <td>Berlin</td>\n",
       "      <td>NaN</td>\n",
       "      <td>12209</td>\n",
       "      <td>Germany</td>\n",
       "      <td>030-0074321</td>\n",
       "      <td>030-0076545</td>\n",
       "    </tr>\n",
       "    <tr>\n",
       "      <th>1</th>\n",
       "      <td>ANATR</td>\n",
       "      <td>Ana Trujillo Emparedados y helados</td>\n",
       "      <td>Ana Trujillo</td>\n",
       "      <td>Owner</td>\n",
       "      <td>Avda. de la ConstituciÃ³n 2222</td>\n",
       "      <td>MÃ©xico D.F.</td>\n",
       "      <td>NaN</td>\n",
       "      <td>05021</td>\n",
       "      <td>Mexico</td>\n",
       "      <td>(5) 555-4729</td>\n",
       "      <td>(5) 555-3745</td>\n",
       "    </tr>\n",
       "    <tr>\n",
       "      <th>2</th>\n",
       "      <td>ANTON</td>\n",
       "      <td>Antonio Moreno TaquerÃ­a</td>\n",
       "      <td>Antonio Moreno</td>\n",
       "      <td>Owner</td>\n",
       "      <td>Mataderos  2312</td>\n",
       "      <td>MÃ©xico D.F.</td>\n",
       "      <td>NaN</td>\n",
       "      <td>05023</td>\n",
       "      <td>Mexico</td>\n",
       "      <td>(5) 555-3932</td>\n",
       "      <td>NaN</td>\n",
       "    </tr>\n",
       "    <tr>\n",
       "      <th>3</th>\n",
       "      <td>AROUT</td>\n",
       "      <td>Around the Horn</td>\n",
       "      <td>Thomas Hardy</td>\n",
       "      <td>Sales Representative</td>\n",
       "      <td>120 Hanover Sq.</td>\n",
       "      <td>London</td>\n",
       "      <td>NaN</td>\n",
       "      <td>WA1 1DP</td>\n",
       "      <td>UK</td>\n",
       "      <td>(171) 555-7788</td>\n",
       "      <td>(171) 555-6750</td>\n",
       "    </tr>\n",
       "    <tr>\n",
       "      <th>4</th>\n",
       "      <td>BERGS</td>\n",
       "      <td>Berglunds snabbkÃ¶p</td>\n",
       "      <td>Christina Berglund</td>\n",
       "      <td>Order Administrator</td>\n",
       "      <td>BerguvsvÃ¤gen  8</td>\n",
       "      <td>LuleÃ¥</td>\n",
       "      <td>NaN</td>\n",
       "      <td>S-958 22</td>\n",
       "      <td>Sweden</td>\n",
       "      <td>0921-12 34 65</td>\n",
       "      <td>0921-12 34 67</td>\n",
       "    </tr>\n",
       "  </tbody>\n",
       "</table>\n",
       "</div>"
      ],
      "text/plain": [
       "  customer_id                        company_name        contact_name  \\\n",
       "0       ALFKI                 Alfreds Futterkiste        Maria Anders   \n",
       "1       ANATR  Ana Trujillo Emparedados y helados        Ana Trujillo   \n",
       "2       ANTON            Antonio Moreno TaquerÃ­a      Antonio Moreno   \n",
       "3       AROUT                     Around the Horn        Thomas Hardy   \n",
       "4       BERGS                 Berglunds snabbkÃ¶p  Christina Berglund   \n",
       "\n",
       "          contact_title                         address          city region  \\\n",
       "0  Sales Representative                   Obere Str. 57        Berlin    NaN   \n",
       "1                 Owner  Avda. de la ConstituciÃ³n 2222  MÃ©xico D.F.    NaN   \n",
       "2                 Owner                 Mataderos  2312  MÃ©xico D.F.    NaN   \n",
       "3  Sales Representative                 120 Hanover Sq.        London    NaN   \n",
       "4   Order Administrator                BerguvsvÃ¤gen  8        LuleÃ¥    NaN   \n",
       "\n",
       "  postal_code  country           phone             fax  \n",
       "0       12209  Germany     030-0074321     030-0076545  \n",
       "1       05021   Mexico    (5) 555-4729    (5) 555-3745  \n",
       "2       05023   Mexico    (5) 555-3932             NaN  \n",
       "3     WA1 1DP       UK  (171) 555-7788  (171) 555-6750  \n",
       "4    S-958 22   Sweden   0921-12 34 65   0921-12 34 67  "
      ]
     },
     "execution_count": 108,
     "metadata": {},
     "output_type": "execute_result"
    }
   ],
   "source": [
    "northwind_customers = pd.read_csv('customers.csv', error_bad_lines=False,sep=\";\",engine='python')\n",
    "northwind_customers.head(5)"
   ]
  },
  {
   "cell_type": "code",
   "execution_count": 115,
   "metadata": {},
   "outputs": [
    {
     "data": {
      "text/plain": [
       "<BarContainer object of 91 artists>"
      ]
     },
     "execution_count": 115,
     "metadata": {},
     "output_type": "execute_result"
    },
    {
     "data": {
      "image/png": "[encoded data removed]",
      "text/plain": [
       "<Figure size 1368x1080 with 1 Axes>"
      ]
     },
     "metadata": {
      "needs_background": "light"
     },
     "output_type": "display_data"
    }
   ],
   "source": [
    "x = northwind_customers['country']\n",
    "y = northwind_customers['contact_title']\n",
    "plt.figure(figsize=(19,15))\n",
    "plt.bar(x,y,color = 'blue')"
   ]
  },
  {
   "cell_type": "code",
   "execution_count": 102,
   "metadata": {},
   "outputs": [
    {
     "data": {
      "text/html": [
       "<div>\n",
       "<style scoped>\n",
       "    .dataframe tbody tr th:only-of-type {\n",
       "        vertical-align: middle;\n",
       "    }\n",
       "\n",
       "    .dataframe tbody tr th {\n",
       "        vertical-align: top;\n",
       "    }\n",
       "\n",
       "    .dataframe thead th {\n",
       "        text-align: right;\n",
       "    }\n",
       "</style>\n",
       "<table border=\"1\" class=\"dataframe\">\n",
       "  <thead>\n",
       "    <tr style=\"text-align: right;\">\n",
       "      <th></th>\n",
       "      <th>employee_id</th>\n",
       "      <th>territory_id</th>\n",
       "    </tr>\n",
       "  </thead>\n",
       "  <tbody>\n",
       "    <tr>\n",
       "      <th>0</th>\n",
       "      <td>1</td>\n",
       "      <td>6897</td>\n",
       "    </tr>\n",
       "    <tr>\n",
       "      <th>1</th>\n",
       "      <td>1</td>\n",
       "      <td>19713</td>\n",
       "    </tr>\n",
       "    <tr>\n",
       "      <th>2</th>\n",
       "      <td>2</td>\n",
       "      <td>1581</td>\n",
       "    </tr>\n",
       "    <tr>\n",
       "      <th>3</th>\n",
       "      <td>2</td>\n",
       "      <td>1730</td>\n",
       "    </tr>\n",
       "    <tr>\n",
       "      <th>4</th>\n",
       "      <td>2</td>\n",
       "      <td>1833</td>\n",
       "    </tr>\n",
       "    <tr>\n",
       "      <th>5</th>\n",
       "      <td>2</td>\n",
       "      <td>2116</td>\n",
       "    </tr>\n",
       "    <tr>\n",
       "      <th>6</th>\n",
       "      <td>2</td>\n",
       "      <td>2139</td>\n",
       "    </tr>\n",
       "    <tr>\n",
       "      <th>7</th>\n",
       "      <td>2</td>\n",
       "      <td>2184</td>\n",
       "    </tr>\n",
       "    <tr>\n",
       "      <th>8</th>\n",
       "      <td>2</td>\n",
       "      <td>40222</td>\n",
       "    </tr>\n",
       "    <tr>\n",
       "      <th>9</th>\n",
       "      <td>3</td>\n",
       "      <td>30346</td>\n",
       "    </tr>\n",
       "  </tbody>\n",
       "</table>\n",
       "</div>"
      ],
      "text/plain": [
       "   employee_id  territory_id\n",
       "0            1          6897\n",
       "1            1         19713\n",
       "2            2          1581\n",
       "3            2          1730\n",
       "4            2          1833\n",
       "5            2          2116\n",
       "6            2          2139\n",
       "7            2          2184\n",
       "8            2         40222\n",
       "9            3         30346"
      ]
     },
     "execution_count": 102,
     "metadata": {},
     "output_type": "execute_result"
    }
   ],
   "source": [
    "northwind_territories = pd.read_csv('employee_territories.csv',sep=\";\",engine='python')\n",
    "northwind_territories.head(10)"
   ]
  },
  {
   "cell_type": "code",
   "execution_count": 117,
   "metadata": {},
   "outputs": [
    {
     "data": {
      "text/plain": [
       "<BarContainer object of 49 artists>"
      ]
     },
     "execution_count": 117,
     "metadata": {},
     "output_type": "execute_result"
    },
    {
     "data": {
      "image/png": "[encoded data removed]",
      "text/plain": [
       "<Figure size 1152x576 with 1 Axes>"
      ]
     },
     "metadata": {
      "needs_background": "light"
     },
     "output_type": "display_data"
    }
   ],
   "source": [
    "x = northwind_territories['employee_id']\n",
    "y = northwind_territories['territory_id']\n",
    "plt.figure(figsize=(16,8))\n",
    "plt.bar(x,y,color = 'orange')"
   ]
  },
  {
   "cell_type": "code",
   "execution_count": 136,
   "metadata": {},
   "outputs": [
    {
     "data": {
      "text/html": [
       "<div>\n",
       "<style scoped>\n",
       "    .dataframe tbody tr th:only-of-type {\n",
       "        vertical-align: middle;\n",
       "    }\n",
       "\n",
       "    .dataframe tbody tr th {\n",
       "        vertical-align: top;\n",
       "    }\n",
       "\n",
       "    .dataframe thead th {\n",
       "        text-align: right;\n",
       "    }\n",
       "</style>\n",
       "<table border=\"1\" class=\"dataframe\">\n",
       "  <thead>\n",
       "    <tr style=\"text-align: right;\">\n",
       "      <th></th>\n",
       "      <th>employee_id</th>\n",
       "      <th>last_name</th>\n",
       "      <th>first_name</th>\n",
       "      <th>title</th>\n",
       "      <th>title_of_courtesy</th>\n",
       "      <th>birth_date</th>\n",
       "      <th>hire_date</th>\n",
       "      <th>address</th>\n",
       "      <th>city</th>\n",
       "      <th>region</th>\n",
       "      <th>postal_code</th>\n",
       "      <th>country</th>\n",
       "      <th>home_phone</th>\n",
       "      <th>extension</th>\n",
       "      <th>photo</th>\n",
       "      <th>notes</th>\n",
       "      <th>reports_to</th>\n",
       "      <th>photo_path</th>\n",
       "    </tr>\n",
       "  </thead>\n",
       "  <tbody>\n",
       "    <tr>\n",
       "      <th>0</th>\n",
       "      <td>1</td>\n",
       "      <td>Davolio</td>\n",
       "      <td>Nancy</td>\n",
       "      <td>Sales Representative</td>\n",
       "      <td>Ms.</td>\n",
       "      <td>1948-12-08</td>\n",
       "      <td>1992-05-01</td>\n",
       "      <td>507 - 20th Ave. E.\\nApt. 2A</td>\n",
       "      <td>Seattle</td>\n",
       "      <td>WA</td>\n",
       "      <td>98122</td>\n",
       "      <td>USA</td>\n",
       "      <td>(206) 555-9857</td>\n",
       "      <td>5467</td>\n",
       "      <td>\\x</td>\n",
       "      <td>Education includes a BA in psychology from Col...</td>\n",
       "      <td>2.0</td>\n",
       "      <td>http://accweb/emmployees/davolio.bmp</td>\n",
       "    </tr>\n",
       "    <tr>\n",
       "      <th>1</th>\n",
       "      <td>2</td>\n",
       "      <td>Fuller</td>\n",
       "      <td>Andrew</td>\n",
       "      <td>Vice President, Sales</td>\n",
       "      <td>Dr.</td>\n",
       "      <td>1952-02-19</td>\n",
       "      <td>1992-08-14</td>\n",
       "      <td>908 W. Capital Way</td>\n",
       "      <td>Tacoma</td>\n",
       "      <td>WA</td>\n",
       "      <td>98401</td>\n",
       "      <td>USA</td>\n",
       "      <td>(206) 555-9482</td>\n",
       "      <td>3457</td>\n",
       "      <td>\\x</td>\n",
       "      <td>Andrew received his BTS commercial in 1974 and...</td>\n",
       "      <td>NaN</td>\n",
       "      <td>http://accweb/emmployees/fuller.bmp</td>\n",
       "    </tr>\n",
       "    <tr>\n",
       "      <th>2</th>\n",
       "      <td>3</td>\n",
       "      <td>Leverling</td>\n",
       "      <td>Janet</td>\n",
       "      <td>Sales Representative</td>\n",
       "      <td>Ms.</td>\n",
       "      <td>1963-08-30</td>\n",
       "      <td>1992-04-01</td>\n",
       "      <td>722 Moss Bay Blvd.</td>\n",
       "      <td>Kirkland</td>\n",
       "      <td>WA</td>\n",
       "      <td>98033</td>\n",
       "      <td>USA</td>\n",
       "      <td>(206) 555-3412</td>\n",
       "      <td>3355</td>\n",
       "      <td>\\x</td>\n",
       "      <td>Janet has a BS degree in chemistry from Boston...</td>\n",
       "      <td>2.0</td>\n",
       "      <td>http://accweb/emmployees/leverling.bmp</td>\n",
       "    </tr>\n",
       "    <tr>\n",
       "      <th>3</th>\n",
       "      <td>4</td>\n",
       "      <td>Peacock</td>\n",
       "      <td>Margaret</td>\n",
       "      <td>Sales Representative</td>\n",
       "      <td>Mrs.</td>\n",
       "      <td>1937-09-19</td>\n",
       "      <td>1993-05-03</td>\n",
       "      <td>4110 Old Redmond Rd.</td>\n",
       "      <td>Redmond</td>\n",
       "      <td>WA</td>\n",
       "      <td>98052</td>\n",
       "      <td>USA</td>\n",
       "      <td>(206) 555-8122</td>\n",
       "      <td>5176</td>\n",
       "      <td>\\x</td>\n",
       "      <td>Margaret holds a BA in English literature from...</td>\n",
       "      <td>2.0</td>\n",
       "      <td>http://accweb/emmployees/peacock.bmp</td>\n",
       "    </tr>\n",
       "    <tr>\n",
       "      <th>4</th>\n",
       "      <td>5</td>\n",
       "      <td>Buchanan</td>\n",
       "      <td>Steven</td>\n",
       "      <td>Sales Manager</td>\n",
       "      <td>Mr.</td>\n",
       "      <td>1955-03-04</td>\n",
       "      <td>1993-10-17</td>\n",
       "      <td>14 Garrett Hill</td>\n",
       "      <td>London</td>\n",
       "      <td>NaN</td>\n",
       "      <td>SW1 8JR</td>\n",
       "      <td>UK</td>\n",
       "      <td>(71) 555-4848</td>\n",
       "      <td>3453</td>\n",
       "      <td>\\x</td>\n",
       "      <td>Steven Buchanan graduated from St. Andrews Uni...</td>\n",
       "      <td>2.0</td>\n",
       "      <td>http://accweb/emmployees/buchanan.bmp</td>\n",
       "    </tr>\n",
       "    <tr>\n",
       "      <th>5</th>\n",
       "      <td>6</td>\n",
       "      <td>Suyama</td>\n",
       "      <td>Michael</td>\n",
       "      <td>Sales Representative</td>\n",
       "      <td>Mr.</td>\n",
       "      <td>1963-07-02</td>\n",
       "      <td>1993-10-17</td>\n",
       "      <td>Coventry House\\nMiner Rd.</td>\n",
       "      <td>London</td>\n",
       "      <td>NaN</td>\n",
       "      <td>EC2 7JR</td>\n",
       "      <td>UK</td>\n",
       "      <td>(71) 555-7773</td>\n",
       "      <td>428</td>\n",
       "      <td>\\x</td>\n",
       "      <td>Michael is a graduate of Sussex University (MA...</td>\n",
       "      <td>5.0</td>\n",
       "      <td>http://accweb/emmployees/davolio.bmp</td>\n",
       "    </tr>\n",
       "    <tr>\n",
       "      <th>6</th>\n",
       "      <td>7</td>\n",
       "      <td>King</td>\n",
       "      <td>Robert</td>\n",
       "      <td>Sales Representative</td>\n",
       "      <td>Mr.</td>\n",
       "      <td>1960-05-29</td>\n",
       "      <td>1994-01-02</td>\n",
       "      <td>Edgeham Hollow\\nWinchester Way</td>\n",
       "      <td>London</td>\n",
       "      <td>NaN</td>\n",
       "      <td>RG1 9SP</td>\n",
       "      <td>UK</td>\n",
       "      <td>(71) 555-5598</td>\n",
       "      <td>465</td>\n",
       "      <td>\\x</td>\n",
       "      <td>Robert King served in the Peace Corps and trav...</td>\n",
       "      <td>5.0</td>\n",
       "      <td>http://accweb/emmployees/davolio.bmp</td>\n",
       "    </tr>\n",
       "    <tr>\n",
       "      <th>7</th>\n",
       "      <td>8</td>\n",
       "      <td>Callahan</td>\n",
       "      <td>Laura</td>\n",
       "      <td>Inside Sales Coordinator</td>\n",
       "      <td>Ms.</td>\n",
       "      <td>1958-01-09</td>\n",
       "      <td>1994-03-05</td>\n",
       "      <td>4726 - 11th Ave. N.E.</td>\n",
       "      <td>Seattle</td>\n",
       "      <td>WA</td>\n",
       "      <td>98105</td>\n",
       "      <td>USA</td>\n",
       "      <td>(206) 555-1189</td>\n",
       "      <td>2344</td>\n",
       "      <td>\\x</td>\n",
       "      <td>Laura received a BA in psychology from the Uni...</td>\n",
       "      <td>2.0</td>\n",
       "      <td>http://accweb/emmployees/davolio.bmp</td>\n",
       "    </tr>\n",
       "    <tr>\n",
       "      <th>8</th>\n",
       "      <td>9</td>\n",
       "      <td>Dodsworth</td>\n",
       "      <td>Anne</td>\n",
       "      <td>Sales Representative</td>\n",
       "      <td>Ms.</td>\n",
       "      <td>1966-01-27</td>\n",
       "      <td>1994-11-15</td>\n",
       "      <td>7 Houndstooth Rd.</td>\n",
       "      <td>London</td>\n",
       "      <td>NaN</td>\n",
       "      <td>WG2 7LT</td>\n",
       "      <td>UK</td>\n",
       "      <td>(71) 555-4444</td>\n",
       "      <td>452</td>\n",
       "      <td>\\x</td>\n",
       "      <td>Anne has a BA degree in English from St. Lawre...</td>\n",
       "      <td>5.0</td>\n",
       "      <td>http://accweb/emmployees/davolio.bmp</td>\n",
       "    </tr>\n",
       "  </tbody>\n",
       "</table>\n",
       "</div>"
      ],
      "text/plain": [
       "   employee_id  last_name first_name                     title  \\\n",
       "0            1    Davolio      Nancy      Sales Representative   \n",
       "1            2     Fuller     Andrew     Vice President, Sales   \n",
       "2            3  Leverling      Janet      Sales Representative   \n",
       "3            4    Peacock   Margaret      Sales Representative   \n",
       "4            5   Buchanan     Steven             Sales Manager   \n",
       "5            6     Suyama    Michael      Sales Representative   \n",
       "6            7       King     Robert      Sales Representative   \n",
       "7            8   Callahan      Laura  Inside Sales Coordinator   \n",
       "8            9  Dodsworth       Anne      Sales Representative   \n",
       "\n",
       "  title_of_courtesy  birth_date   hire_date                         address  \\\n",
       "0               Ms.  1948-12-08  1992-05-01     507 - 20th Ave. E.\\nApt. 2A   \n",
       "1               Dr.  1952-02-19  1992-08-14              908 W. Capital Way   \n",
       "2               Ms.  1963-08-30  1992-04-01              722 Moss Bay Blvd.   \n",
       "3              Mrs.  1937-09-19  1993-05-03            4110 Old Redmond Rd.   \n",
       "4               Mr.  1955-03-04  1993-10-17                 14 Garrett Hill   \n",
       "5               Mr.  1963-07-02  1993-10-17       Coventry House\\nMiner Rd.   \n",
       "6               Mr.  1960-05-29  1994-01-02  Edgeham Hollow\\nWinchester Way   \n",
       "7               Ms.  1958-01-09  1994-03-05           4726 - 11th Ave. N.E.   \n",
       "8               Ms.  1966-01-27  1994-11-15               7 Houndstooth Rd.   \n",
       "\n",
       "       city region postal_code country      home_phone  extension photo  \\\n",
       "0   Seattle     WA       98122     USA  (206) 555-9857       5467    \\x   \n",
       "1    Tacoma     WA       98401     USA  (206) 555-9482       3457    \\x   \n",
       "2  Kirkland     WA       98033     USA  (206) 555-3412       3355    \\x   \n",
       "3   Redmond     WA       98052     USA  (206) 555-8122       5176    \\x   \n",
       "4    London    NaN     SW1 8JR      UK   (71) 555-4848       3453    \\x   \n",
       "5    London    NaN     EC2 7JR      UK   (71) 555-7773        428    \\x   \n",
       "6    London    NaN     RG1 9SP      UK   (71) 555-5598        465    \\x   \n",
       "7   Seattle     WA       98105     USA  (206) 555-1189       2344    \\x   \n",
       "8    London    NaN     WG2 7LT      UK   (71) 555-4444        452    \\x   \n",
       "\n",
       "                                               notes  reports_to  \\\n",
       "0  Education includes a BA in psychology from Col...         2.0   \n",
       "1  Andrew received his BTS commercial in 1974 and...         NaN   \n",
       "2  Janet has a BS degree in chemistry from Boston...         2.0   \n",
       "3  Margaret holds a BA in English literature from...         2.0   \n",
       "4  Steven Buchanan graduated from St. Andrews Uni...         2.0   \n",
       "5  Michael is a graduate of Sussex University (MA...         5.0   \n",
       "6  Robert King served in the Peace Corps and trav...         5.0   \n",
       "7  Laura received a BA in psychology from the Uni...         2.0   \n",
       "8  Anne has a BA degree in English from St. Lawre...         5.0   \n",
       "\n",
       "                               photo_path  \n",
       "0    http://accweb/emmployees/davolio.bmp  \n",
       "1     http://accweb/emmployees/fuller.bmp  \n",
       "2  http://accweb/emmployees/leverling.bmp  \n",
       "3    http://accweb/emmployees/peacock.bmp  \n",
       "4   http://accweb/emmployees/buchanan.bmp  \n",
       "5    http://accweb/emmployees/davolio.bmp  \n",
       "6    http://accweb/emmployees/davolio.bmp  \n",
       "7    http://accweb/emmployees/davolio.bmp  \n",
       "8    http://accweb/emmployees/davolio.bmp  "
      ]
     },
     "execution_count": 136,
     "metadata": {},
     "output_type": "execute_result"
    }
   ],
   "source": [
    "northwind_employees = pd.read_csv('employees.csv',error_bad_lines=False,sep=\";\",engine='python')\n",
    "northwind_employees.head(10)"
   ]
  },
  {
   "cell_type": "code",
   "execution_count": 137,
   "metadata": {},
   "outputs": [
    {
     "name": "stdout",
     "output_type": "stream",
     "text": [
      "Help on function scatter_geo in module plotly.express._chart_types:\n",
      "\n",
      "scatter_geo(data_frame=None, lat=None, lon=None, locations=None, locationmode=None, geojson=None, featureidkey=None, color=None, text=None, symbol=None, facet_row=None, facet_col=None, facet_col_wrap=0, facet_row_spacing=None, facet_col_spacing=None, hover_name=None, hover_data=None, custom_data=None, size=None, animation_frame=None, animation_group=None, category_orders=None, labels=None, color_discrete_sequence=None, color_discrete_map=None, color_continuous_scale=None, range_color=None, color_continuous_midpoint=None, symbol_sequence=None, symbol_map=None, opacity=None, size_max=None, projection=None, scope=None, center=None, fitbounds=None, basemap_visible=None, title=None, template=None, width=None, height=None)\n",
      "        In a geographic scatter plot, each row of `data_frame` is represented\n",
      "        by a symbol mark on a map.\n",
      "        \n",
      "    Parameters\n",
      "    ----------\n",
      "    data_frame: DataFrame or array-like or dict\n",
      "        This argument needs to be passed for column names (and not keyword\n",
      "        names) to be used. Array-like and dict are tranformed internally to a\n",
      "        pandas DataFrame. Optional: if missing, a DataFrame gets constructed\n",
      "        under the hood using the other arguments.\n",
      "    lat: str or int or Series or array-like\n",
      "        Either a name of a column in `data_frame`, or a pandas Series or\n",
      "        array_like object. Values from this column or array_like are used to\n",
      "        position marks according to latitude on a map.\n",
      "    lon: str or int or Series or array-like\n",
      "        Either a name of a column in `data_frame`, or a pandas Series or\n",
      "        array_like object. Values from this column or array_like are used to\n",
      "        position marks according to longitude on a map.\n",
      "    locations: str or int or Series or array-like\n",
      "        Either a name of a column in `data_frame`, or a pandas Series or\n",
      "        array_like object. Values from this column or array_like are to be\n",
      "        interpreted according to `locationmode` and mapped to\n",
      "        longitude/latitude.\n",
      "    locationmode: str\n",
      "        One of 'ISO-3', 'USA-states', or 'country names' Determines the set of\n",
      "        locations used to match entries in `locations` to regions on the map.\n",
      "    geojson: GeoJSON-formatted dict\n",
      "        Must contain a Polygon feature collection, with IDs, which are\n",
      "        references from `locations`.\n",
      "    featureidkey: str (default: `'id'`)\n",
      "        Path to field in GeoJSON feature object with which to match the values\n",
      "        passed in to `locations`.The most common alternative to the default is\n",
      "        of the form `'properties.<key>`.\n",
      "    color: str or int or Series or array-like\n",
      "        Either a name of a column in `data_frame`, or a pandas Series or\n",
      "        array_like object. Values from this column or array_like are used to\n",
      "        assign color to marks.\n",
      "    text: str or int or Series or array-like\n",
      "        Either a name of a column in `data_frame`, or a pandas Series or\n",
      "        array_like object. Values from this column or array_like appear in the\n",
      "        figure as text labels.\n",
      "    symbol: str or int or Series or array-like\n",
      "        Either a name of a column in `data_frame`, or a pandas Series or\n",
      "        array_like object. Values from this column or array_like are used to\n",
      "        assign symbols to marks.\n",
      "    facet_row: str or int or Series or array-like\n",
      "        Either a name of a column in `data_frame`, or a pandas Series or\n",
      "        array_like object. Values from this column or array_like are used to\n",
      "        assign marks to facetted subplots in the vertical direction.\n",
      "    facet_col: str or int or Series or array-like\n",
      "        Either a name of a column in `data_frame`, or a pandas Series or\n",
      "        array_like object. Values from this column or array_like are used to\n",
      "        assign marks to facetted subplots in the horizontal direction.\n",
      "    facet_col_wrap: int\n",
      "        Maximum number of facet columns. Wraps the column variable at this\n",
      "        width, so that the column facets span multiple rows. Ignored if 0, and\n",
      "        forced to 0 if `facet_row` or a `marginal` is set.\n",
      "    facet_row_spacing: float between 0 and 1\n",
      "        Spacing between facet rows, in paper units. Default is 0.03 or 0.0.7\n",
      "        when facet_col_wrap is used.\n",
      "    facet_col_spacing: float between 0 and 1\n",
      "        Spacing between facet columns, in paper units Default is 0.02.\n",
      "    hover_name: str or int or Series or array-like\n",
      "        Either a name of a column in `data_frame`, or a pandas Series or\n",
      "        array_like object. Values from this column or array_like appear in bold\n",
      "        in the hover tooltip.\n",
      "    hover_data: list of str or int, or Series or array-like, or dict\n",
      "        Either a list of names of columns in `data_frame`, or pandas Series, or\n",
      "        array_like objects or a dict with column names as keys, with values\n",
      "        True (for default formatting) False (in order to remove this column\n",
      "        from hover information), or a formatting string, for example ':.3f' or\n",
      "        '|%a' or list-like data to appear in the hover tooltip or tuples with a\n",
      "        bool or formatting string as first element, and list-like data to\n",
      "        appear in hover as second element Values from these columns appear as\n",
      "        extra data in the hover tooltip.\n",
      "    custom_data: list of str or int, or Series or array-like\n",
      "        Either names of columns in `data_frame`, or pandas Series, or\n",
      "        array_like objects Values from these columns are extra data, to be used\n",
      "        in widgets or Dash callbacks for example. This data is not user-visible\n",
      "        but is included in events emitted by the figure (lasso selection etc.)\n",
      "    size: str or int or Series or array-like\n",
      "        Either a name of a column in `data_frame`, or a pandas Series or\n",
      "        array_like object. Values from this column or array_like are used to\n",
      "        assign mark sizes.\n",
      "    animation_frame: str or int or Series or array-like\n",
      "        Either a name of a column in `data_frame`, or a pandas Series or\n",
      "        array_like object. Values from this column or array_like are used to\n",
      "        assign marks to animation frames.\n",
      "    animation_group: str or int or Series or array-like\n",
      "        Either a name of a column in `data_frame`, or a pandas Series or\n",
      "        array_like object. Values from this column or array_like are used to\n",
      "        provide object-constancy across animation frames: rows with matching\n",
      "        `animation_group`s will be treated as if they describe the same object\n",
      "        in each frame.\n",
      "    category_orders: dict with str keys and list of str values (default `{}`)\n",
      "        By default, in Python 3.6+, the order of categorical values in axes,\n",
      "        legends and facets depends on the order in which these values are first\n",
      "        encountered in `data_frame` (and no order is guaranteed by default in\n",
      "        Python below 3.6). This parameter is used to force a specific ordering\n",
      "        of values per column. The keys of this dict should correspond to column\n",
      "        names, and the values should be lists of strings corresponding to the\n",
      "        specific display order desired.\n",
      "    labels: dict with str keys and str values (default `{}`)\n",
      "        By default, column names are used in the figure for axis titles, legend\n",
      "        entries and hovers. This parameter allows this to be overridden. The\n",
      "        keys of this dict should correspond to column names, and the values\n",
      "        should correspond to the desired label to be displayed.\n",
      "    color_discrete_sequence: list of str\n",
      "        Strings should define valid CSS-colors. When `color` is set and the\n",
      "        values in the corresponding column are not numeric, values in that\n",
      "        column are assigned colors by cycling through `color_discrete_sequence`\n",
      "        in the order described in `category_orders`, unless the value of\n",
      "        `color` is a key in `color_discrete_map`. Various useful color\n",
      "        sequences are available in the `plotly.express.colors` submodules,\n",
      "        specifically `plotly.express.colors.qualitative`.\n",
      "    color_discrete_map: dict with str keys and str values (default `{}`)\n",
      "        String values should define valid CSS-colors Used to override\n",
      "        `color_discrete_sequence` to assign a specific colors to marks\n",
      "        corresponding with specific values. Keys in `color_discrete_map` should\n",
      "        be values in the column denoted by `color`. Alternatively, if the\n",
      "        values of `color` are valid colors, the string `'identity'` may be\n",
      "        passed to cause them to be used directly.\n",
      "    color_continuous_scale: list of str\n",
      "        Strings should define valid CSS-colors This list is used to build a\n",
      "        continuous color scale when the column denoted by `color` contains\n",
      "        numeric data. Various useful color scales are available in the\n",
      "        `plotly.express.colors` submodules, specifically\n",
      "        `plotly.express.colors.sequential`, `plotly.express.colors.diverging`\n",
      "        and `plotly.express.colors.cyclical`.\n",
      "    range_color: list of two numbers\n",
      "        If provided, overrides auto-scaling on the continuous color scale.\n",
      "    color_continuous_midpoint: number (default `None`)\n",
      "        If set, computes the bounds of the continuous color scale to have the\n",
      "        desired midpoint. Setting this value is recommended when using\n",
      "        `plotly.express.colors.diverging` color scales as the inputs to\n",
      "        `color_continuous_scale`.\n",
      "    symbol_sequence: list of str\n",
      "        Strings should define valid plotly.js symbols. When `symbol` is set,\n",
      "        values in that column are assigned symbols by cycling through\n",
      "        `symbol_sequence` in the order described in `category_orders`, unless\n",
      "        the value of `symbol` is a key in `symbol_map`.\n",
      "    symbol_map: dict with str keys and str values (default `{}`)\n",
      "        String values should define plotly.js symbols Used to override\n",
      "        `symbol_sequence` to assign a specific symbols to marks corresponding\n",
      "        with specific values. Keys in `symbol_map` should be values in the\n",
      "        column denoted by `symbol`. Alternatively, if the values of `symbol`\n",
      "        are valid symbol names, the string `'identity'` may be passed to cause\n",
      "        them to be used directly.\n",
      "    opacity: float\n",
      "        Value between 0 and 1. Sets the opacity for markers.\n",
      "    size_max: int (default `20`)\n",
      "        Set the maximum mark size when using `size`.\n",
      "    projection: str \n",
      "        One of `'equirectangular'`, `'mercator'`, `'orthographic'`, `'natural\n",
      "        earth'`, `'kavrayskiy7'`, `'miller'`, `'robinson'`, `'eckert4'`,\n",
      "        `'azimuthal equal area'`, `'azimuthal equidistant'`, `'conic equal\n",
      "        area'`, `'conic conformal'`, `'conic equidistant'`, `'gnomonic'`,\n",
      "        `'stereographic'`, `'mollweide'`, `'hammer'`, `'transverse mercator'`,\n",
      "        `'albers usa'`, `'winkel tripel'`, `'aitoff'`, or `'sinusoidal'`Default\n",
      "        depends on `scope`.\n",
      "    scope: str (default `'world'`).\n",
      "        One of `'world'`, `'usa'`, `'europe'`, `'asia'`, `'africa'`, `'north\n",
      "        america'`, or `'south america'`Default is `'world'` unless `projection`\n",
      "        is set to `'albers usa'`, which forces `'usa'`.\n",
      "    center: dict\n",
      "        Dict keys are `'lat'` and `'lon'` Sets the center point of the map.\n",
      "    fitbounds: str (default `False`).\n",
      "        One of `False`, `locations` or `geojson`.\n",
      "    basemap_visible: bool\n",
      "        Force the basemap visibility.\n",
      "    title: str\n",
      "        The figure title.\n",
      "    template: str or dict or plotly.graph_objects.layout.Template instance\n",
      "        The figure template name (must be a key in plotly.io.templates) or\n",
      "        definition.\n",
      "    width: int (default `None`)\n",
      "        The figure width in pixels.\n",
      "    height: int (default `None`)\n",
      "        The figure height in pixels.\n",
      "    \n",
      "    Returns\n",
      "    -------\n",
      "        plotly.graph_objects.Figure\n",
      "\n"
     ]
    }
   ],
   "source": [
    "help(px.scatter_geo)"
   ]
  },
  {
   "cell_type": "code",
   "execution_count": 146,
   "metadata": {},
   "outputs": [
    {
     "data": {
      "application/vnd.plotly.v1+json": {
       "config": {
        "plotlyServerURL": "https://plot.ly"
       },
       "data": [
        {
         "customdata": [
          [
           "Nancy",
           "Sales Representative",
           "Ms.",
           "Seattle",
           "507 - 20th Ave. E.\\nApt. 2A",
           "(206) 555-9857"
          ]
         ],
         "geo": "geo",
         "hovertemplate": "country=%{location}<br>hire_date=1992-05-01<br>first_name=%{customdata[0]}<br>title=%{customdata[1]}<br>title_of_courtesy=%{customdata[2]}<br>city=%{customdata[3]}<br>address=%{customdata[4]}<br>home_phone=%{customdata[5]}<extra></extra>",
         "legendgroup": "USA",
         "locations": [
          "USA"
         ],
         "marker": {
          "color": "#636efa",
          "opacity": 0.18,
          "symbol": "circle"
         },
         "mode": "markers",
         "name": "USA",
         "showlegend": true,
         "type": "scattergeo"
        }
       ],
       "frames": [
        {
         "data": [
          {
           "customdata": [
            [
             "Nancy",
             "Sales Representative",
             "Ms.",
             "Seattle",
             "507 - 20th Ave. E.\\nApt. 2A",
             "(206) 555-9857"
            ]
           ],
           "geo": "geo",
           "hovertemplate": "country=%{location}<br>hire_date=1992-05-01<br>first_name=%{customdata[0]}<br>title=%{customdata[1]}<br>title_of_courtesy=%{customdata[2]}<br>city=%{customdata[3]}<br>address=%{customdata[4]}<br>home_phone=%{customdata[5]}<extra></extra>",
           "legendgroup": "USA",
           "locations": [
            "USA"
           ],
           "marker": {
            "color": "#636efa",
            "opacity": 0.18,
            "symbol": "circle"
           },
           "mode": "markers",
           "name": "USA",
           "showlegend": true,
           "type": "scattergeo"
          }
         ],
         "name": "1992-05-01"
        },
        {
         "data": [
          {
           "customdata": [
            [
             "Andrew",
             "Vice President, Sales",
             "Dr.",
             "Tacoma",
             "908 W. Capital Way",
             "(206) 555-9482"
            ]
           ],
           "geo": "geo",
           "hovertemplate": "country=%{location}<br>hire_date=1992-08-14<br>first_name=%{customdata[0]}<br>title=%{customdata[1]}<br>title_of_courtesy=%{customdata[2]}<br>city=%{customdata[3]}<br>address=%{customdata[4]}<br>home_phone=%{customdata[5]}<extra></extra>",
           "legendgroup": "USA",
           "locations": [
            "USA"
           ],
           "marker": {
            "color": "#636efa",
            "opacity": 0.18,
            "symbol": "circle"
           },
           "mode": "markers",
           "name": "USA",
           "showlegend": true,
           "type": "scattergeo"
          }
         ],
         "name": "1992-08-14"
        },
        {
         "data": [
          {
           "customdata": [
            [
             "Janet",
             "Sales Representative",
             "Ms.",
             "Kirkland",
             "722 Moss Bay Blvd.",
             "(206) 555-3412"
            ]
           ],
           "geo": "geo",
           "hovertemplate": "country=%{location}<br>hire_date=1992-04-01<br>first_name=%{customdata[0]}<br>title=%{customdata[1]}<br>title_of_courtesy=%{customdata[2]}<br>city=%{customdata[3]}<br>address=%{customdata[4]}<br>home_phone=%{customdata[5]}<extra></extra>",
           "legendgroup": "USA",
           "locations": [
            "USA"
           ],
           "marker": {
            "color": "#636efa",
            "opacity": 0.18,
            "symbol": "circle"
           },
           "mode": "markers",
           "name": "USA",
           "showlegend": true,
           "type": "scattergeo"
          }
         ],
         "name": "1992-04-01"
        },
        {
         "data": [
          {
           "customdata": [
            [
             "Margaret",
             "Sales Representative",
             "Mrs.",
             "Redmond",
             "4110 Old Redmond Rd.",
             "(206) 555-8122"
            ]
           ],
           "geo": "geo",
           "hovertemplate": "country=%{location}<br>hire_date=1993-05-03<br>first_name=%{customdata[0]}<br>title=%{customdata[1]}<br>title_of_courtesy=%{customdata[2]}<br>city=%{customdata[3]}<br>address=%{customdata[4]}<br>home_phone=%{customdata[5]}<extra></extra>",
           "legendgroup": "USA",
           "locations": [
            "USA"
           ],
           "marker": {
            "color": "#636efa",
            "opacity": 0.18,
            "symbol": "circle"
           },
           "mode": "markers",
           "name": "USA",
           "showlegend": true,
           "type": "scattergeo"
          }
         ],
         "name": "1993-05-03"
        },
        {
         "data": [
          {
           "customdata": [
            [
             "Steven",
             "Sales Manager",
             "Mr.",
             "London",
             "14 Garrett Hill",
             "(71) 555-4848"
            ],
            [
             "Michael",
             "Sales Representative",
             "Mr.",
             "London",
             "Coventry House\\nMiner Rd.",
             "(71) 555-7773"
            ]
           ],
           "geo": "geo",
           "hovertemplate": "country=%{location}<br>hire_date=1993-10-17<br>first_name=%{customdata[0]}<br>title=%{customdata[1]}<br>title_of_courtesy=%{customdata[2]}<br>city=%{customdata[3]}<br>address=%{customdata[4]}<br>home_phone=%{customdata[5]}<extra></extra>",
           "legendgroup": "UK",
           "locations": [
            "UK",
            "UK"
           ],
           "marker": {
            "color": "#EF553B",
            "opacity": 0.18,
            "symbol": "circle"
           },
           "mode": "markers",
           "name": "UK",
           "showlegend": true,
           "type": "scattergeo"
          }
         ],
         "name": "1993-10-17"
        },
        {
         "data": [
          {
           "customdata": [
            [
             "Robert",
             "Sales Representative",
             "Mr.",
             "London",
             "Edgeham Hollow\\nWinchester Way",
             "(71) 555-5598"
            ]
           ],
           "geo": "geo",
           "hovertemplate": "country=%{location}<br>hire_date=1994-01-02<br>first_name=%{customdata[0]}<br>title=%{customdata[1]}<br>title_of_courtesy=%{customdata[2]}<br>city=%{customdata[3]}<br>address=%{customdata[4]}<br>home_phone=%{customdata[5]}<extra></extra>",
           "legendgroup": "UK",
           "locations": [
            "UK"
           ],
           "marker": {
            "color": "#EF553B",
            "opacity": 0.18,
            "symbol": "circle"
           },
           "mode": "markers",
           "name": "UK",
           "showlegend": true,
           "type": "scattergeo"
          }
         ],
         "name": "1994-01-02"
        },
        {
         "data": [
          {
           "customdata": [
            [
             "Laura",
             "Inside Sales Coordinator",
             "Ms.",
             "Seattle",
             "4726 - 11th Ave. N.E.",
             "(206) 555-1189"
            ]
           ],
           "geo": "geo",
           "hovertemplate": "country=%{location}<br>hire_date=1994-03-05<br>first_name=%{customdata[0]}<br>title=%{customdata[1]}<br>title_of_courtesy=%{customdata[2]}<br>city=%{customdata[3]}<br>address=%{customdata[4]}<br>home_phone=%{customdata[5]}<extra></extra>",
           "legendgroup": "USA",
           "locations": [
            "USA"
           ],
           "marker": {
            "color": "#636efa",
            "opacity": 0.18,
            "symbol": "circle"
           },
           "mode": "markers",
           "name": "USA",
           "showlegend": true,
           "type": "scattergeo"
          }
         ],
         "name": "1994-03-05"
        },
        {
         "data": [
          {
           "customdata": [
            [
             "Anne",
             "Sales Representative",
             "Ms.",
             "London",
             "7 Houndstooth Rd.",
             "(71) 555-4444"
            ]
           ],
           "geo": "geo",
           "hovertemplate": "country=%{location}<br>hire_date=1994-11-15<br>first_name=%{customdata[0]}<br>title=%{customdata[1]}<br>title_of_courtesy=%{customdata[2]}<br>city=%{customdata[3]}<br>address=%{customdata[4]}<br>home_phone=%{customdata[5]}<extra></extra>",
           "legendgroup": "UK",
           "locations": [
            "UK"
           ],
           "marker": {
            "color": "#EF553B",
            "opacity": 0.18,
            "symbol": "circle"
           },
           "mode": "markers",
           "name": "UK",
           "showlegend": true,
           "type": "scattergeo"
          }
         ],
         "name": "1994-11-15"
        }
       ],
       "layout": {
        "geo": {
         "center": {},
         "domain": {
          "x": [
           0,
           1
          ],
          "y": [
           0,
           1
          ]
         },
         "projection": {
          "type": "orthographic"
         }
        },
        "legend": {
         "title": {
          "text": "country"
         },
         "tracegroupgap": 0
        },
        "sliders": [
         {
          "active": 0,
          "currentvalue": {
           "prefix": "hire_date="
          },
          "len": 0.9,
          "pad": {
           "b": 10,
           "t": 60
          },
          "steps": [
           {
            "args": [
             [
              "1992-05-01"
             ],
             {
              "frame": {
               "duration": 0,
               "redraw": true
              },
              "fromcurrent": true,
              "mode": "immediate",
              "transition": {
               "duration": 0,
               "easing": "linear"
              }
             }
            ],
            "label": "1992-05-01",
            "method": "animate"
           },
           {
            "args": [
             [
              "1992-08-14"
             ],
             {
              "frame": {
               "duration": 0,
               "redraw": true
              },
              "fromcurrent": true,
              "mode": "immediate",
              "transition": {
               "duration": 0,
               "easing": "linear"
              }
             }
            ],
            "label": "1992-08-14",
            "method": "animate"
           },
           {
            "args": [
             [
              "1992-04-01"
             ],
             {
              "frame": {
               "duration": 0,
               "redraw": true
              },
              "fromcurrent": true,
              "mode": "immediate",
              "transition": {
               "duration": 0,
               "easing": "linear"
              }
             }
            ],
            "label": "1992-04-01",
            "method": "animate"
           },
           {
            "args": [
             [
              "1993-05-03"
             ],
             {
              "frame": {
               "duration": 0,
               "redraw": true
              },
              "fromcurrent": true,
              "mode": "immediate",
              "transition": {
               "duration": 0,
               "easing": "linear"
              }
             }
            ],
            "label": "1993-05-03",
            "method": "animate"
           },
           {
            "args": [
             [
              "1993-10-17"
             ],
             {
              "frame": {
               "duration": 0,
               "redraw": true
              },
              "fromcurrent": true,
              "mode": "immediate",
              "transition": {
               "duration": 0,
               "easing": "linear"
              }
             }
            ],
            "label": "1993-10-17",
            "method": "animate"
           },
           {
            "args": [
             [
              "1994-01-02"
             ],
             {
              "frame": {
               "duration": 0,
               "redraw": true
              },
              "fromcurrent": true,
              "mode": "immediate",
              "transition": {
               "duration": 0,
               "easing": "linear"
              }
             }
            ],
            "label": "1994-01-02",
            "method": "animate"
           },
           {
            "args": [
             [
              "1994-03-05"
             ],
             {
              "frame": {
               "duration": 0,
               "redraw": true
              },
              "fromcurrent": true,
              "mode": "immediate",
              "transition": {
               "duration": 0,
               "easing": "linear"
              }
             }
            ],
            "label": "1994-03-05",
            "method": "animate"
           },
           {
            "args": [
             [
              "1994-11-15"
             ],
             {
              "frame": {
               "duration": 0,
               "redraw": true
              },
              "fromcurrent": true,
              "mode": "immediate",
              "transition": {
               "duration": 0,
               "easing": "linear"
              }
             }
            ],
            "label": "1994-11-15",
            "method": "animate"
           }
          ],
          "x": 0.1,
          "xanchor": "left",
          "y": 0,
          "yanchor": "top"
         }
        ],
        "template": {
         "data": {
          "bar": [
           {
            "error_x": {
             "color": "#2a3f5f"
            },
            "error_y": {
             "color": "#2a3f5f"
            },
            "marker": {
             "line": {
              "color": "#E5ECF6",
              "width": 0.5
             }
            },
            "type": "bar"
           }
          ],
          "barpolar": [
           {
            "marker": {
             "line": {
              "color": "#E5ECF6",
              "width": 0.5
             }
            },
            "type": "barpolar"
           }
          ],
          "carpet": [
           {
            "aaxis": {
             "endlinecolor": "#2a3f5f",
             "gridcolor": "white",
             "linecolor": "white",
             "minorgridcolor": "white",
             "startlinecolor": "#2a3f5f"
            },
            "baxis": {
             "endlinecolor": "#2a3f5f",
             "gridcolor": "white",
             "linecolor": "white",
             "minorgridcolor": "white",
             "startlinecolor": "#2a3f5f"
            },
            "type": "carpet"
           }
          ],
          "choropleth": [
           {
            "colorbar": {
             "outlinewidth": 0,
             "ticks": ""
            },
            "type": "choropleth"
           }
          ],
          "contour": [
           {
            "colorbar": {
             "outlinewidth": 0,
             "ticks": ""
            },
            "colorscale": [
             [
              0,
              "#0d0887"
             ],
             [
              0.1111111111111111,
              "#46039f"
             ],
             [
              0.2222222222222222,
              "#7201a8"
             ],
             [
              0.3333333333333333,
              "#9c179e"
             ],
             [
              0.4444444444444444,
              "#bd3786"
             ],
             [
              0.5555555555555556,
              "#d8576b"
             ],
             [
              0.6666666666666666,
              "#ed7953"
             ],
             [
              0.7777777777777778,
              "#fb9f3a"
             ],
             [
              0.8888888888888888,
              "#fdca26"
             ],
             [
              1,
              "#f0f921"
             ]
            ],
            "type": "contour"
           }
          ],
          "contourcarpet": [
           {
            "colorbar": {
             "outlinewidth": 0,
             "ticks": ""
            },
            "type": "contourcarpet"
           }
          ],
          "heatmap": [
           {
            "colorbar": {
             "outlinewidth": 0,
             "ticks": ""
            },
            "colorscale": [
             [
              0,
              "#0d0887"
             ],
             [
              0.1111111111111111,
              "#46039f"
             ],
             [
              0.2222222222222222,
              "#7201a8"
             ],
             [
              0.3333333333333333,
              "#9c179e"
             ],
             [
              0.4444444444444444,
              "#bd3786"
             ],
             [
              0.5555555555555556,
              "#d8576b"
             ],
             [
              0.6666666666666666,
              "#ed7953"
             ],
             [
              0.7777777777777778,
              "#fb9f3a"
             ],
             [
              0.8888888888888888,
              "#fdca26"
             ],
             [
              1,
              "#f0f921"
             ]
            ],
            "type": "heatmap"
           }
          ],
          "heatmapgl": [
           {
            "colorbar": {
             "outlinewidth": 0,
             "ticks": ""
            },
            "colorscale": [
             [
              0,
              "#0d0887"
             ],
             [
              0.1111111111111111,
              "#46039f"
             ],
             [
              0.2222222222222222,
              "#7201a8"
             ],
             [
              0.3333333333333333,
              "#9c179e"
             ],
             [
              0.4444444444444444,
              "#bd3786"
             ],
             [
              0.5555555555555556,
              "#d8576b"
             ],
             [
              0.6666666666666666,
              "#ed7953"
             ],
             [
              0.7777777777777778,
              "#fb9f3a"
             ],
             [
              0.8888888888888888,
              "#fdca26"
             ],
             [
              1,
              "#f0f921"
             ]
            ],
            "type": "heatmapgl"
           }
          ],
          "histogram": [
           {
            "marker": {
             "colorbar": {
              "outlinewidth": 0,
              "ticks": ""
             }
            },
            "type": "histogram"
           }
          ],
          "histogram2d": [
           {
            "colorbar": {
             "outlinewidth": 0,
             "ticks": ""
            },
            "colorscale": [
             [
              0,
              "#0d0887"
             ],
             [
              0.1111111111111111,
              "#46039f"
             ],
             [
              0.2222222222222222,
              "#7201a8"
             ],
             [
              0.3333333333333333,
              "#9c179e"
             ],
             [
              0.4444444444444444,
              "#bd3786"
             ],
             [
              0.5555555555555556,
              "#d8576b"
             ],
             [
              0.6666666666666666,
              "#ed7953"
             ],
             [
              0.7777777777777778,
              "#fb9f3a"
             ],
             [
              0.8888888888888888,
              "#fdca26"
             ],
             [
              1,
              "#f0f921"
             ]
            ],
            "type": "histogram2d"
           }
          ],
          "histogram2dcontour": [
           {
            "colorbar": {
             "outlinewidth": 0,
             "ticks": ""
            },
            "colorscale": [
             [
              0,
              "#0d0887"
             ],
             [
              0.1111111111111111,
              "#46039f"
             ],
             [
              0.2222222222222222,
              "#7201a8"
             ],
             [
              0.3333333333333333,
              "#9c179e"
             ],
             [
              0.4444444444444444,
              "#bd3786"
             ],
             [
              0.5555555555555556,
              "#d8576b"
             ],
             [
              0.6666666666666666,
              "#ed7953"
             ],
             [
              0.7777777777777778,
              "#fb9f3a"
             ],
             [
              0.8888888888888888,
              "#fdca26"
             ],
             [
              1,
              "#f0f921"
             ]
            ],
            "type": "histogram2dcontour"
           }
          ],
          "mesh3d": [
           {
            "colorbar": {
             "outlinewidth": 0,
             "ticks": ""
            },
            "type": "mesh3d"
           }
          ],
          "parcoords": [
           {
            "line": {
             "colorbar": {
              "outlinewidth": 0,
              "ticks": ""
             }
            },
            "type": "parcoords"
           }
          ],
          "pie": [
           {
            "automargin": true,
            "type": "pie"
           }
          ],
          "scatter": [
           {
            "marker": {
             "colorbar": {
              "outlinewidth": 0,
              "ticks": ""
             }
            },
            "type": "scatter"
           }
          ],
          "scatter3d": [
           {
            "line": {
             "colorbar": {
              "outlinewidth": 0,
              "ticks": ""
             }
            },
            "marker": {
             "colorbar": {
              "outlinewidth": 0,
              "ticks": ""
             }
            },
            "type": "scatter3d"
           }
          ],
          "scattercarpet": [
           {
            "marker": {
             "colorbar": {
              "outlinewidth": 0,
              "ticks": ""
             }
            },
            "type": "scattercarpet"
           }
          ],
          "scattergeo": [
           {
            "marker": {
             "colorbar": {
              "outlinewidth": 0,
              "ticks": ""
             }
            },
            "type": "scattergeo"
           }
          ],
          "scattergl": [
           {
            "marker": {
             "colorbar": {
              "outlinewidth": 0,
              "ticks": ""
             }
            },
            "type": "scattergl"
           }
          ],
          "scattermapbox": [
           {
            "marker": {
             "colorbar": {
              "outlinewidth": 0,
              "ticks": ""
             }
            },
            "type": "scattermapbox"
           }
          ],
          "scatterpolar": [
           {
            "marker": {
             "colorbar": {
              "outlinewidth": 0,
              "ticks": ""
             }
            },
            "type": "scatterpolar"
           }
          ],
          "scatterpolargl": [
           {
            "marker": {
             "colorbar": {
              "outlinewidth": 0,
              "ticks": ""
             }
            },
            "type": "scatterpolargl"
           }
          ],
          "scatterternary": [
           {
            "marker": {
             "colorbar": {
              "outlinewidth": 0,
              "ticks": ""
             }
            },
            "type": "scatterternary"
           }
          ],
          "surface": [
           {
            "colorbar": {
             "outlinewidth": 0,
             "ticks": ""
            },
            "colorscale": [
             [
              0,
              "#0d0887"
             ],
             [
              0.1111111111111111,
              "#46039f"
             ],
             [
              0.2222222222222222,
              "#7201a8"
             ],
             [
              0.3333333333333333,
              "#9c179e"
             ],
             [
              0.4444444444444444,
              "#bd3786"
             ],
             [
              0.5555555555555556,
              "#d8576b"
             ],
             [
              0.6666666666666666,
              "#ed7953"
             ],
             [
              0.7777777777777778,
              "#fb9f3a"
             ],
             [
              0.8888888888888888,
              "#fdca26"
             ],
             [
              1,
              "#f0f921"
             ]
            ],
            "type": "surface"
           }
          ],
          "table": [
           {
            "cells": {
             "fill": {
              "color": "#EBF0F8"
             },
             "line": {
              "color": "white"
             }
            },
            "header": {
             "fill": {
              "color": "#C8D4E3"
             },
             "line": {
              "color": "white"
             }
            },
            "type": "table"
           }
          ]
         },
         "layout": {
          "annotationdefaults": {
           "arrowcolor": "#2a3f5f",
           "arrowhead": 0,
           "arrowwidth": 1
          },
          "autotypenumbers": "strict",
          "coloraxis": {
           "colorbar": {
            "outlinewidth": 0,
            "ticks": ""
           }
          },
          "colorscale": {
           "diverging": [
            [
             0,
             "#8e0152"
            ],
            [
             0.1,
             "#c51b7d"
            ],
            [
             0.2,
             "#de77ae"
            ],
            [
             0.3,
             "#f1b6da"
            ],
            [
             0.4,
             "#fde0ef"
            ],
            [
             0.5,
             "#f7f7f7"
            ],
            [
             0.6,
             "#e6f5d0"
            ],
            [
             0.7,
             "#b8e186"
            ],
            [
             0.8,
             "#7fbc41"
            ],
            [
             0.9,
             "#4d9221"
            ],
            [
             1,
             "#276419"
            ]
           ],
           "sequential": [
            [
             0,
             "#0d0887"
            ],
            [
             0.1111111111111111,
             "#46039f"
            ],
            [
             0.2222222222222222,
             "#7201a8"
            ],
            [
             0.3333333333333333,
             "#9c179e"
            ],
            [
             0.4444444444444444,
             "#bd3786"
            ],
            [
             0.5555555555555556,
             "#d8576b"
            ],
            [
             0.6666666666666666,
             "#ed7953"
            ],
            [
             0.7777777777777778,
             "#fb9f3a"
            ],
            [
             0.8888888888888888,
             "#fdca26"
            ],
            [
             1,
             "#f0f921"
            ]
           ],
           "sequentialminus": [
            [
             0,
             "#0d0887"
            ],
            [
             0.1111111111111111,
             "#46039f"
            ],
            [
             0.2222222222222222,
             "#7201a8"
            ],
            [
             0.3333333333333333,
             "#9c179e"
            ],
            [
             0.4444444444444444,
             "#bd3786"
            ],
            [
             0.5555555555555556,
             "#d8576b"
            ],
            [
             0.6666666666666666,
             "#ed7953"
            ],
            [
             0.7777777777777778,
             "#fb9f3a"
            ],
            [
             0.8888888888888888,
             "#fdca26"
            ],
            [
             1,
             "#f0f921"
            ]
           ]
          },
          "colorway": [
           "#636efa",
           "#EF553B",
           "#00cc96",
           "#ab63fa",
           "#FFA15A",
           "#19d3f3",
           "#FF6692",
           "#B6E880",
           "#FF97FF",
           "#FECB52"
          ],
          "font": {
           "color": "#2a3f5f"
          },
          "geo": {
           "bgcolor": "white",
           "lakecolor": "white",
           "landcolor": "#E5ECF6",
           "showlakes": true,
           "showland": true,
           "subunitcolor": "white"
          },
          "hoverlabel": {
           "align": "left"
          },
          "hovermode": "closest",
          "mapbox": {
           "style": "light"
          },
          "paper_bgcolor": "white",
          "plot_bgcolor": "#E5ECF6",
          "polar": {
           "angularaxis": {
            "gridcolor": "white",
            "linecolor": "white",
            "ticks": ""
           },
           "bgcolor": "#E5ECF6",
           "radialaxis": {
            "gridcolor": "white",
            "linecolor": "white",
            "ticks": ""
           }
          },
          "scene": {
           "xaxis": {
            "backgroundcolor": "#E5ECF6",
            "gridcolor": "white",
            "gridwidth": 2,
            "linecolor": "white",
            "showbackground": true,
            "ticks": "",
            "zerolinecolor": "white"
           },
           "yaxis": {
            "backgroundcolor": "#E5ECF6",
            "gridcolor": "white",
            "gridwidth": 2,
            "linecolor": "white",
            "showbackground": true,
            "ticks": "",
            "zerolinecolor": "white"
           },
           "zaxis": {
            "backgroundcolor": "#E5ECF6",
            "gridcolor": "white",
            "gridwidth": 2,
            "linecolor": "white",
            "showbackground": true,
            "ticks": "",
            "zerolinecolor": "white"
           }
          },
          "shapedefaults": {
           "line": {
            "color": "#2a3f5f"
           }
          },
          "ternary": {
           "aaxis": {
            "gridcolor": "white",
            "linecolor": "white",
            "ticks": ""
           },
           "baxis": {
            "gridcolor": "white",
            "linecolor": "white",
            "ticks": ""
           },
           "bgcolor": "#E5ECF6",
           "caxis": {
            "gridcolor": "white",
            "linecolor": "white",
            "ticks": ""
           }
          },
          "title": {
           "x": 0.05
          },
          "xaxis": {
           "automargin": true,
           "gridcolor": "white",
           "linecolor": "white",
           "ticks": "",
           "title": {
            "standoff": 15
           },
           "zerolinecolor": "white",
           "zerolinewidth": 2
          },
          "yaxis": {
           "automargin": true,
           "gridcolor": "white",
           "linecolor": "white",
           "ticks": "",
           "title": {
            "standoff": 15
           },
           "zerolinecolor": "white",
           "zerolinewidth": 2
          }
         }
        },
        "title": {
         "text": "Mapa com panorama interativo"
        },
        "updatemenus": [
         {
          "buttons": [
           {
            "args": [
             null,
             {
              "frame": {
               "duration": 500,
               "redraw": true
              },
              "fromcurrent": true,
              "mode": "immediate",
              "transition": {
               "duration": 500,
               "easing": "linear"
              }
             }
            ],
            "label": "&#9654;",
            "method": "animate"
           },
           {
            "args": [
             [
              null
             ],
             {
              "frame": {
               "duration": 0,
               "redraw": true
              },
              "fromcurrent": true,
              "mode": "immediate",
              "transition": {
               "duration": 0,
               "easing": "linear"
              }
             }
            ],
            "label": "&#9724;",
            "method": "animate"
           }
          ],
          "direction": "left",
          "pad": {
           "r": 10,
           "t": 70
          },
          "showactive": false,
          "type": "buttons",
          "x": 0.1,
          "xanchor": "right",
          "y": 0,
          "yanchor": "top"
         }
        ]
       }
      },
      "text/html": [
       "<div>                            <div id=\"62675f02-579c-462b-8eda-832537b5d082\" class=\"plotly-graph-div\" style=\"height:525px; width:100%;\"></div>            <script type=\"text/javascript\">                require([\"plotly\"], function(Plotly) {                    window.PLOTLYENV=window.PLOTLYENV || {};                                    if (document.getElementById(\"62675f02-579c-462b-8eda-832537b5d082\")) {                    Plotly.newPlot(                        \"62675f02-579c-462b-8eda-832537b5d082\",                        [{\"customdata\": [[\"Nancy\", \"Sales Representative\", \"Ms.\", \"Seattle\", \"507 - 20th Ave. E.\\\\nApt. 2A\", \"(206) 555-9857\"]], \"geo\": \"geo\", \"hovertemplate\": \"country=%{location}<br>hire_date=1992-05-01<br>first_name=%{customdata[0]}<br>title=%{customdata[1]}<br>title_of_courtesy=%{customdata[2]}<br>city=%{customdata[3]}<br>address=%{customdata[4]}<br>home_phone=%{customdata[5]}<extra></extra>\", \"legendgroup\": \"USA\", \"locations\": [\"USA\"], \"marker\": {\"color\": \"#636efa\", \"opacity\": 0.18, \"symbol\": \"circle\"}, \"mode\": \"markers\", \"name\": \"USA\", \"showlegend\": true, \"type\": \"scattergeo\"}],                        {\"geo\": {\"center\": {}, \"domain\": {\"x\": [0.0, 1.0], \"y\": [0.0, 1.0]}, \"projection\": {\"type\": \"orthographic\"}}, \"legend\": {\"title\": {\"text\": \"country\"}, \"tracegroupgap\": 0}, \"sliders\": [{\"active\": 0, \"currentvalue\": {\"prefix\": \"hire_date=\"}, \"len\": 0.9, \"pad\": {\"b\": 10, \"t\": 60}, \"steps\": [{\"args\": [[\"1992-05-01\"], {\"frame\": {\"duration\": 0, \"redraw\": true}, \"fromcurrent\": true, \"mode\": \"immediate\", \"transition\": {\"duration\": 0, \"easing\": \"linear\"}}], \"label\": \"1992-05-01\", \"method\": \"animate\"}, {\"args\": [[\"1992-08-14\"], {\"frame\": {\"duration\": 0, \"redraw\": true}, \"fromcurrent\": true, \"mode\": \"immediate\", \"transition\": {\"duration\": 0, \"easing\": \"linear\"}}], \"label\": \"1992-08-14\", \"method\": \"animate\"}, {\"args\": [[\"1992-04-01\"], {\"frame\": {\"duration\": 0, \"redraw\": true}, \"fromcurrent\": true, \"mode\": \"immediate\", \"transition\": {\"duration\": 0, \"easing\": \"linear\"}}], \"label\": \"1992-04-01\", \"method\": \"animate\"}, {\"args\": [[\"1993-05-03\"], {\"frame\": {\"duration\": 0, \"redraw\": true}, \"fromcurrent\": true, \"mode\": \"immediate\", \"transition\": {\"duration\": 0, \"easing\": \"linear\"}}], \"label\": \"1993-05-03\", \"method\": \"animate\"}, {\"args\": [[\"1993-10-17\"], {\"frame\": {\"duration\": 0, \"redraw\": true}, \"fromcurrent\": true, \"mode\": \"immediate\", \"transition\": {\"duration\": 0, \"easing\": \"linear\"}}], \"label\": \"1993-10-17\", \"method\": \"animate\"}, {\"args\": [[\"1994-01-02\"], {\"frame\": {\"duration\": 0, \"redraw\": true}, \"fromcurrent\": true, \"mode\": \"immediate\", \"transition\": {\"duration\": 0, \"easing\": \"linear\"}}], \"label\": \"1994-01-02\", \"method\": \"animate\"}, {\"args\": [[\"1994-03-05\"], {\"frame\": {\"duration\": 0, \"redraw\": true}, \"fromcurrent\": true, \"mode\": \"immediate\", \"transition\": {\"duration\": 0, \"easing\": \"linear\"}}], \"label\": \"1994-03-05\", \"method\": \"animate\"}, {\"args\": [[\"1994-11-15\"], {\"frame\": {\"duration\": 0, \"redraw\": true}, \"fromcurrent\": true, \"mode\": \"immediate\", \"transition\": {\"duration\": 0, \"easing\": \"linear\"}}], \"label\": \"1994-11-15\", \"method\": \"animate\"}], \"x\": 0.1, \"xanchor\": \"left\", \"y\": 0, \"yanchor\": \"top\"}], \"template\": {\"data\": {\"bar\": [{\"error_x\": {\"color\": \"#2a3f5f\"}, \"error_y\": {\"color\": \"#2a3f5f\"}, \"marker\": {\"line\": {\"color\": \"#E5ECF6\", \"width\": 0.5}}, \"type\": \"bar\"}], \"barpolar\": [{\"marker\": {\"line\": {\"color\": \"#E5ECF6\", \"width\": 0.5}}, \"type\": \"barpolar\"}], \"carpet\": [{\"aaxis\": {\"endlinecolor\": \"#2a3f5f\", \"gridcolor\": \"white\", \"linecolor\": \"white\", \"minorgridcolor\": \"white\", \"startlinecolor\": \"#2a3f5f\"}, \"baxis\": {\"endlinecolor\": \"#2a3f5f\", \"gridcolor\": \"white\", \"linecolor\": \"white\", \"minorgridcolor\": \"white\", \"startlinecolor\": \"#2a3f5f\"}, \"type\": \"carpet\"}], \"choropleth\": [{\"colorbar\": {\"outlinewidth\": 0, \"ticks\": \"\"}, \"type\": \"choropleth\"}], \"contour\": [{\"colorbar\": {\"outlinewidth\": 0, \"ticks\": \"\"}, \"colorscale\": [[0.0, \"#0d0887\"], [0.1111111111111111, \"#46039f\"], [0.2222222222222222, \"#7201a8\"], [0.3333333333333333, \"#9c179e\"], [0.4444444444444444, \"#bd3786\"], [0.5555555555555556, \"#d8576b\"], [0.6666666666666666, \"#ed7953\"], [0.7777777777777778, \"#fb9f3a\"], [0.8888888888888888, \"#fdca26\"], [1.0, \"#f0f921\"]], \"type\": \"contour\"}], \"contourcarpet\": [{\"colorbar\": {\"outlinewidth\": 0, \"ticks\": \"\"}, \"type\": \"contourcarpet\"}], \"heatmap\": [{\"colorbar\": {\"outlinewidth\": 0, \"ticks\": \"\"}, \"colorscale\": [[0.0, \"#0d0887\"], [0.1111111111111111, \"#46039f\"], [0.2222222222222222, \"#7201a8\"], [0.3333333333333333, \"#9c179e\"], [0.4444444444444444, \"#bd3786\"], [0.5555555555555556, \"#d8576b\"], [0.6666666666666666, \"#ed7953\"], [0.7777777777777778, \"#fb9f3a\"], [0.8888888888888888, \"#fdca26\"], [1.0, \"#f0f921\"]], \"type\": \"heatmap\"}], \"heatmapgl\": [{\"colorbar\": {\"outlinewidth\": 0, \"ticks\": \"\"}, \"colorscale\": [[0.0, \"#0d0887\"], [0.1111111111111111, \"#46039f\"], [0.2222222222222222, \"#7201a8\"], [0.3333333333333333, \"#9c179e\"], [0.4444444444444444, \"#bd3786\"], [0.5555555555555556, \"#d8576b\"], [0.6666666666666666, \"#ed7953\"], [0.7777777777777778, \"#fb9f3a\"], [0.8888888888888888, \"#fdca26\"], [1.0, \"#f0f921\"]], \"type\": \"heatmapgl\"}], \"histogram\": [{\"marker\": {\"colorbar\": {\"outlinewidth\": 0, \"ticks\": \"\"}}, \"type\": \"histogram\"}], \"histogram2d\": [{\"colorbar\": {\"outlinewidth\": 0, \"ticks\": \"\"}, \"colorscale\": [[0.0, \"#0d0887\"], [0.1111111111111111, \"#46039f\"], [0.2222222222222222, \"#7201a8\"], [0.3333333333333333, \"#9c179e\"], [0.4444444444444444, \"#bd3786\"], [0.5555555555555556, \"#d8576b\"], [0.6666666666666666, \"#ed7953\"], [0.7777777777777778, \"#fb9f3a\"], [0.8888888888888888, \"#fdca26\"], [1.0, \"#f0f921\"]], \"type\": \"histogram2d\"}], \"histogram2dcontour\": [{\"colorbar\": {\"outlinewidth\": 0, \"ticks\": \"\"}, \"colorscale\": [[0.0, \"#0d0887\"], [0.1111111111111111, \"#46039f\"], [0.2222222222222222, \"#7201a8\"], [0.3333333333333333, \"#9c179e\"], [0.4444444444444444, \"#bd3786\"], [0.5555555555555556, \"#d8576b\"], [0.6666666666666666, \"#ed7953\"], [0.7777777777777778, \"#fb9f3a\"], [0.8888888888888888, \"#fdca26\"], [1.0, \"#f0f921\"]], \"type\": \"histogram2dcontour\"}], \"mesh3d\": [{\"colorbar\": {\"outlinewidth\": 0, \"ticks\": \"\"}, \"type\": \"mesh3d\"}], \"parcoords\": [{\"line\": {\"colorbar\": {\"outlinewidth\": 0, \"ticks\": \"\"}}, \"type\": \"parcoords\"}], \"pie\": [{\"automargin\": true, \"type\": \"pie\"}], \"scatter\": [{\"marker\": {\"colorbar\": {\"outlinewidth\": 0, \"ticks\": \"\"}}, \"type\": \"scatter\"}], \"scatter3d\": [{\"line\": {\"colorbar\": {\"outlinewidth\": 0, \"ticks\": \"\"}}, \"marker\": {\"colorbar\": {\"outlinewidth\": 0, \"ticks\": \"\"}}, \"type\": \"scatter3d\"}], \"scattercarpet\": [{\"marker\": {\"colorbar\": {\"outlinewidth\": 0, \"ticks\": \"\"}}, \"type\": \"scattercarpet\"}], \"scattergeo\": [{\"marker\": {\"colorbar\": {\"outlinewidth\": 0, \"ticks\": \"\"}}, \"type\": \"scattergeo\"}], \"scattergl\": [{\"marker\": {\"colorbar\": {\"outlinewidth\": 0, \"ticks\": \"\"}}, \"type\": \"scattergl\"}], \"scattermapbox\": [{\"marker\": {\"colorbar\": {\"outlinewidth\": 0, \"ticks\": \"\"}}, \"type\": \"scattermapbox\"}], \"scatterpolar\": [{\"marker\": {\"colorbar\": {\"outlinewidth\": 0, \"ticks\": \"\"}}, \"type\": \"scatterpolar\"}], \"scatterpolargl\": [{\"marker\": {\"colorbar\": {\"outlinewidth\": 0, \"ticks\": \"\"}}, \"type\": \"scatterpolargl\"}], \"scatterternary\": [{\"marker\": {\"colorbar\": {\"outlinewidth\": 0, \"ticks\": \"\"}}, \"type\": \"scatterternary\"}], \"surface\": [{\"colorbar\": {\"outlinewidth\": 0, \"ticks\": \"\"}, \"colorscale\": [[0.0, \"#0d0887\"], [0.1111111111111111, \"#46039f\"], [0.2222222222222222, \"#7201a8\"], [0.3333333333333333, \"#9c179e\"], [0.4444444444444444, \"#bd3786\"], [0.5555555555555556, \"#d8576b\"], [0.6666666666666666, \"#ed7953\"], [0.7777777777777778, \"#fb9f3a\"], [0.8888888888888888, \"#fdca26\"], [1.0, \"#f0f921\"]], \"type\": \"surface\"}], \"table\": [{\"cells\": {\"fill\": {\"color\": \"#EBF0F8\"}, \"line\": {\"color\": \"white\"}}, \"header\": {\"fill\": {\"color\": \"#C8D4E3\"}, \"line\": {\"color\": \"white\"}}, \"type\": \"table\"}]}, \"layout\": {\"annotationdefaults\": {\"arrowcolor\": \"#2a3f5f\", \"arrowhead\": 0, \"arrowwidth\": 1}, \"autotypenumbers\": \"strict\", \"coloraxis\": {\"colorbar\": {\"outlinewidth\": 0, \"ticks\": \"\"}}, \"colorscale\": {\"diverging\": [[0, \"#8e0152\"], [0.1, \"#c51b7d\"], [0.2, \"#de77ae\"], [0.3, \"#f1b6da\"], [0.4, \"#fde0ef\"], [0.5, \"#f7f7f7\"], [0.6, \"#e6f5d0\"], [0.7, \"#b8e186\"], [0.8, \"#7fbc41\"], [0.9, \"#4d9221\"], [1, \"#276419\"]], \"sequential\": [[0.0, \"#0d0887\"], [0.1111111111111111, \"#46039f\"], [0.2222222222222222, \"#7201a8\"], [0.3333333333333333, \"#9c179e\"], [0.4444444444444444, \"#bd3786\"], [0.5555555555555556, \"#d8576b\"], [0.6666666666666666, \"#ed7953\"], [0.7777777777777778, \"#fb9f3a\"], [0.8888888888888888, \"#fdca26\"], [1.0, \"#f0f921\"]], \"sequentialminus\": [[0.0, \"#0d0887\"], [0.1111111111111111, \"#46039f\"], [0.2222222222222222, \"#7201a8\"], [0.3333333333333333, \"#9c179e\"], [0.4444444444444444, \"#bd3786\"], [0.5555555555555556, \"#d8576b\"], [0.6666666666666666, \"#ed7953\"], [0.7777777777777778, \"#fb9f3a\"], [0.8888888888888888, \"#fdca26\"], [1.0, \"#f0f921\"]]}, \"colorway\": [\"#636efa\", \"#EF553B\", \"#00cc96\", \"#ab63fa\", \"#FFA15A\", \"#19d3f3\", \"#FF6692\", \"#B6E880\", \"#FF97FF\", \"#FECB52\"], \"font\": {\"color\": \"#2a3f5f\"}, \"geo\": {\"bgcolor\": \"white\", \"lakecolor\": \"white\", \"landcolor\": \"#E5ECF6\", \"showlakes\": true, \"showland\": true, \"subunitcolor\": \"white\"}, \"hoverlabel\": {\"align\": \"left\"}, \"hovermode\": \"closest\", \"mapbox\": {\"style\": \"light\"}, \"paper_bgcolor\": \"white\", \"plot_bgcolor\": \"#E5ECF6\", \"polar\": {\"angularaxis\": {\"gridcolor\": \"white\", \"linecolor\": \"white\", \"ticks\": \"\"}, \"bgcolor\": \"#E5ECF6\", \"radialaxis\": {\"gridcolor\": \"white\", \"linecolor\": \"white\", \"ticks\": \"\"}}, \"scene\": {\"xaxis\": {\"backgroundcolor\": \"#E5ECF6\", \"gridcolor\": \"white\", \"gridwidth\": 2, \"linecolor\": \"white\", \"showbackground\": true, \"ticks\": \"\", \"zerolinecolor\": \"white\"}, \"yaxis\": {\"backgroundcolor\": \"#E5ECF6\", \"gridcolor\": \"white\", \"gridwidth\": 2, \"linecolor\": \"white\", \"showbackground\": true, \"ticks\": \"\", \"zerolinecolor\": \"white\"}, \"zaxis\": {\"backgroundcolor\": \"#E5ECF6\", \"gridcolor\": \"white\", \"gridwidth\": 2, \"linecolor\": \"white\", \"showbackground\": true, \"ticks\": \"\", \"zerolinecolor\": \"white\"}}, \"shapedefaults\": {\"line\": {\"color\": \"#2a3f5f\"}}, \"ternary\": {\"aaxis\": {\"gridcolor\": \"white\", \"linecolor\": \"white\", \"ticks\": \"\"}, \"baxis\": {\"gridcolor\": \"white\", \"linecolor\": \"white\", \"ticks\": \"\"}, \"bgcolor\": \"#E5ECF6\", \"caxis\": {\"gridcolor\": \"white\", \"linecolor\": \"white\", \"ticks\": \"\"}}, \"title\": {\"x\": 0.05}, \"xaxis\": {\"automargin\": true, \"gridcolor\": \"white\", \"linecolor\": \"white\", \"ticks\": \"\", \"title\": {\"standoff\": 15}, \"zerolinecolor\": \"white\", \"zerolinewidth\": 2}, \"yaxis\": {\"automargin\": true, \"gridcolor\": \"white\", \"linecolor\": \"white\", \"ticks\": \"\", \"title\": {\"standoff\": 15}, \"zerolinecolor\": \"white\", \"zerolinewidth\": 2}}}, \"title\": {\"text\": \"Mapa com panorama interativo\"}, \"updatemenus\": [{\"buttons\": [{\"args\": [null, {\"frame\": {\"duration\": 500, \"redraw\": true}, \"fromcurrent\": true, \"mode\": \"immediate\", \"transition\": {\"duration\": 500, \"easing\": \"linear\"}}], \"label\": \"&#9654;\", \"method\": \"animate\"}, {\"args\": [[null], {\"frame\": {\"duration\": 0, \"redraw\": true}, \"fromcurrent\": true, \"mode\": \"immediate\", \"transition\": {\"duration\": 0, \"easing\": \"linear\"}}], \"label\": \"&#9724;\", \"method\": \"animate\"}], \"direction\": \"left\", \"pad\": {\"r\": 10, \"t\": 70}, \"showactive\": false, \"type\": \"buttons\", \"x\": 0.1, \"xanchor\": \"right\", \"y\": 0, \"yanchor\": \"top\"}]},                        {\"responsive\": true}                    ).then(function(){\n",
       "                            Plotly.addFrames('62675f02-579c-462b-8eda-832537b5d082', [{\"data\": [{\"customdata\": [[\"Nancy\", \"Sales Representative\", \"Ms.\", \"Seattle\", \"507 - 20th Ave. E.\\\\nApt. 2A\", \"(206) 555-9857\"]], \"geo\": \"geo\", \"hovertemplate\": \"country=%{location}<br>hire_date=1992-05-01<br>first_name=%{customdata[0]}<br>title=%{customdata[1]}<br>title_of_courtesy=%{customdata[2]}<br>city=%{customdata[3]}<br>address=%{customdata[4]}<br>home_phone=%{customdata[5]}<extra></extra>\", \"legendgroup\": \"USA\", \"locations\": [\"USA\"], \"marker\": {\"color\": \"#636efa\", \"opacity\": 0.18, \"symbol\": \"circle\"}, \"mode\": \"markers\", \"name\": \"USA\", \"showlegend\": true, \"type\": \"scattergeo\"}], \"name\": \"1992-05-01\"}, {\"data\": [{\"customdata\": [[\"Andrew\", \"Vice President, Sales\", \"Dr.\", \"Tacoma\", \"908 W. Capital Way\", \"(206) 555-9482\"]], \"geo\": \"geo\", \"hovertemplate\": \"country=%{location}<br>hire_date=1992-08-14<br>first_name=%{customdata[0]}<br>title=%{customdata[1]}<br>title_of_courtesy=%{customdata[2]}<br>city=%{customdata[3]}<br>address=%{customdata[4]}<br>home_phone=%{customdata[5]}<extra></extra>\", \"legendgroup\": \"USA\", \"locations\": [\"USA\"], \"marker\": {\"color\": \"#636efa\", \"opacity\": 0.18, \"symbol\": \"circle\"}, \"mode\": \"markers\", \"name\": \"USA\", \"showlegend\": true, \"type\": \"scattergeo\"}], \"name\": \"1992-08-14\"}, {\"data\": [{\"customdata\": [[\"Janet\", \"Sales Representative\", \"Ms.\", \"Kirkland\", \"722 Moss Bay Blvd.\", \"(206) 555-3412\"]], \"geo\": \"geo\", \"hovertemplate\": \"country=%{location}<br>hire_date=1992-04-01<br>first_name=%{customdata[0]}<br>title=%{customdata[1]}<br>title_of_courtesy=%{customdata[2]}<br>city=%{customdata[3]}<br>address=%{customdata[4]}<br>home_phone=%{customdata[5]}<extra></extra>\", \"legendgroup\": \"USA\", \"locations\": [\"USA\"], \"marker\": {\"color\": \"#636efa\", \"opacity\": 0.18, \"symbol\": \"circle\"}, \"mode\": \"markers\", \"name\": \"USA\", \"showlegend\": true, \"type\": \"scattergeo\"}], \"name\": \"1992-04-01\"}, {\"data\": [{\"customdata\": [[\"Margaret\", \"Sales Representative\", \"Mrs.\", \"Redmond\", \"4110 Old Redmond Rd.\", \"(206) 555-8122\"]], \"geo\": \"geo\", \"hovertemplate\": \"country=%{location}<br>hire_date=1993-05-03<br>first_name=%{customdata[0]}<br>title=%{customdata[1]}<br>title_of_courtesy=%{customdata[2]}<br>city=%{customdata[3]}<br>address=%{customdata[4]}<br>home_phone=%{customdata[5]}<extra></extra>\", \"legendgroup\": \"USA\", \"locations\": [\"USA\"], \"marker\": {\"color\": \"#636efa\", \"opacity\": 0.18, \"symbol\": \"circle\"}, \"mode\": \"markers\", \"name\": \"USA\", \"showlegend\": true, \"type\": \"scattergeo\"}], \"name\": \"1993-05-03\"}, {\"data\": [{\"customdata\": [[\"Steven\", \"Sales Manager\", \"Mr.\", \"London\", \"14 Garrett Hill\", \"(71) 555-4848\"], [\"Michael\", \"Sales Representative\", \"Mr.\", \"London\", \"Coventry House\\\\nMiner Rd.\", \"(71) 555-7773\"]], \"geo\": \"geo\", \"hovertemplate\": \"country=%{location}<br>hire_date=1993-10-17<br>first_name=%{customdata[0]}<br>title=%{customdata[1]}<br>title_of_courtesy=%{customdata[2]}<br>city=%{customdata[3]}<br>address=%{customdata[4]}<br>home_phone=%{customdata[5]}<extra></extra>\", \"legendgroup\": \"UK\", \"locations\": [\"UK\", \"UK\"], \"marker\": {\"color\": \"#EF553B\", \"opacity\": 0.18, \"symbol\": \"circle\"}, \"mode\": \"markers\", \"name\": \"UK\", \"showlegend\": true, \"type\": \"scattergeo\"}], \"name\": \"1993-10-17\"}, {\"data\": [{\"customdata\": [[\"Robert\", \"Sales Representative\", \"Mr.\", \"London\", \"Edgeham Hollow\\\\nWinchester Way\", \"(71) 555-5598\"]], \"geo\": \"geo\", \"hovertemplate\": \"country=%{location}<br>hire_date=1994-01-02<br>first_name=%{customdata[0]}<br>title=%{customdata[1]}<br>title_of_courtesy=%{customdata[2]}<br>city=%{customdata[3]}<br>address=%{customdata[4]}<br>home_phone=%{customdata[5]}<extra></extra>\", \"legendgroup\": \"UK\", \"locations\": [\"UK\"], \"marker\": {\"color\": \"#EF553B\", \"opacity\": 0.18, \"symbol\": \"circle\"}, \"mode\": \"markers\", \"name\": \"UK\", \"showlegend\": true, \"type\": \"scattergeo\"}], \"name\": \"1994-01-02\"}, {\"data\": [{\"customdata\": [[\"Laura\", \"Inside Sales Coordinator\", \"Ms.\", \"Seattle\", \"4726 - 11th Ave. N.E.\", \"(206) 555-1189\"]], \"geo\": \"geo\", \"hovertemplate\": \"country=%{location}<br>hire_date=1994-03-05<br>first_name=%{customdata[0]}<br>title=%{customdata[1]}<br>title_of_courtesy=%{customdata[2]}<br>city=%{customdata[3]}<br>address=%{customdata[4]}<br>home_phone=%{customdata[5]}<extra></extra>\", \"legendgroup\": \"USA\", \"locations\": [\"USA\"], \"marker\": {\"color\": \"#636efa\", \"opacity\": 0.18, \"symbol\": \"circle\"}, \"mode\": \"markers\", \"name\": \"USA\", \"showlegend\": true, \"type\": \"scattergeo\"}], \"name\": \"1994-03-05\"}, {\"data\": [{\"customdata\": [[\"Anne\", \"Sales Representative\", \"Ms.\", \"London\", \"7 Houndstooth Rd.\", \"(71) 555-4444\"]], \"geo\": \"geo\", \"hovertemplate\": \"country=%{location}<br>hire_date=1994-11-15<br>first_name=%{customdata[0]}<br>title=%{customdata[1]}<br>title_of_courtesy=%{customdata[2]}<br>city=%{customdata[3]}<br>address=%{customdata[4]}<br>home_phone=%{customdata[5]}<extra></extra>\", \"legendgroup\": \"UK\", \"locations\": [\"UK\"], \"marker\": {\"color\": \"#EF553B\", \"opacity\": 0.18, \"symbol\": \"circle\"}, \"mode\": \"markers\", \"name\": \"UK\", \"showlegend\": true, \"type\": \"scattergeo\"}], \"name\": \"1994-11-15\"}]);\n",
       "                        }).then(function(){\n",
       "                            \n",
       "var gd = document.getElementById('62675f02-579c-462b-8eda-832537b5d082');\n",
       "var x = new MutationObserver(function (mutations, observer) {{\n",
       "        var display = window.getComputedStyle(gd).display;\n",
       "        if (!display || display === 'none') {{\n",
       "            console.log([gd, 'removed!']);\n",
       "            Plotly.purge(gd);\n",
       "            observer.disconnect();\n",
       "        }}\n",
       "}});\n",
       "\n",
       "// Listen for the removal of the full notebook cells\n",
       "var notebookContainer = gd.closest('#notebook-container');\n",
       "if (notebookContainer) {{\n",
       "    x.observe(notebookContainer, {childList: true});\n",
       "}}\n",
       "\n",
       "// Listen for the clearing of the current output cell\n",
       "var outputEl = gd.closest('.output');\n",
       "if (outputEl) {{\n",
       "    x.observe(outputEl, {childList: true});\n",
       "}}\n",
       "\n",
       "                        })                };                });            </script>        </div>"
      ]
     },
     "metadata": {},
     "output_type": "display_data"
    }
   ],
   "source": [
    "map_fig = px.scatter_geo(northwind_employees,\n",
    "                         locations = 'country',\n",
    "                         projection ='orthographic',\n",
    "                         color = 'country',\n",
    "                         hover_data = ['first_name','title','title_of_courtesy','city','address','home_phone'],\n",
    "                         title = 'Mapa com panorama interativo',\n",
    "                         animation_frame = 'hire_date',\n",
    "                         opacity = .180\n",
    "                        )                         \n",
    "map_fig.show()"
   ]
  },
  {
   "cell_type": "code",
   "execution_count": 147,
   "metadata": {},
   "outputs": [
    {
     "data": {
      "text/html": [
       "<div>\n",
       "<style scoped>\n",
       "    .dataframe tbody tr th:only-of-type {\n",
       "        vertical-align: middle;\n",
       "    }\n",
       "\n",
       "    .dataframe tbody tr th {\n",
       "        vertical-align: top;\n",
       "    }\n",
       "\n",
       "    .dataframe thead th {\n",
       "        text-align: right;\n",
       "    }\n",
       "</style>\n",
       "<table border=\"1\" class=\"dataframe\">\n",
       "  <thead>\n",
       "    <tr style=\"text-align: right;\">\n",
       "      <th></th>\n",
       "      <th>order_id</th>\n",
       "      <th>product_id</th>\n",
       "      <th>unit_price</th>\n",
       "      <th>quantity</th>\n",
       "      <th>discount</th>\n",
       "    </tr>\n",
       "  </thead>\n",
       "  <tbody>\n",
       "    <tr>\n",
       "      <th>0</th>\n",
       "      <td>10248</td>\n",
       "      <td>11</td>\n",
       "      <td>14.0</td>\n",
       "      <td>12</td>\n",
       "      <td>0.00</td>\n",
       "    </tr>\n",
       "    <tr>\n",
       "      <th>1</th>\n",
       "      <td>10248</td>\n",
       "      <td>42</td>\n",
       "      <td>9.8</td>\n",
       "      <td>10</td>\n",
       "      <td>0.00</td>\n",
       "    </tr>\n",
       "    <tr>\n",
       "      <th>2</th>\n",
       "      <td>10248</td>\n",
       "      <td>72</td>\n",
       "      <td>34.8</td>\n",
       "      <td>5</td>\n",
       "      <td>0.00</td>\n",
       "    </tr>\n",
       "    <tr>\n",
       "      <th>3</th>\n",
       "      <td>10249</td>\n",
       "      <td>14</td>\n",
       "      <td>18.6</td>\n",
       "      <td>9</td>\n",
       "      <td>0.00</td>\n",
       "    </tr>\n",
       "    <tr>\n",
       "      <th>4</th>\n",
       "      <td>10249</td>\n",
       "      <td>51</td>\n",
       "      <td>42.4</td>\n",
       "      <td>40</td>\n",
       "      <td>0.00</td>\n",
       "    </tr>\n",
       "    <tr>\n",
       "      <th>5</th>\n",
       "      <td>10250</td>\n",
       "      <td>41</td>\n",
       "      <td>7.7</td>\n",
       "      <td>10</td>\n",
       "      <td>0.00</td>\n",
       "    </tr>\n",
       "    <tr>\n",
       "      <th>6</th>\n",
       "      <td>10250</td>\n",
       "      <td>51</td>\n",
       "      <td>42.4</td>\n",
       "      <td>35</td>\n",
       "      <td>0.15</td>\n",
       "    </tr>\n",
       "    <tr>\n",
       "      <th>7</th>\n",
       "      <td>10250</td>\n",
       "      <td>65</td>\n",
       "      <td>16.8</td>\n",
       "      <td>15</td>\n",
       "      <td>0.15</td>\n",
       "    </tr>\n",
       "    <tr>\n",
       "      <th>8</th>\n",
       "      <td>10251</td>\n",
       "      <td>22</td>\n",
       "      <td>16.8</td>\n",
       "      <td>6</td>\n",
       "      <td>0.05</td>\n",
       "    </tr>\n",
       "    <tr>\n",
       "      <th>9</th>\n",
       "      <td>10251</td>\n",
       "      <td>57</td>\n",
       "      <td>15.6</td>\n",
       "      <td>15</td>\n",
       "      <td>0.05</td>\n",
       "    </tr>\n",
       "  </tbody>\n",
       "</table>\n",
       "</div>"
      ],
      "text/plain": [
       "   order_id  product_id  unit_price  quantity  discount\n",
       "0     10248          11        14.0        12      0.00\n",
       "1     10248          42         9.8        10      0.00\n",
       "2     10248          72        34.8         5      0.00\n",
       "3     10249          14        18.6         9      0.00\n",
       "4     10249          51        42.4        40      0.00\n",
       "5     10250          41         7.7        10      0.00\n",
       "6     10250          51        42.4        35      0.15\n",
       "7     10250          65        16.8        15      0.15\n",
       "8     10251          22        16.8         6      0.05\n",
       "9     10251          57        15.6        15      0.05"
      ]
     },
     "execution_count": 147,
     "metadata": {},
     "output_type": "execute_result"
    }
   ],
   "source": [
    "northwind_details = pd.read_csv('order_details.csv',sep=\";\",engine='python')\n",
    "northwind_details.head(10)"
   ]
  },
  {
   "cell_type": "code",
   "execution_count": 154,
   "metadata": {},
   "outputs": [
    {
     "data": {
      "text/plain": [
       "<BarContainer object of 2155 artists>"
      ]
     },
     "execution_count": 154,
     "metadata": {},
     "output_type": "execute_result"
    },
    {
     "data": {
      "image/png": "[encoded data removed]",
      "text/plain": [
       "<Figure size 1152x576 with 1 Axes>"
      ]
     },
     "metadata": {
      "needs_background": "light"
     },
     "output_type": "display_data"
    }
   ],
   "source": [
    "x = northwind_details['quantity']\n",
    "y = northwind_details['unit_price']\n",
    "plt.figure(figsize=(16,8))\n",
    "plt.bar(x,y,color = 'orange')"
   ]
  },
  {
   "cell_type": "code",
   "execution_count": 155,
   "metadata": {},
   "outputs": [
    {
     "data": {
      "text/html": [
       "<div>\n",
       "<style scoped>\n",
       "    .dataframe tbody tr th:only-of-type {\n",
       "        vertical-align: middle;\n",
       "    }\n",
       "\n",
       "    .dataframe tbody tr th {\n",
       "        vertical-align: top;\n",
       "    }\n",
       "\n",
       "    .dataframe thead th {\n",
       "        text-align: right;\n",
       "    }\n",
       "</style>\n",
       "<table border=\"1\" class=\"dataframe\">\n",
       "  <thead>\n",
       "    <tr style=\"text-align: right;\">\n",
       "      <th></th>\n",
       "      <th>order_id</th>\n",
       "      <th>customer_id</th>\n",
       "      <th>employee_id</th>\n",
       "      <th>order_date</th>\n",
       "      <th>required_date</th>\n",
       "      <th>shipped_date</th>\n",
       "      <th>ship_via</th>\n",
       "      <th>freight</th>\n",
       "      <th>ship_name</th>\n",
       "      <th>ship_address</th>\n",
       "      <th>ship_city</th>\n",
       "      <th>ship_region</th>\n",
       "      <th>ship_postal_code</th>\n",
       "      <th>ship_country</th>\n",
       "    </tr>\n",
       "  </thead>\n",
       "  <tbody>\n",
       "    <tr>\n",
       "      <th>0</th>\n",
       "      <td>10248</td>\n",
       "      <td>VINET</td>\n",
       "      <td>5</td>\n",
       "      <td>1996-07-04</td>\n",
       "      <td>1996-08-01</td>\n",
       "      <td>1996-07-16</td>\n",
       "      <td>3</td>\n",
       "      <td>32.38</td>\n",
       "      <td>Vins et alcools Chevalier</td>\n",
       "      <td>59 rue de l'Abbaye</td>\n",
       "      <td>Reims</td>\n",
       "      <td>NaN</td>\n",
       "      <td>51100</td>\n",
       "      <td>France</td>\n",
       "    </tr>\n",
       "    <tr>\n",
       "      <th>1</th>\n",
       "      <td>10249</td>\n",
       "      <td>TOMSP</td>\n",
       "      <td>6</td>\n",
       "      <td>1996-07-05</td>\n",
       "      <td>1996-08-16</td>\n",
       "      <td>1996-07-10</td>\n",
       "      <td>1</td>\n",
       "      <td>11.61</td>\n",
       "      <td>Toms SpezialitÃ¤ten</td>\n",
       "      <td>Luisenstr. 48</td>\n",
       "      <td>MÃ¼nster</td>\n",
       "      <td>NaN</td>\n",
       "      <td>44087</td>\n",
       "      <td>Germany</td>\n",
       "    </tr>\n",
       "    <tr>\n",
       "      <th>2</th>\n",
       "      <td>10250</td>\n",
       "      <td>HANAR</td>\n",
       "      <td>4</td>\n",
       "      <td>1996-07-08</td>\n",
       "      <td>1996-08-05</td>\n",
       "      <td>1996-07-12</td>\n",
       "      <td>2</td>\n",
       "      <td>65.83</td>\n",
       "      <td>Hanari Carnes</td>\n",
       "      <td>Rua do PaÃ§o, 67</td>\n",
       "      <td>Rio de Janeiro</td>\n",
       "      <td>RJ</td>\n",
       "      <td>05454-876</td>\n",
       "      <td>Brazil</td>\n",
       "    </tr>\n",
       "    <tr>\n",
       "      <th>3</th>\n",
       "      <td>10251</td>\n",
       "      <td>VICTE</td>\n",
       "      <td>3</td>\n",
       "      <td>1996-07-08</td>\n",
       "      <td>1996-08-05</td>\n",
       "      <td>1996-07-15</td>\n",
       "      <td>1</td>\n",
       "      <td>41.34</td>\n",
       "      <td>Victuailles en stock</td>\n",
       "      <td>2, rue du Commerce</td>\n",
       "      <td>Lyon</td>\n",
       "      <td>NaN</td>\n",
       "      <td>69004</td>\n",
       "      <td>France</td>\n",
       "    </tr>\n",
       "    <tr>\n",
       "      <th>4</th>\n",
       "      <td>10252</td>\n",
       "      <td>SUPRD</td>\n",
       "      <td>4</td>\n",
       "      <td>1996-07-09</td>\n",
       "      <td>1996-08-06</td>\n",
       "      <td>1996-07-11</td>\n",
       "      <td>2</td>\n",
       "      <td>51.30</td>\n",
       "      <td>SuprÃªmes dÃ©lices</td>\n",
       "      <td>Boulevard Tirou, 255</td>\n",
       "      <td>Charleroi</td>\n",
       "      <td>NaN</td>\n",
       "      <td>B-6000</td>\n",
       "      <td>Belgium</td>\n",
       "    </tr>\n",
       "    <tr>\n",
       "      <th>5</th>\n",
       "      <td>10253</td>\n",
       "      <td>HANAR</td>\n",
       "      <td>3</td>\n",
       "      <td>1996-07-10</td>\n",
       "      <td>1996-07-24</td>\n",
       "      <td>1996-07-16</td>\n",
       "      <td>2</td>\n",
       "      <td>58.17</td>\n",
       "      <td>Hanari Carnes</td>\n",
       "      <td>Rua do PaÃ§o, 67</td>\n",
       "      <td>Rio de Janeiro</td>\n",
       "      <td>RJ</td>\n",
       "      <td>05454-876</td>\n",
       "      <td>Brazil</td>\n",
       "    </tr>\n",
       "    <tr>\n",
       "      <th>6</th>\n",
       "      <td>10254</td>\n",
       "      <td>CHOPS</td>\n",
       "      <td>5</td>\n",
       "      <td>1996-07-11</td>\n",
       "      <td>1996-08-08</td>\n",
       "      <td>1996-07-23</td>\n",
       "      <td>2</td>\n",
       "      <td>22.98</td>\n",
       "      <td>Chop-suey Chinese</td>\n",
       "      <td>Hauptstr. 31</td>\n",
       "      <td>Bern</td>\n",
       "      <td>NaN</td>\n",
       "      <td>3012</td>\n",
       "      <td>Switzerland</td>\n",
       "    </tr>\n",
       "    <tr>\n",
       "      <th>7</th>\n",
       "      <td>10255</td>\n",
       "      <td>RICSU</td>\n",
       "      <td>9</td>\n",
       "      <td>1996-07-12</td>\n",
       "      <td>1996-08-09</td>\n",
       "      <td>1996-07-15</td>\n",
       "      <td>3</td>\n",
       "      <td>148.33</td>\n",
       "      <td>Richter Supermarkt</td>\n",
       "      <td>Starenweg 5</td>\n",
       "      <td>GenÃ¨ve</td>\n",
       "      <td>NaN</td>\n",
       "      <td>1204</td>\n",
       "      <td>Switzerland</td>\n",
       "    </tr>\n",
       "    <tr>\n",
       "      <th>8</th>\n",
       "      <td>10256</td>\n",
       "      <td>WELLI</td>\n",
       "      <td>3</td>\n",
       "      <td>1996-07-15</td>\n",
       "      <td>1996-08-12</td>\n",
       "      <td>1996-07-17</td>\n",
       "      <td>2</td>\n",
       "      <td>13.97</td>\n",
       "      <td>Wellington Importadora</td>\n",
       "      <td>Rua do Mercado, 12</td>\n",
       "      <td>Resende</td>\n",
       "      <td>SP</td>\n",
       "      <td>08737-363</td>\n",
       "      <td>Brazil</td>\n",
       "    </tr>\n",
       "    <tr>\n",
       "      <th>9</th>\n",
       "      <td>10257</td>\n",
       "      <td>HILAA</td>\n",
       "      <td>4</td>\n",
       "      <td>1996-07-16</td>\n",
       "      <td>1996-08-13</td>\n",
       "      <td>1996-07-22</td>\n",
       "      <td>3</td>\n",
       "      <td>81.91</td>\n",
       "      <td>HILARION-Abastos</td>\n",
       "      <td>Carrera 22 con Ave. Carlos Soublette #8-35</td>\n",
       "      <td>San CristÃ³bal</td>\n",
       "      <td>TÃ¡chira</td>\n",
       "      <td>5022</td>\n",
       "      <td>Venezuela</td>\n",
       "    </tr>\n",
       "  </tbody>\n",
       "</table>\n",
       "</div>"
      ],
      "text/plain": [
       "   order_id customer_id  employee_id  order_date required_date shipped_date  \\\n",
       "0     10248       VINET            5  1996-07-04    1996-08-01   1996-07-16   \n",
       "1     10249       TOMSP            6  1996-07-05    1996-08-16   1996-07-10   \n",
       "2     10250       HANAR            4  1996-07-08    1996-08-05   1996-07-12   \n",
       "3     10251       VICTE            3  1996-07-08    1996-08-05   1996-07-15   \n",
       "4     10252       SUPRD            4  1996-07-09    1996-08-06   1996-07-11   \n",
       "5     10253       HANAR            3  1996-07-10    1996-07-24   1996-07-16   \n",
       "6     10254       CHOPS            5  1996-07-11    1996-08-08   1996-07-23   \n",
       "7     10255       RICSU            9  1996-07-12    1996-08-09   1996-07-15   \n",
       "8     10256       WELLI            3  1996-07-15    1996-08-12   1996-07-17   \n",
       "9     10257       HILAA            4  1996-07-16    1996-08-13   1996-07-22   \n",
       "\n",
       "   ship_via  freight                  ship_name  \\\n",
       "0         3    32.38  Vins et alcools Chevalier   \n",
       "1         1    11.61        Toms SpezialitÃ¤ten   \n",
       "2         2    65.83              Hanari Carnes   \n",
       "3         1    41.34       Victuailles en stock   \n",
       "4         2    51.30         SuprÃªmes dÃ©lices   \n",
       "5         2    58.17              Hanari Carnes   \n",
       "6         2    22.98          Chop-suey Chinese   \n",
       "7         3   148.33         Richter Supermarkt   \n",
       "8         2    13.97     Wellington Importadora   \n",
       "9         3    81.91           HILARION-Abastos   \n",
       "\n",
       "                                 ship_address       ship_city ship_region  \\\n",
       "0                          59 rue de l'Abbaye           Reims         NaN   \n",
       "1                               Luisenstr. 48        MÃ¼nster         NaN   \n",
       "2                            Rua do PaÃ§o, 67  Rio de Janeiro          RJ   \n",
       "3                          2, rue du Commerce            Lyon         NaN   \n",
       "4                        Boulevard Tirou, 255       Charleroi         NaN   \n",
       "5                            Rua do PaÃ§o, 67  Rio de Janeiro          RJ   \n",
       "6                                Hauptstr. 31            Bern         NaN   \n",
       "7                                 Starenweg 5         GenÃ¨ve         NaN   \n",
       "8                          Rua do Mercado, 12         Resende          SP   \n",
       "9  Carrera 22 con Ave. Carlos Soublette #8-35  San CristÃ³bal    TÃ¡chira   \n",
       "\n",
       "  ship_postal_code ship_country  \n",
       "0            51100       France  \n",
       "1            44087      Germany  \n",
       "2        05454-876       Brazil  \n",
       "3            69004       France  \n",
       "4           B-6000      Belgium  \n",
       "5        05454-876       Brazil  \n",
       "6             3012  Switzerland  \n",
       "7             1204  Switzerland  \n",
       "8        08737-363       Brazil  \n",
       "9             5022    Venezuela  "
      ]
     },
     "execution_count": 155,
     "metadata": {},
     "output_type": "execute_result"
    }
   ],
   "source": [
    "northwind_orders = pd.read_csv('orders.csv',error_bad_lines=False,sep=\";\",engine='python')\n",
    "northwind_orders.head(10)"
   ]
  },
  {
   "cell_type": "code",
   "execution_count": 12,
   "metadata": {},
   "outputs": [
    {
     "data": {
      "text/html": [
       "<div>\n",
       "<style scoped>\n",
       "    .dataframe tbody tr th:only-of-type {\n",
       "        vertical-align: middle;\n",
       "    }\n",
       "\n",
       "    .dataframe tbody tr th {\n",
       "        vertical-align: top;\n",
       "    }\n",
       "\n",
       "    .dataframe thead th {\n",
       "        text-align: right;\n",
       "    }\n",
       "</style>\n",
       "<table border=\"1\" class=\"dataframe\">\n",
       "  <thead>\n",
       "    <tr style=\"text-align: right;\">\n",
       "      <th></th>\n",
       "      <th>product_id</th>\n",
       "      <th>product_name</th>\n",
       "      <th>supplier_id</th>\n",
       "      <th>category_id</th>\n",
       "      <th>quantity_per_unit</th>\n",
       "      <th>unit_price</th>\n",
       "      <th>units_in_stock</th>\n",
       "      <th>units_on_order</th>\n",
       "      <th>reorder_level</th>\n",
       "      <th>discontinued</th>\n",
       "    </tr>\n",
       "  </thead>\n",
       "  <tbody>\n",
       "    <tr>\n",
       "      <th>0</th>\n",
       "      <td>1</td>\n",
       "      <td>Chai</td>\n",
       "      <td>8</td>\n",
       "      <td>1</td>\n",
       "      <td>10 boxes x 30 bags</td>\n",
       "      <td>18.00</td>\n",
       "      <td>39</td>\n",
       "      <td>0</td>\n",
       "      <td>10</td>\n",
       "      <td>1</td>\n",
       "    </tr>\n",
       "    <tr>\n",
       "      <th>1</th>\n",
       "      <td>2</td>\n",
       "      <td>Chang</td>\n",
       "      <td>1</td>\n",
       "      <td>1</td>\n",
       "      <td>24 - 12 oz bottles</td>\n",
       "      <td>19.00</td>\n",
       "      <td>17</td>\n",
       "      <td>40</td>\n",
       "      <td>25</td>\n",
       "      <td>1</td>\n",
       "    </tr>\n",
       "    <tr>\n",
       "      <th>2</th>\n",
       "      <td>3</td>\n",
       "      <td>Aniseed Syrup</td>\n",
       "      <td>1</td>\n",
       "      <td>2</td>\n",
       "      <td>12 - 550 ml bottles</td>\n",
       "      <td>10.00</td>\n",
       "      <td>13</td>\n",
       "      <td>70</td>\n",
       "      <td>25</td>\n",
       "      <td>0</td>\n",
       "    </tr>\n",
       "    <tr>\n",
       "      <th>3</th>\n",
       "      <td>4</td>\n",
       "      <td>Chef Anton's Cajun Seasoning</td>\n",
       "      <td>2</td>\n",
       "      <td>2</td>\n",
       "      <td>48 - 6 oz jars</td>\n",
       "      <td>22.00</td>\n",
       "      <td>53</td>\n",
       "      <td>0</td>\n",
       "      <td>0</td>\n",
       "      <td>0</td>\n",
       "    </tr>\n",
       "    <tr>\n",
       "      <th>4</th>\n",
       "      <td>5</td>\n",
       "      <td>Chef Anton's Gumbo Mix</td>\n",
       "      <td>2</td>\n",
       "      <td>2</td>\n",
       "      <td>36 boxes</td>\n",
       "      <td>21.35</td>\n",
       "      <td>0</td>\n",
       "      <td>0</td>\n",
       "      <td>0</td>\n",
       "      <td>1</td>\n",
       "    </tr>\n",
       "    <tr>\n",
       "      <th>...</th>\n",
       "      <td>...</td>\n",
       "      <td>...</td>\n",
       "      <td>...</td>\n",
       "      <td>...</td>\n",
       "      <td>...</td>\n",
       "      <td>...</td>\n",
       "      <td>...</td>\n",
       "      <td>...</td>\n",
       "      <td>...</td>\n",
       "      <td>...</td>\n",
       "    </tr>\n",
       "    <tr>\n",
       "      <th>72</th>\n",
       "      <td>73</td>\n",
       "      <td>RÃ¶d Kaviar</td>\n",
       "      <td>17</td>\n",
       "      <td>8</td>\n",
       "      <td>24 - 150 g jars</td>\n",
       "      <td>15.00</td>\n",
       "      <td>101</td>\n",
       "      <td>0</td>\n",
       "      <td>5</td>\n",
       "      <td>0</td>\n",
       "    </tr>\n",
       "    <tr>\n",
       "      <th>73</th>\n",
       "      <td>74</td>\n",
       "      <td>Longlife Tofu</td>\n",
       "      <td>4</td>\n",
       "      <td>7</td>\n",
       "      <td>5 kg pkg.</td>\n",
       "      <td>10.00</td>\n",
       "      <td>4</td>\n",
       "      <td>20</td>\n",
       "      <td>5</td>\n",
       "      <td>0</td>\n",
       "    </tr>\n",
       "    <tr>\n",
       "      <th>74</th>\n",
       "      <td>75</td>\n",
       "      <td>RhÃ¶nbrÃ¤u Klosterbier</td>\n",
       "      <td>12</td>\n",
       "      <td>1</td>\n",
       "      <td>24 - 0.5 l bottles</td>\n",
       "      <td>7.75</td>\n",
       "      <td>125</td>\n",
       "      <td>0</td>\n",
       "      <td>25</td>\n",
       "      <td>0</td>\n",
       "    </tr>\n",
       "    <tr>\n",
       "      <th>75</th>\n",
       "      <td>76</td>\n",
       "      <td>LakkalikÃ¶Ã¶ri</td>\n",
       "      <td>23</td>\n",
       "      <td>1</td>\n",
       "      <td>500 ml</td>\n",
       "      <td>18.00</td>\n",
       "      <td>57</td>\n",
       "      <td>0</td>\n",
       "      <td>20</td>\n",
       "      <td>0</td>\n",
       "    </tr>\n",
       "    <tr>\n",
       "      <th>76</th>\n",
       "      <td>77</td>\n",
       "      <td>Original Frankfurter grÃ¼ne SoÃŸe</td>\n",
       "      <td>12</td>\n",
       "      <td>2</td>\n",
       "      <td>12 boxes</td>\n",
       "      <td>13.00</td>\n",
       "      <td>32</td>\n",
       "      <td>0</td>\n",
       "      <td>15</td>\n",
       "      <td>0</td>\n",
       "    </tr>\n",
       "  </tbody>\n",
       "</table>\n",
       "<p>77 rows × 10 columns</p>\n",
       "</div>"
      ],
      "text/plain": [
       "    product_id                       product_name  supplier_id  category_id  \\\n",
       "0            1                               Chai            8            1   \n",
       "1            2                              Chang            1            1   \n",
       "2            3                      Aniseed Syrup            1            2   \n",
       "3            4       Chef Anton's Cajun Seasoning            2            2   \n",
       "4            5             Chef Anton's Gumbo Mix            2            2   \n",
       "..         ...                                ...          ...          ...   \n",
       "72          73                        RÃ¶d Kaviar           17            8   \n",
       "73          74                      Longlife Tofu            4            7   \n",
       "74          75             RhÃ¶nbrÃ¤u Klosterbier           12            1   \n",
       "75          76                     LakkalikÃ¶Ã¶ri           23            1   \n",
       "76          77  Original Frankfurter grÃ¼ne SoÃŸe           12            2   \n",
       "\n",
       "      quantity_per_unit  unit_price  units_in_stock  units_on_order  \\\n",
       "0    10 boxes x 30 bags       18.00              39               0   \n",
       "1    24 - 12 oz bottles       19.00              17              40   \n",
       "2   12 - 550 ml bottles       10.00              13              70   \n",
       "3        48 - 6 oz jars       22.00              53               0   \n",
       "4              36 boxes       21.35               0               0   \n",
       "..                  ...         ...             ...             ...   \n",
       "72      24 - 150 g jars       15.00             101               0   \n",
       "73            5 kg pkg.       10.00               4              20   \n",
       "74   24 - 0.5 l bottles        7.75             125               0   \n",
       "75               500 ml       18.00              57               0   \n",
       "76             12 boxes       13.00              32               0   \n",
       "\n",
       "    reorder_level  discontinued  \n",
       "0              10             1  \n",
       "1              25             1  \n",
       "2              25             0  \n",
       "3               0             0  \n",
       "4               0             1  \n",
       "..            ...           ...  \n",
       "72              5             0  \n",
       "73              5             0  \n",
       "74             25             0  \n",
       "75             20             0  \n",
       "76             15             0  \n",
       "\n",
       "[77 rows x 10 columns]"
      ]
     },
     "execution_count": 12,
     "metadata": {},
     "output_type": "execute_result"
    }
   ],
   "source": [
    "northwind_products = pd.read_csv('products.csv',error_bad_lines=False,sep=\";\",engine='python')\n",
    "northwind_products.head(3000)"
   ]
  },
  {
   "cell_type": "code",
   "execution_count": 14,
   "metadata": {},
   "outputs": [
    {
     "data": {
      "text/html": [
       "<div>\n",
       "<style scoped>\n",
       "    .dataframe tbody tr th:only-of-type {\n",
       "        vertical-align: middle;\n",
       "    }\n",
       "\n",
       "    .dataframe tbody tr th {\n",
       "        vertical-align: top;\n",
       "    }\n",
       "\n",
       "    .dataframe thead th {\n",
       "        text-align: right;\n",
       "    }\n",
       "</style>\n",
       "<table border=\"1\" class=\"dataframe\">\n",
       "  <thead>\n",
       "    <tr style=\"text-align: right;\">\n",
       "      <th></th>\n",
       "      <th>region_id</th>\n",
       "      <th>region_description</th>\n",
       "    </tr>\n",
       "  </thead>\n",
       "  <tbody>\n",
       "    <tr>\n",
       "      <th>0</th>\n",
       "      <td>1</td>\n",
       "      <td>Eastern</td>\n",
       "    </tr>\n",
       "    <tr>\n",
       "      <th>1</th>\n",
       "      <td>2</td>\n",
       "      <td>Western</td>\n",
       "    </tr>\n",
       "    <tr>\n",
       "      <th>2</th>\n",
       "      <td>3</td>\n",
       "      <td>Northern</td>\n",
       "    </tr>\n",
       "  </tbody>\n",
       "</table>\n",
       "</div>"
      ],
      "text/plain": [
       "   region_id region_description\n",
       "0          1            Eastern\n",
       "1          2            Western\n",
       "2          3           Northern"
      ]
     },
     "execution_count": 14,
     "metadata": {},
     "output_type": "execute_result"
    }
   ],
   "source": [
    "northwind_region = pd.read_csv('region.csv',sep=\";\",engine='python')\n",
    "northwind_region.head(3)"
   ]
  },
  {
   "cell_type": "code",
   "execution_count": 15,
   "metadata": {},
   "outputs": [
    {
     "data": {
      "text/html": [
       "<div>\n",
       "<style scoped>\n",
       "    .dataframe tbody tr th:only-of-type {\n",
       "        vertical-align: middle;\n",
       "    }\n",
       "\n",
       "    .dataframe tbody tr th {\n",
       "        vertical-align: top;\n",
       "    }\n",
       "\n",
       "    .dataframe thead th {\n",
       "        text-align: right;\n",
       "    }\n",
       "</style>\n",
       "<table border=\"1\" class=\"dataframe\">\n",
       "  <thead>\n",
       "    <tr style=\"text-align: right;\">\n",
       "      <th></th>\n",
       "      <th>shipper_id</th>\n",
       "      <th>company_name</th>\n",
       "      <th>phone</th>\n",
       "    </tr>\n",
       "  </thead>\n",
       "  <tbody>\n",
       "    <tr>\n",
       "      <th>0</th>\n",
       "      <td>1</td>\n",
       "      <td>Speedy Express</td>\n",
       "      <td>(503) 555-9831</td>\n",
       "    </tr>\n",
       "    <tr>\n",
       "      <th>1</th>\n",
       "      <td>2</td>\n",
       "      <td>United Package</td>\n",
       "      <td>(503) 555-3199</td>\n",
       "    </tr>\n",
       "    <tr>\n",
       "      <th>2</th>\n",
       "      <td>3</td>\n",
       "      <td>Federal Shipping</td>\n",
       "      <td>(503) 555-9931</td>\n",
       "    </tr>\n",
       "    <tr>\n",
       "      <th>3</th>\n",
       "      <td>4</td>\n",
       "      <td>Alliance Shippers</td>\n",
       "      <td>1-800-222-0451</td>\n",
       "    </tr>\n",
       "    <tr>\n",
       "      <th>4</th>\n",
       "      <td>5</td>\n",
       "      <td>UPS</td>\n",
       "      <td>1-800-782-7892</td>\n",
       "    </tr>\n",
       "    <tr>\n",
       "      <th>5</th>\n",
       "      <td>6</td>\n",
       "      <td>DHL</td>\n",
       "      <td>1-800-225-5345</td>\n",
       "    </tr>\n",
       "  </tbody>\n",
       "</table>\n",
       "</div>"
      ],
      "text/plain": [
       "   shipper_id       company_name           phone\n",
       "0           1     Speedy Express  (503) 555-9831\n",
       "1           2     United Package  (503) 555-3199\n",
       "2           3   Federal Shipping  (503) 555-9931\n",
       "3           4  Alliance Shippers  1-800-222-0451\n",
       "4           5                UPS  1-800-782-7892\n",
       "5           6                DHL  1-800-225-5345"
      ]
     },
     "execution_count": 15,
     "metadata": {},
     "output_type": "execute_result"
    }
   ],
   "source": [
    "northwind_shippers = pd.read_csv('shippers.csv',sep=\";\",engine='python')\n",
    "northwind_shippers.head(3000)\n"
   ]
  },
  {
   "cell_type": "code",
   "execution_count": 101,
   "metadata": {},
   "outputs": [
    {
     "data": {
      "text/html": [
       "<div>\n",
       "<style scoped>\n",
       "    .dataframe tbody tr th:only-of-type {\n",
       "        vertical-align: middle;\n",
       "    }\n",
       "\n",
       "    .dataframe tbody tr th {\n",
       "        vertical-align: top;\n",
       "    }\n",
       "\n",
       "    .dataframe thead th {\n",
       "        text-align: right;\n",
       "    }\n",
       "</style>\n",
       "<table border=\"1\" class=\"dataframe\">\n",
       "  <thead>\n",
       "    <tr style=\"text-align: right;\">\n",
       "      <th></th>\n",
       "      <th>supplier_id</th>\n",
       "      <th>company_name</th>\n",
       "      <th>contact_name</th>\n",
       "      <th>contact_title</th>\n",
       "      <th>address</th>\n",
       "      <th>city</th>\n",
       "      <th>region</th>\n",
       "      <th>postal_code</th>\n",
       "      <th>country</th>\n",
       "      <th>phone</th>\n",
       "      <th>fax</th>\n",
       "      <th>homepage</th>\n",
       "    </tr>\n",
       "  </thead>\n",
       "  <tbody>\n",
       "    <tr>\n",
       "      <th>0</th>\n",
       "      <td>1</td>\n",
       "      <td>Exotic Liquids</td>\n",
       "      <td>Charlotte Cooper</td>\n",
       "      <td>Purchasing Manager</td>\n",
       "      <td>49 Gilbert St.</td>\n",
       "      <td>London</td>\n",
       "      <td>NaN</td>\n",
       "      <td>EC1 4SD</td>\n",
       "      <td>UK</td>\n",
       "      <td>(171) 555-2222</td>\n",
       "      <td>NaN</td>\n",
       "      <td>NaN</td>\n",
       "    </tr>\n",
       "    <tr>\n",
       "      <th>1</th>\n",
       "      <td>2</td>\n",
       "      <td>New Orleans Cajun Delights</td>\n",
       "      <td>Shelley Burke</td>\n",
       "      <td>Order Administrator</td>\n",
       "      <td>P.O. Box 78934</td>\n",
       "      <td>New Orleans</td>\n",
       "      <td>LA</td>\n",
       "      <td>70117</td>\n",
       "      <td>USA</td>\n",
       "      <td>(100) 555-4822</td>\n",
       "      <td>NaN</td>\n",
       "      <td>#CAJUN.HTM#</td>\n",
       "    </tr>\n",
       "    <tr>\n",
       "      <th>2</th>\n",
       "      <td>3</td>\n",
       "      <td>Grandma Kelly's Homestead</td>\n",
       "      <td>Regina Murphy</td>\n",
       "      <td>Sales Representative</td>\n",
       "      <td>707 Oxford Rd.</td>\n",
       "      <td>Ann Arbor</td>\n",
       "      <td>MI</td>\n",
       "      <td>48104</td>\n",
       "      <td>USA</td>\n",
       "      <td>(313) 555-5735</td>\n",
       "      <td>(313) 555-3349</td>\n",
       "      <td>NaN</td>\n",
       "    </tr>\n",
       "    <tr>\n",
       "      <th>3</th>\n",
       "      <td>4</td>\n",
       "      <td>Tokyo Traders</td>\n",
       "      <td>Yoshi Nagase</td>\n",
       "      <td>Marketing Manager</td>\n",
       "      <td>9-8 Sekimai Musashino-shi</td>\n",
       "      <td>Tokyo</td>\n",
       "      <td>NaN</td>\n",
       "      <td>100</td>\n",
       "      <td>Japan</td>\n",
       "      <td>(03) 3555-5011</td>\n",
       "      <td>NaN</td>\n",
       "      <td>NaN</td>\n",
       "    </tr>\n",
       "    <tr>\n",
       "      <th>4</th>\n",
       "      <td>5</td>\n",
       "      <td>Cooperativa de Quesos 'Las Cabras'</td>\n",
       "      <td>Antonio del Valle Saavedra</td>\n",
       "      <td>Export Administrator</td>\n",
       "      <td>Calle del Rosal 4</td>\n",
       "      <td>Oviedo</td>\n",
       "      <td>Asturias</td>\n",
       "      <td>33007</td>\n",
       "      <td>Spain</td>\n",
       "      <td>(98) 598 76 54</td>\n",
       "      <td>NaN</td>\n",
       "      <td>NaN</td>\n",
       "    </tr>\n",
       "    <tr>\n",
       "      <th>5</th>\n",
       "      <td>6</td>\n",
       "      <td>Mayumi's</td>\n",
       "      <td>Mayumi Ohno</td>\n",
       "      <td>Marketing Representative</td>\n",
       "      <td>92 Setsuko Chuo-ku</td>\n",
       "      <td>Osaka</td>\n",
       "      <td>NaN</td>\n",
       "      <td>545</td>\n",
       "      <td>Japan</td>\n",
       "      <td>(06) 431-7877</td>\n",
       "      <td>NaN</td>\n",
       "      <td>Mayumi's (on the World Wide Web)#http://www.mi...</td>\n",
       "    </tr>\n",
       "    <tr>\n",
       "      <th>6</th>\n",
       "      <td>7</td>\n",
       "      <td>Pavlova, Ltd.</td>\n",
       "      <td>Ian Devling</td>\n",
       "      <td>Marketing Manager</td>\n",
       "      <td>74 Rose St. Moonie Ponds</td>\n",
       "      <td>Melbourne</td>\n",
       "      <td>Victoria</td>\n",
       "      <td>3058</td>\n",
       "      <td>Australia</td>\n",
       "      <td>(03) 444-2343</td>\n",
       "      <td>(03) 444-6588</td>\n",
       "      <td>NaN</td>\n",
       "    </tr>\n",
       "    <tr>\n",
       "      <th>7</th>\n",
       "      <td>8</td>\n",
       "      <td>Specialty Biscuits, Ltd.</td>\n",
       "      <td>Peter Wilson</td>\n",
       "      <td>Sales Representative</td>\n",
       "      <td>29 King's Way</td>\n",
       "      <td>Manchester</td>\n",
       "      <td>NaN</td>\n",
       "      <td>M14 GSD</td>\n",
       "      <td>UK</td>\n",
       "      <td>(161) 555-4448</td>\n",
       "      <td>NaN</td>\n",
       "      <td>NaN</td>\n",
       "    </tr>\n",
       "    <tr>\n",
       "      <th>8</th>\n",
       "      <td>9</td>\n",
       "      <td>PB KnÃ¤ckebrÃ¶d AB</td>\n",
       "      <td>Lars Peterson</td>\n",
       "      <td>Sales Agent</td>\n",
       "      <td>Kaloadagatan 13</td>\n",
       "      <td>GÃ¶teborg</td>\n",
       "      <td>NaN</td>\n",
       "      <td>S-345 67</td>\n",
       "      <td>Sweden</td>\n",
       "      <td>031-987 65 43</td>\n",
       "      <td>031-987 65 91</td>\n",
       "      <td>NaN</td>\n",
       "    </tr>\n",
       "    <tr>\n",
       "      <th>9</th>\n",
       "      <td>10</td>\n",
       "      <td>Refrescos Americanas LTDA</td>\n",
       "      <td>Carlos Diaz</td>\n",
       "      <td>Marketing Manager</td>\n",
       "      <td>Av. das Americanas 12.890</td>\n",
       "      <td>Sao Paulo</td>\n",
       "      <td>NaN</td>\n",
       "      <td>5442</td>\n",
       "      <td>Brazil</td>\n",
       "      <td>(11) 555 4640</td>\n",
       "      <td>NaN</td>\n",
       "      <td>NaN</td>\n",
       "    </tr>\n",
       "    <tr>\n",
       "      <th>10</th>\n",
       "      <td>11</td>\n",
       "      <td>Heli SÃ¼ÃŸwaren GmbH &amp; Co. KG</td>\n",
       "      <td>Petra Winkler</td>\n",
       "      <td>Sales Manager</td>\n",
       "      <td>TiergartenstraÃŸe 5</td>\n",
       "      <td>Berlin</td>\n",
       "      <td>NaN</td>\n",
       "      <td>10785</td>\n",
       "      <td>Germany</td>\n",
       "      <td>(010) 9984510</td>\n",
       "      <td>NaN</td>\n",
       "      <td>NaN</td>\n",
       "    </tr>\n",
       "    <tr>\n",
       "      <th>11</th>\n",
       "      <td>12</td>\n",
       "      <td>Plutzer LebensmittelgroÃŸmÃ¤rkte AG</td>\n",
       "      <td>Martin Bein</td>\n",
       "      <td>International Marketing Mgr.</td>\n",
       "      <td>Bogenallee 51</td>\n",
       "      <td>Frankfurt</td>\n",
       "      <td>NaN</td>\n",
       "      <td>60439</td>\n",
       "      <td>Germany</td>\n",
       "      <td>(069) 992755</td>\n",
       "      <td>NaN</td>\n",
       "      <td>Plutzer (on the World Wide Web)#http://www.mic...</td>\n",
       "    </tr>\n",
       "    <tr>\n",
       "      <th>12</th>\n",
       "      <td>13</td>\n",
       "      <td>Nord-Ost-Fisch Handelsgesellschaft mbH</td>\n",
       "      <td>Sven Petersen</td>\n",
       "      <td>Coordinator Foreign Markets</td>\n",
       "      <td>Frahmredder 112a</td>\n",
       "      <td>Cuxhaven</td>\n",
       "      <td>NaN</td>\n",
       "      <td>27478</td>\n",
       "      <td>Germany</td>\n",
       "      <td>(04721) 8713</td>\n",
       "      <td>(04721) 8714</td>\n",
       "      <td>NaN</td>\n",
       "    </tr>\n",
       "    <tr>\n",
       "      <th>13</th>\n",
       "      <td>14</td>\n",
       "      <td>Formaggi Fortini s.r.l.</td>\n",
       "      <td>Elio Rossi</td>\n",
       "      <td>Sales Representative</td>\n",
       "      <td>Viale Dante, 75</td>\n",
       "      <td>Ravenna</td>\n",
       "      <td>NaN</td>\n",
       "      <td>48100</td>\n",
       "      <td>Italy</td>\n",
       "      <td>(0544) 60323</td>\n",
       "      <td>(0544) 60603</td>\n",
       "      <td>#FORMAGGI.HTM#</td>\n",
       "    </tr>\n",
       "    <tr>\n",
       "      <th>14</th>\n",
       "      <td>15</td>\n",
       "      <td>Norske Meierier</td>\n",
       "      <td>Beate Vileid</td>\n",
       "      <td>Marketing Manager</td>\n",
       "      <td>Hatlevegen 5</td>\n",
       "      <td>Sandvika</td>\n",
       "      <td>NaN</td>\n",
       "      <td>1320</td>\n",
       "      <td>Norway</td>\n",
       "      <td>(0)2-953010</td>\n",
       "      <td>NaN</td>\n",
       "      <td>NaN</td>\n",
       "    </tr>\n",
       "    <tr>\n",
       "      <th>15</th>\n",
       "      <td>16</td>\n",
       "      <td>Bigfoot Breweries</td>\n",
       "      <td>Cheryl Saylor</td>\n",
       "      <td>Regional Account Rep.</td>\n",
       "      <td>3400 - 8th Avenue Suite 210</td>\n",
       "      <td>Bend</td>\n",
       "      <td>OR</td>\n",
       "      <td>97101</td>\n",
       "      <td>USA</td>\n",
       "      <td>(503) 555-9931</td>\n",
       "      <td>NaN</td>\n",
       "      <td>NaN</td>\n",
       "    </tr>\n",
       "    <tr>\n",
       "      <th>16</th>\n",
       "      <td>17</td>\n",
       "      <td>Svensk SjÃ¶fÃ¶da AB</td>\n",
       "      <td>Michael BjÃ¶rn</td>\n",
       "      <td>Sales Representative</td>\n",
       "      <td>BrovallavÃ¤gen 231</td>\n",
       "      <td>Stockholm</td>\n",
       "      <td>NaN</td>\n",
       "      <td>S-123 45</td>\n",
       "      <td>Sweden</td>\n",
       "      <td>08-123 45 67</td>\n",
       "      <td>NaN</td>\n",
       "      <td>NaN</td>\n",
       "    </tr>\n",
       "    <tr>\n",
       "      <th>17</th>\n",
       "      <td>18</td>\n",
       "      <td>Aux joyeux ecclÃ©siastiques</td>\n",
       "      <td>GuylÃ¨ne Nodier</td>\n",
       "      <td>Sales Manager</td>\n",
       "      <td>203, Rue des Francs-Bourgeois</td>\n",
       "      <td>Paris</td>\n",
       "      <td>NaN</td>\n",
       "      <td>75004</td>\n",
       "      <td>France</td>\n",
       "      <td>(1) 03.83.00.68</td>\n",
       "      <td>(1) 03.83.00.62</td>\n",
       "      <td>NaN</td>\n",
       "    </tr>\n",
       "    <tr>\n",
       "      <th>18</th>\n",
       "      <td>19</td>\n",
       "      <td>New England Seafood Cannery</td>\n",
       "      <td>Robb Merchant</td>\n",
       "      <td>Wholesale Account Agent</td>\n",
       "      <td>Order Processing Dept. 2100 Paul Revere Blvd.</td>\n",
       "      <td>Boston</td>\n",
       "      <td>MA</td>\n",
       "      <td>02134</td>\n",
       "      <td>USA</td>\n",
       "      <td>(617) 555-3267</td>\n",
       "      <td>(617) 555-3389</td>\n",
       "      <td>NaN</td>\n",
       "    </tr>\n",
       "    <tr>\n",
       "      <th>19</th>\n",
       "      <td>20</td>\n",
       "      <td>Leka Trading</td>\n",
       "      <td>Chandra Leka</td>\n",
       "      <td>Owner</td>\n",
       "      <td>471 Serangoon Loop, Suite #402</td>\n",
       "      <td>Singapore</td>\n",
       "      <td>NaN</td>\n",
       "      <td>0512</td>\n",
       "      <td>Singapore</td>\n",
       "      <td>555-8787</td>\n",
       "      <td>NaN</td>\n",
       "      <td>NaN</td>\n",
       "    </tr>\n",
       "    <tr>\n",
       "      <th>20</th>\n",
       "      <td>21</td>\n",
       "      <td>Lyngbysild</td>\n",
       "      <td>Niels Petersen</td>\n",
       "      <td>Sales Manager</td>\n",
       "      <td>Lyngbysild Fiskebakken 10</td>\n",
       "      <td>Lyngby</td>\n",
       "      <td>NaN</td>\n",
       "      <td>2800</td>\n",
       "      <td>Denmark</td>\n",
       "      <td>43844108</td>\n",
       "      <td>43844115</td>\n",
       "      <td>NaN</td>\n",
       "    </tr>\n",
       "    <tr>\n",
       "      <th>21</th>\n",
       "      <td>22</td>\n",
       "      <td>Zaanse Snoepfabriek</td>\n",
       "      <td>Dirk Luchte</td>\n",
       "      <td>Accounting Manager</td>\n",
       "      <td>Verkoop Rijnweg 22</td>\n",
       "      <td>Zaandam</td>\n",
       "      <td>NaN</td>\n",
       "      <td>9999 ZZ</td>\n",
       "      <td>Netherlands</td>\n",
       "      <td>(12345) 1212</td>\n",
       "      <td>(12345) 1210</td>\n",
       "      <td>NaN</td>\n",
       "    </tr>\n",
       "    <tr>\n",
       "      <th>22</th>\n",
       "      <td>23</td>\n",
       "      <td>Karkki Oy</td>\n",
       "      <td>Anne Heikkonen</td>\n",
       "      <td>Product Manager</td>\n",
       "      <td>Valtakatu 12</td>\n",
       "      <td>Lappeenranta</td>\n",
       "      <td>NaN</td>\n",
       "      <td>53120</td>\n",
       "      <td>Finland</td>\n",
       "      <td>(953) 10956</td>\n",
       "      <td>NaN</td>\n",
       "      <td>NaN</td>\n",
       "    </tr>\n",
       "    <tr>\n",
       "      <th>23</th>\n",
       "      <td>24</td>\n",
       "      <td>G'day, Mate</td>\n",
       "      <td>Wendy Mackenzie</td>\n",
       "      <td>Sales Representative</td>\n",
       "      <td>170 Prince Edward Parade Hunter's Hill</td>\n",
       "      <td>Sydney</td>\n",
       "      <td>NSW</td>\n",
       "      <td>2042</td>\n",
       "      <td>Australia</td>\n",
       "      <td>(02) 555-5914</td>\n",
       "      <td>(02) 555-4873</td>\n",
       "      <td>G'day Mate (on the World Wide Web)#http://www....</td>\n",
       "    </tr>\n",
       "    <tr>\n",
       "      <th>24</th>\n",
       "      <td>25</td>\n",
       "      <td>Ma Maison</td>\n",
       "      <td>Jean-Guy Lauzon</td>\n",
       "      <td>Marketing Manager</td>\n",
       "      <td>2960 Rue St. Laurent</td>\n",
       "      <td>MontrÃ©al</td>\n",
       "      <td>QuÃ©bec</td>\n",
       "      <td>H1J 1C3</td>\n",
       "      <td>Canada</td>\n",
       "      <td>(514) 555-9022</td>\n",
       "      <td>NaN</td>\n",
       "      <td>NaN</td>\n",
       "    </tr>\n",
       "    <tr>\n",
       "      <th>25</th>\n",
       "      <td>26</td>\n",
       "      <td>Pasta Buttini s.r.l.</td>\n",
       "      <td>Giovanni Giudici</td>\n",
       "      <td>Order Administrator</td>\n",
       "      <td>Via dei Gelsomini, 153</td>\n",
       "      <td>Salerno</td>\n",
       "      <td>NaN</td>\n",
       "      <td>84100</td>\n",
       "      <td>Italy</td>\n",
       "      <td>(089) 6547665</td>\n",
       "      <td>(089) 6547667</td>\n",
       "      <td>NaN</td>\n",
       "    </tr>\n",
       "    <tr>\n",
       "      <th>26</th>\n",
       "      <td>27</td>\n",
       "      <td>Escargots Nouveaux</td>\n",
       "      <td>Marie Delamare</td>\n",
       "      <td>Sales Manager</td>\n",
       "      <td>22, rue H. Voiron</td>\n",
       "      <td>Montceau</td>\n",
       "      <td>NaN</td>\n",
       "      <td>71300</td>\n",
       "      <td>France</td>\n",
       "      <td>85.57.00.07</td>\n",
       "      <td>NaN</td>\n",
       "      <td>NaN</td>\n",
       "    </tr>\n",
       "    <tr>\n",
       "      <th>27</th>\n",
       "      <td>28</td>\n",
       "      <td>Gai pÃ¢turage</td>\n",
       "      <td>Eliane Noz</td>\n",
       "      <td>Sales Representative</td>\n",
       "      <td>Bat. B 3, rue des Alpes</td>\n",
       "      <td>Annecy</td>\n",
       "      <td>NaN</td>\n",
       "      <td>74000</td>\n",
       "      <td>France</td>\n",
       "      <td>38.76.98.06</td>\n",
       "      <td>38.76.98.58</td>\n",
       "      <td>NaN</td>\n",
       "    </tr>\n",
       "    <tr>\n",
       "      <th>28</th>\n",
       "      <td>29</td>\n",
       "      <td>ForÃªts d'Ã©rables</td>\n",
       "      <td>Chantal Goulet</td>\n",
       "      <td>Accounting Manager</td>\n",
       "      <td>148 rue Chasseur</td>\n",
       "      <td>Ste-Hyacinthe</td>\n",
       "      <td>QuÃ©bec</td>\n",
       "      <td>J2S 7S8</td>\n",
       "      <td>Canada</td>\n",
       "      <td>(514) 555-2955</td>\n",
       "      <td>(514) 555-2921</td>\n",
       "      <td>NaN</td>\n",
       "    </tr>\n",
       "  </tbody>\n",
       "</table>\n",
       "</div>"
      ],
      "text/plain": [
       "    supplier_id                            company_name  \\\n",
       "0             1                          Exotic Liquids   \n",
       "1             2              New Orleans Cajun Delights   \n",
       "2             3               Grandma Kelly's Homestead   \n",
       "3             4                           Tokyo Traders   \n",
       "4             5      Cooperativa de Quesos 'Las Cabras'   \n",
       "5             6                                Mayumi's   \n",
       "6             7                           Pavlova, Ltd.   \n",
       "7             8                Specialty Biscuits, Ltd.   \n",
       "8             9                      PB KnÃ¤ckebrÃ¶d AB   \n",
       "9            10               Refrescos Americanas LTDA   \n",
       "10           11           Heli SÃ¼ÃŸwaren GmbH & Co. KG   \n",
       "11           12     Plutzer LebensmittelgroÃŸmÃ¤rkte AG   \n",
       "12           13  Nord-Ost-Fisch Handelsgesellschaft mbH   \n",
       "13           14                 Formaggi Fortini s.r.l.   \n",
       "14           15                         Norske Meierier   \n",
       "15           16                       Bigfoot Breweries   \n",
       "16           17                     Svensk SjÃ¶fÃ¶da AB   \n",
       "17           18             Aux joyeux ecclÃ©siastiques   \n",
       "18           19             New England Seafood Cannery   \n",
       "19           20                            Leka Trading   \n",
       "20           21                              Lyngbysild   \n",
       "21           22                     Zaanse Snoepfabriek   \n",
       "22           23                               Karkki Oy   \n",
       "23           24                             G'day, Mate   \n",
       "24           25                               Ma Maison   \n",
       "25           26                    Pasta Buttini s.r.l.   \n",
       "26           27                      Escargots Nouveaux   \n",
       "27           28                           Gai pÃ¢turage   \n",
       "28           29                      ForÃªts d'Ã©rables   \n",
       "\n",
       "                  contact_name                 contact_title  \\\n",
       "0             Charlotte Cooper            Purchasing Manager   \n",
       "1                Shelley Burke           Order Administrator   \n",
       "2                Regina Murphy          Sales Representative   \n",
       "3                 Yoshi Nagase             Marketing Manager   \n",
       "4   Antonio del Valle Saavedra          Export Administrator   \n",
       "5                  Mayumi Ohno      Marketing Representative   \n",
       "6                  Ian Devling             Marketing Manager   \n",
       "7                 Peter Wilson          Sales Representative   \n",
       "8                Lars Peterson                   Sales Agent   \n",
       "9                  Carlos Diaz             Marketing Manager   \n",
       "10               Petra Winkler                 Sales Manager   \n",
       "11                 Martin Bein  International Marketing Mgr.   \n",
       "12               Sven Petersen   Coordinator Foreign Markets   \n",
       "13                  Elio Rossi          Sales Representative   \n",
       "14                Beate Vileid             Marketing Manager   \n",
       "15               Cheryl Saylor         Regional Account Rep.   \n",
       "16              Michael BjÃ¶rn          Sales Representative   \n",
       "17             GuylÃ¨ne Nodier                 Sales Manager   \n",
       "18               Robb Merchant       Wholesale Account Agent   \n",
       "19                Chandra Leka                         Owner   \n",
       "20              Niels Petersen                 Sales Manager   \n",
       "21                 Dirk Luchte            Accounting Manager   \n",
       "22              Anne Heikkonen               Product Manager   \n",
       "23             Wendy Mackenzie          Sales Representative   \n",
       "24             Jean-Guy Lauzon             Marketing Manager   \n",
       "25            Giovanni Giudici           Order Administrator   \n",
       "26              Marie Delamare                 Sales Manager   \n",
       "27                  Eliane Noz          Sales Representative   \n",
       "28              Chantal Goulet            Accounting Manager   \n",
       "\n",
       "                                          address           city    region  \\\n",
       "0                                  49 Gilbert St.         London       NaN   \n",
       "1                                  P.O. Box 78934    New Orleans        LA   \n",
       "2                                  707 Oxford Rd.      Ann Arbor        MI   \n",
       "3                       9-8 Sekimai Musashino-shi          Tokyo       NaN   \n",
       "4                               Calle del Rosal 4         Oviedo  Asturias   \n",
       "5                              92 Setsuko Chuo-ku          Osaka       NaN   \n",
       "6                        74 Rose St. Moonie Ponds      Melbourne  Victoria   \n",
       "7                                   29 King's Way     Manchester       NaN   \n",
       "8                                 Kaloadagatan 13      GÃ¶teborg       NaN   \n",
       "9                       Av. das Americanas 12.890      Sao Paulo       NaN   \n",
       "10                            TiergartenstraÃŸe 5         Berlin       NaN   \n",
       "11                                  Bogenallee 51      Frankfurt       NaN   \n",
       "12                               Frahmredder 112a       Cuxhaven       NaN   \n",
       "13                                Viale Dante, 75        Ravenna       NaN   \n",
       "14                                   Hatlevegen 5       Sandvika       NaN   \n",
       "15                    3400 - 8th Avenue Suite 210           Bend        OR   \n",
       "16                             BrovallavÃ¤gen 231      Stockholm       NaN   \n",
       "17                  203, Rue des Francs-Bourgeois          Paris       NaN   \n",
       "18  Order Processing Dept. 2100 Paul Revere Blvd.         Boston        MA   \n",
       "19                 471 Serangoon Loop, Suite #402      Singapore       NaN   \n",
       "20                      Lyngbysild Fiskebakken 10         Lyngby       NaN   \n",
       "21                             Verkoop Rijnweg 22        Zaandam       NaN   \n",
       "22                                   Valtakatu 12   Lappeenranta       NaN   \n",
       "23         170 Prince Edward Parade Hunter's Hill         Sydney       NSW   \n",
       "24                           2960 Rue St. Laurent      MontrÃ©al   QuÃ©bec   \n",
       "25                         Via dei Gelsomini, 153        Salerno       NaN   \n",
       "26                              22, rue H. Voiron       Montceau       NaN   \n",
       "27                        Bat. B 3, rue des Alpes         Annecy       NaN   \n",
       "28                               148 rue Chasseur  Ste-Hyacinthe   QuÃ©bec   \n",
       "\n",
       "   postal_code      country            phone              fax  \\\n",
       "0      EC1 4SD           UK   (171) 555-2222              NaN   \n",
       "1        70117          USA   (100) 555-4822              NaN   \n",
       "2        48104          USA   (313) 555-5735   (313) 555-3349   \n",
       "3          100        Japan   (03) 3555-5011              NaN   \n",
       "4        33007        Spain   (98) 598 76 54              NaN   \n",
       "5          545        Japan    (06) 431-7877              NaN   \n",
       "6         3058    Australia    (03) 444-2343    (03) 444-6588   \n",
       "7      M14 GSD           UK   (161) 555-4448              NaN   \n",
       "8     S-345 67       Sweden    031-987 65 43    031-987 65 91   \n",
       "9         5442       Brazil    (11) 555 4640              NaN   \n",
       "10       10785      Germany    (010) 9984510              NaN   \n",
       "11       60439      Germany     (069) 992755              NaN   \n",
       "12       27478      Germany     (04721) 8713     (04721) 8714   \n",
       "13       48100        Italy     (0544) 60323     (0544) 60603   \n",
       "14        1320       Norway      (0)2-953010              NaN   \n",
       "15       97101          USA   (503) 555-9931              NaN   \n",
       "16    S-123 45       Sweden     08-123 45 67              NaN   \n",
       "17       75004       France  (1) 03.83.00.68  (1) 03.83.00.62   \n",
       "18       02134          USA   (617) 555-3267   (617) 555-3389   \n",
       "19        0512    Singapore         555-8787              NaN   \n",
       "20        2800      Denmark         43844108         43844115   \n",
       "21     9999 ZZ  Netherlands     (12345) 1212     (12345) 1210   \n",
       "22       53120      Finland      (953) 10956              NaN   \n",
       "23        2042    Australia    (02) 555-5914    (02) 555-4873   \n",
       "24     H1J 1C3       Canada   (514) 555-9022              NaN   \n",
       "25       84100        Italy    (089) 6547665    (089) 6547667   \n",
       "26       71300       France      85.57.00.07              NaN   \n",
       "27       74000       France      38.76.98.06      38.76.98.58   \n",
       "28     J2S 7S8       Canada   (514) 555-2955   (514) 555-2921   \n",
       "\n",
       "                                             homepage  \n",
       "0                                                 NaN  \n",
       "1                                         #CAJUN.HTM#  \n",
       "2                                                 NaN  \n",
       "3                                                 NaN  \n",
       "4                                                 NaN  \n",
       "5   Mayumi's (on the World Wide Web)#http://www.mi...  \n",
       "6                                                 NaN  \n",
       "7                                                 NaN  \n",
       "8                                                 NaN  \n",
       "9                                                 NaN  \n",
       "10                                                NaN  \n",
       "11  Plutzer (on the World Wide Web)#http://www.mic...  \n",
       "12                                                NaN  \n",
       "13                                     #FORMAGGI.HTM#  \n",
       "14                                                NaN  \n",
       "15                                                NaN  \n",
       "16                                                NaN  \n",
       "17                                                NaN  \n",
       "18                                                NaN  \n",
       "19                                                NaN  \n",
       "20                                                NaN  \n",
       "21                                                NaN  \n",
       "22                                                NaN  \n",
       "23  G'day Mate (on the World Wide Web)#http://www....  \n",
       "24                                                NaN  \n",
       "25                                                NaN  \n",
       "26                                                NaN  \n",
       "27                                                NaN  \n",
       "28                                                NaN  "
      ]
     },
     "execution_count": 101,
     "metadata": {},
     "output_type": "execute_result"
    }
   ],
   "source": [
    "northwind_suppliers = pd.read_csv('suppliers.csv',error_bad_lines=False,sep=\";\",engine='python')\n",
    "northwind_suppliers.head(30)"
   ]
  },
  {
   "cell_type": "code",
   "execution_count": 100,
   "metadata": {},
   "outputs": [
    {
     "data": {
      "text/html": [
       "<div>\n",
       "<style scoped>\n",
       "    .dataframe tbody tr th:only-of-type {\n",
       "        vertical-align: middle;\n",
       "    }\n",
       "\n",
       "    .dataframe tbody tr th {\n",
       "        vertical-align: top;\n",
       "    }\n",
       "\n",
       "    .dataframe thead th {\n",
       "        text-align: right;\n",
       "    }\n",
       "</style>\n",
       "<table border=\"1\" class=\"dataframe\">\n",
       "  <thead>\n",
       "    <tr style=\"text-align: right;\">\n",
       "      <th></th>\n",
       "      <th>territory_id</th>\n",
       "      <th>territory_description</th>\n",
       "      <th>region_id</th>\n",
       "    </tr>\n",
       "  </thead>\n",
       "  <tbody>\n",
       "    <tr>\n",
       "      <th>0</th>\n",
       "      <td>1581</td>\n",
       "      <td>Westboro</td>\n",
       "      <td>1</td>\n",
       "    </tr>\n",
       "    <tr>\n",
       "      <th>1</th>\n",
       "      <td>1730</td>\n",
       "      <td>Bedford</td>\n",
       "      <td>1</td>\n",
       "    </tr>\n",
       "    <tr>\n",
       "      <th>2</th>\n",
       "      <td>1833</td>\n",
       "      <td>Georgetow</td>\n",
       "      <td>1</td>\n",
       "    </tr>\n",
       "    <tr>\n",
       "      <th>3</th>\n",
       "      <td>2116</td>\n",
       "      <td>Boston</td>\n",
       "      <td>1</td>\n",
       "    </tr>\n",
       "    <tr>\n",
       "      <th>4</th>\n",
       "      <td>2139</td>\n",
       "      <td>Cambridge</td>\n",
       "      <td>1</td>\n",
       "    </tr>\n",
       "    <tr>\n",
       "      <th>5</th>\n",
       "      <td>2184</td>\n",
       "      <td>Braintree</td>\n",
       "      <td>1</td>\n",
       "    </tr>\n",
       "    <tr>\n",
       "      <th>6</th>\n",
       "      <td>2903</td>\n",
       "      <td>Providence</td>\n",
       "      <td>1</td>\n",
       "    </tr>\n",
       "    <tr>\n",
       "      <th>7</th>\n",
       "      <td>3049</td>\n",
       "      <td>Hollis</td>\n",
       "      <td>3</td>\n",
       "    </tr>\n",
       "    <tr>\n",
       "      <th>8</th>\n",
       "      <td>3801</td>\n",
       "      <td>Portsmouth</td>\n",
       "      <td>3</td>\n",
       "    </tr>\n",
       "    <tr>\n",
       "      <th>9</th>\n",
       "      <td>6897</td>\n",
       "      <td>Wilton</td>\n",
       "      <td>1</td>\n",
       "    </tr>\n",
       "  </tbody>\n",
       "</table>\n",
       "</div>"
      ],
      "text/plain": [
       "   territory_id territory_description  region_id\n",
       "0          1581              Westboro          1\n",
       "1          1730               Bedford          1\n",
       "2          1833             Georgetow          1\n",
       "3          2116                Boston          1\n",
       "4          2139             Cambridge          1\n",
       "5          2184             Braintree          1\n",
       "6          2903            Providence          1\n",
       "7          3049                Hollis          3\n",
       "8          3801            Portsmouth          3\n",
       "9          6897                Wilton          1"
      ]
     },
     "execution_count": 100,
     "metadata": {},
     "output_type": "execute_result"
    }
   ],
   "source": [
    "northwind_territories = pd.read_csv('territories.csv',sep=\";\",engine='python')\n",
    "northwind_territories.head(10)\n"
   ]
  },
  {
   "cell_type": "code",
   "execution_count": 99,
   "metadata": {},
   "outputs": [
    {
     "data": {
      "text/html": [
       "<div>\n",
       "<style scoped>\n",
       "    .dataframe tbody tr th:only-of-type {\n",
       "        vertical-align: middle;\n",
       "    }\n",
       "\n",
       "    .dataframe tbody tr th {\n",
       "        vertical-align: top;\n",
       "    }\n",
       "\n",
       "    .dataframe thead th {\n",
       "        text-align: right;\n",
       "    }\n",
       "</style>\n",
       "<table border=\"1\" class=\"dataframe\">\n",
       "  <thead>\n",
       "    <tr style=\"text-align: right;\">\n",
       "      <th></th>\n",
       "      <th>state_id</th>\n",
       "      <th>state_name</th>\n",
       "      <th>state_abbr</th>\n",
       "      <th>state_region</th>\n",
       "    </tr>\n",
       "  </thead>\n",
       "  <tbody>\n",
       "    <tr>\n",
       "      <th>0</th>\n",
       "      <td>1</td>\n",
       "      <td>Alabama</td>\n",
       "      <td>AL</td>\n",
       "      <td>south</td>\n",
       "    </tr>\n",
       "    <tr>\n",
       "      <th>1</th>\n",
       "      <td>2</td>\n",
       "      <td>Alaska</td>\n",
       "      <td>AK</td>\n",
       "      <td>north</td>\n",
       "    </tr>\n",
       "    <tr>\n",
       "      <th>2</th>\n",
       "      <td>3</td>\n",
       "      <td>Arizona</td>\n",
       "      <td>AZ</td>\n",
       "      <td>west</td>\n",
       "    </tr>\n",
       "    <tr>\n",
       "      <th>3</th>\n",
       "      <td>4</td>\n",
       "      <td>Arkansas</td>\n",
       "      <td>AR</td>\n",
       "      <td>south</td>\n",
       "    </tr>\n",
       "    <tr>\n",
       "      <th>4</th>\n",
       "      <td>5</td>\n",
       "      <td>California</td>\n",
       "      <td>CA</td>\n",
       "      <td>west</td>\n",
       "    </tr>\n",
       "    <tr>\n",
       "      <th>5</th>\n",
       "      <td>6</td>\n",
       "      <td>Colorado</td>\n",
       "      <td>CO</td>\n",
       "      <td>west</td>\n",
       "    </tr>\n",
       "    <tr>\n",
       "      <th>6</th>\n",
       "      <td>7</td>\n",
       "      <td>Connecticut</td>\n",
       "      <td>CT</td>\n",
       "      <td>east</td>\n",
       "    </tr>\n",
       "    <tr>\n",
       "      <th>7</th>\n",
       "      <td>8</td>\n",
       "      <td>Delaware</td>\n",
       "      <td>DE</td>\n",
       "      <td>east</td>\n",
       "    </tr>\n",
       "    <tr>\n",
       "      <th>8</th>\n",
       "      <td>9</td>\n",
       "      <td>District of Columbia</td>\n",
       "      <td>DC</td>\n",
       "      <td>east</td>\n",
       "    </tr>\n",
       "    <tr>\n",
       "      <th>9</th>\n",
       "      <td>10</td>\n",
       "      <td>Florida</td>\n",
       "      <td>FL</td>\n",
       "      <td>south</td>\n",
       "    </tr>\n",
       "    <tr>\n",
       "      <th>10</th>\n",
       "      <td>11</td>\n",
       "      <td>Georgia</td>\n",
       "      <td>GA</td>\n",
       "      <td>south</td>\n",
       "    </tr>\n",
       "    <tr>\n",
       "      <th>11</th>\n",
       "      <td>12</td>\n",
       "      <td>Hawaii</td>\n",
       "      <td>HI</td>\n",
       "      <td>west</td>\n",
       "    </tr>\n",
       "    <tr>\n",
       "      <th>12</th>\n",
       "      <td>13</td>\n",
       "      <td>Idaho</td>\n",
       "      <td>ID</td>\n",
       "      <td>midwest</td>\n",
       "    </tr>\n",
       "    <tr>\n",
       "      <th>13</th>\n",
       "      <td>14</td>\n",
       "      <td>Illinois</td>\n",
       "      <td>IL</td>\n",
       "      <td>midwest</td>\n",
       "    </tr>\n",
       "    <tr>\n",
       "      <th>14</th>\n",
       "      <td>15</td>\n",
       "      <td>Indiana</td>\n",
       "      <td>IN</td>\n",
       "      <td>midwest</td>\n",
       "    </tr>\n",
       "    <tr>\n",
       "      <th>15</th>\n",
       "      <td>16</td>\n",
       "      <td>Iowa</td>\n",
       "      <td>IO</td>\n",
       "      <td>midwest</td>\n",
       "    </tr>\n",
       "    <tr>\n",
       "      <th>16</th>\n",
       "      <td>17</td>\n",
       "      <td>Kansas</td>\n",
       "      <td>KS</td>\n",
       "      <td>midwest</td>\n",
       "    </tr>\n",
       "    <tr>\n",
       "      <th>17</th>\n",
       "      <td>18</td>\n",
       "      <td>Kentucky</td>\n",
       "      <td>KY</td>\n",
       "      <td>south</td>\n",
       "    </tr>\n",
       "    <tr>\n",
       "      <th>18</th>\n",
       "      <td>19</td>\n",
       "      <td>Louisiana</td>\n",
       "      <td>LA</td>\n",
       "      <td>south</td>\n",
       "    </tr>\n",
       "    <tr>\n",
       "      <th>19</th>\n",
       "      <td>20</td>\n",
       "      <td>Maine</td>\n",
       "      <td>ME</td>\n",
       "      <td>north</td>\n",
       "    </tr>\n",
       "    <tr>\n",
       "      <th>20</th>\n",
       "      <td>21</td>\n",
       "      <td>Maryland</td>\n",
       "      <td>MD</td>\n",
       "      <td>east</td>\n",
       "    </tr>\n",
       "    <tr>\n",
       "      <th>21</th>\n",
       "      <td>22</td>\n",
       "      <td>Massachusetts</td>\n",
       "      <td>MA</td>\n",
       "      <td>north</td>\n",
       "    </tr>\n",
       "    <tr>\n",
       "      <th>22</th>\n",
       "      <td>23</td>\n",
       "      <td>Michigan</td>\n",
       "      <td>MI</td>\n",
       "      <td>north</td>\n",
       "    </tr>\n",
       "    <tr>\n",
       "      <th>23</th>\n",
       "      <td>24</td>\n",
       "      <td>Minnesota</td>\n",
       "      <td>MN</td>\n",
       "      <td>north</td>\n",
       "    </tr>\n",
       "    <tr>\n",
       "      <th>24</th>\n",
       "      <td>25</td>\n",
       "      <td>Mississippi</td>\n",
       "      <td>MS</td>\n",
       "      <td>south</td>\n",
       "    </tr>\n",
       "    <tr>\n",
       "      <th>25</th>\n",
       "      <td>26</td>\n",
       "      <td>Missouri</td>\n",
       "      <td>MO</td>\n",
       "      <td>south</td>\n",
       "    </tr>\n",
       "    <tr>\n",
       "      <th>26</th>\n",
       "      <td>27</td>\n",
       "      <td>Montana</td>\n",
       "      <td>MT</td>\n",
       "      <td>west</td>\n",
       "    </tr>\n",
       "    <tr>\n",
       "      <th>27</th>\n",
       "      <td>28</td>\n",
       "      <td>Nebraska</td>\n",
       "      <td>NE</td>\n",
       "      <td>midwest</td>\n",
       "    </tr>\n",
       "    <tr>\n",
       "      <th>28</th>\n",
       "      <td>29</td>\n",
       "      <td>Nevada</td>\n",
       "      <td>NV</td>\n",
       "      <td>west</td>\n",
       "    </tr>\n",
       "    <tr>\n",
       "      <th>29</th>\n",
       "      <td>30</td>\n",
       "      <td>New Hampshire</td>\n",
       "      <td>NH</td>\n",
       "      <td>east</td>\n",
       "    </tr>\n",
       "  </tbody>\n",
       "</table>\n",
       "</div>"
      ],
      "text/plain": [
       "    state_id            state_name state_abbr state_region\n",
       "0          1               Alabama         AL        south\n",
       "1          2                Alaska         AK        north\n",
       "2          3               Arizona         AZ         west\n",
       "3          4              Arkansas         AR        south\n",
       "4          5            California         CA         west\n",
       "5          6              Colorado         CO         west\n",
       "6          7           Connecticut         CT         east\n",
       "7          8              Delaware         DE         east\n",
       "8          9  District of Columbia         DC         east\n",
       "9         10               Florida         FL        south\n",
       "10        11               Georgia         GA        south\n",
       "11        12                Hawaii         HI         west\n",
       "12        13                 Idaho         ID      midwest\n",
       "13        14              Illinois         IL      midwest\n",
       "14        15               Indiana         IN      midwest\n",
       "15        16                  Iowa         IO      midwest\n",
       "16        17                Kansas         KS      midwest\n",
       "17        18              Kentucky         KY        south\n",
       "18        19             Louisiana         LA        south\n",
       "19        20                 Maine         ME        north\n",
       "20        21              Maryland         MD         east\n",
       "21        22         Massachusetts         MA        north\n",
       "22        23              Michigan         MI        north\n",
       "23        24             Minnesota         MN        north\n",
       "24        25           Mississippi         MS        south\n",
       "25        26              Missouri         MO        south\n",
       "26        27               Montana         MT         west\n",
       "27        28              Nebraska         NE      midwest\n",
       "28        29                Nevada         NV         west\n",
       "29        30         New Hampshire         NH         east"
      ]
     },
     "execution_count": 99,
     "metadata": {},
     "output_type": "execute_result"
    }
   ],
   "source": [
    "northwind_us_states = pd.read_csv('us_states.csv',sep=\";\",engine='python')\n",
    "northwind_us_states.head(30)"
   ]
  },
  {
   "cell_type": "markdown",
   "metadata": {},
   "source": [
    "# <font color='green'>  Concatenação de todos os arquivos para termos uma visão integrada</font>\n"
   ]
  },
  {
   "cell_type": "code",
   "execution_count": 19,
   "metadata": {},
   "outputs": [],
   "source": [
    "unir_concat = pd.concat([northwind_categories,northwind_customers,northwind_territories,northwind_employees,northwind_details,northwind_orders,northwind_products,northwind_region,northwind_shippers,northwind_suppliers,northwind_territories,northwind_us_states])\n"
   ]
  },
  {
   "cell_type": "code",
   "execution_count": 98,
   "metadata": {},
   "outputs": [
    {
     "data": {
      "text/html": [
       "<div>\n",
       "<style scoped>\n",
       "    .dataframe tbody tr th:only-of-type {\n",
       "        vertical-align: middle;\n",
       "    }\n",
       "\n",
       "    .dataframe tbody tr th {\n",
       "        vertical-align: top;\n",
       "    }\n",
       "\n",
       "    .dataframe thead th {\n",
       "        text-align: right;\n",
       "    }\n",
       "</style>\n",
       "<table border=\"1\" class=\"dataframe\">\n",
       "  <thead>\n",
       "    <tr style=\"text-align: right;\">\n",
       "      <th></th>\n",
       "      <th>category_id</th>\n",
       "      <th>category_name</th>\n",
       "      <th>description</th>\n",
       "      <th>picture</th>\n",
       "      <th>customer_id</th>\n",
       "      <th>company_name</th>\n",
       "      <th>contact_name</th>\n",
       "      <th>contact_title</th>\n",
       "      <th>address</th>\n",
       "      <th>city</th>\n",
       "      <th>...</th>\n",
       "      <th>units_on_order</th>\n",
       "      <th>reorder_level</th>\n",
       "      <th>discontinued</th>\n",
       "      <th>region_description</th>\n",
       "      <th>shipper_id</th>\n",
       "      <th>homepage</th>\n",
       "      <th>state_id</th>\n",
       "      <th>state_name</th>\n",
       "      <th>state_abbr</th>\n",
       "      <th>state_region</th>\n",
       "    </tr>\n",
       "  </thead>\n",
       "  <tbody>\n",
       "    <tr>\n",
       "      <th>0</th>\n",
       "      <td>1</td>\n",
       "      <td>Beverages</td>\n",
       "      <td>Soft drinks, coffees, teas, beers, and ales</td>\n",
       "      <td>\\x</td>\n",
       "      <td>N/dados</td>\n",
       "      <td>N/dados</td>\n",
       "      <td>N/dados</td>\n",
       "      <td>N/dados</td>\n",
       "      <td>N/dados</td>\n",
       "      <td>N/dados</td>\n",
       "      <td>...</td>\n",
       "      <td>N/dados</td>\n",
       "      <td>N/dados</td>\n",
       "      <td>N/dados</td>\n",
       "      <td>N/dados</td>\n",
       "      <td>N/dados</td>\n",
       "      <td>N/dados</td>\n",
       "      <td>N/dados</td>\n",
       "      <td>N/dados</td>\n",
       "      <td>N/dados</td>\n",
       "      <td>N/dados</td>\n",
       "    </tr>\n",
       "    <tr>\n",
       "      <th>1</th>\n",
       "      <td>2</td>\n",
       "      <td>Condiments</td>\n",
       "      <td>Sweet and savory sauces, relishes, spreads, an...</td>\n",
       "      <td>\\x</td>\n",
       "      <td>N/dados</td>\n",
       "      <td>N/dados</td>\n",
       "      <td>N/dados</td>\n",
       "      <td>N/dados</td>\n",
       "      <td>N/dados</td>\n",
       "      <td>N/dados</td>\n",
       "      <td>...</td>\n",
       "      <td>N/dados</td>\n",
       "      <td>N/dados</td>\n",
       "      <td>N/dados</td>\n",
       "      <td>N/dados</td>\n",
       "      <td>N/dados</td>\n",
       "      <td>N/dados</td>\n",
       "      <td>N/dados</td>\n",
       "      <td>N/dados</td>\n",
       "      <td>N/dados</td>\n",
       "      <td>N/dados</td>\n",
       "    </tr>\n",
       "    <tr>\n",
       "      <th>2</th>\n",
       "      <td>3</td>\n",
       "      <td>Confections</td>\n",
       "      <td>Desserts, candies, and sweet breads</td>\n",
       "      <td>\\x</td>\n",
       "      <td>N/dados</td>\n",
       "      <td>N/dados</td>\n",
       "      <td>N/dados</td>\n",
       "      <td>N/dados</td>\n",
       "      <td>N/dados</td>\n",
       "      <td>N/dados</td>\n",
       "      <td>...</td>\n",
       "      <td>N/dados</td>\n",
       "      <td>N/dados</td>\n",
       "      <td>N/dados</td>\n",
       "      <td>N/dados</td>\n",
       "      <td>N/dados</td>\n",
       "      <td>N/dados</td>\n",
       "      <td>N/dados</td>\n",
       "      <td>N/dados</td>\n",
       "      <td>N/dados</td>\n",
       "      <td>N/dados</td>\n",
       "    </tr>\n",
       "    <tr>\n",
       "      <th>3</th>\n",
       "      <td>4</td>\n",
       "      <td>Dairy Products</td>\n",
       "      <td>Cheeses</td>\n",
       "      <td>\\x</td>\n",
       "      <td>N/dados</td>\n",
       "      <td>N/dados</td>\n",
       "      <td>N/dados</td>\n",
       "      <td>N/dados</td>\n",
       "      <td>N/dados</td>\n",
       "      <td>N/dados</td>\n",
       "      <td>...</td>\n",
       "      <td>N/dados</td>\n",
       "      <td>N/dados</td>\n",
       "      <td>N/dados</td>\n",
       "      <td>N/dados</td>\n",
       "      <td>N/dados</td>\n",
       "      <td>N/dados</td>\n",
       "      <td>N/dados</td>\n",
       "      <td>N/dados</td>\n",
       "      <td>N/dados</td>\n",
       "      <td>N/dados</td>\n",
       "    </tr>\n",
       "    <tr>\n",
       "      <th>4</th>\n",
       "      <td>5</td>\n",
       "      <td>Grains/Cereals</td>\n",
       "      <td>Breads, crackers, pasta, and cereal</td>\n",
       "      <td>\\x</td>\n",
       "      <td>N/dados</td>\n",
       "      <td>N/dados</td>\n",
       "      <td>N/dados</td>\n",
       "      <td>N/dados</td>\n",
       "      <td>N/dados</td>\n",
       "      <td>N/dados</td>\n",
       "      <td>...</td>\n",
       "      <td>N/dados</td>\n",
       "      <td>N/dados</td>\n",
       "      <td>N/dados</td>\n",
       "      <td>N/dados</td>\n",
       "      <td>N/dados</td>\n",
       "      <td>N/dados</td>\n",
       "      <td>N/dados</td>\n",
       "      <td>N/dados</td>\n",
       "      <td>N/dados</td>\n",
       "      <td>N/dados</td>\n",
       "    </tr>\n",
       "    <tr>\n",
       "      <th>...</th>\n",
       "      <td>...</td>\n",
       "      <td>...</td>\n",
       "      <td>...</td>\n",
       "      <td>...</td>\n",
       "      <td>...</td>\n",
       "      <td>...</td>\n",
       "      <td>...</td>\n",
       "      <td>...</td>\n",
       "      <td>...</td>\n",
       "      <td>...</td>\n",
       "      <td>...</td>\n",
       "      <td>...</td>\n",
       "      <td>...</td>\n",
       "      <td>...</td>\n",
       "      <td>...</td>\n",
       "      <td>...</td>\n",
       "      <td>...</td>\n",
       "      <td>...</td>\n",
       "      <td>...</td>\n",
       "      <td>...</td>\n",
       "      <td>...</td>\n",
       "    </tr>\n",
       "    <tr>\n",
       "      <th>87</th>\n",
       "      <td>N/dados</td>\n",
       "      <td>N/dados</td>\n",
       "      <td>N/dados</td>\n",
       "      <td>N/dados</td>\n",
       "      <td>WELLI</td>\n",
       "      <td>Wellington Importadora</td>\n",
       "      <td>Paula Parente</td>\n",
       "      <td>Sales Manager</td>\n",
       "      <td>Rua do Mercado, 12</td>\n",
       "      <td>Resende</td>\n",
       "      <td>...</td>\n",
       "      <td>N/dados</td>\n",
       "      <td>N/dados</td>\n",
       "      <td>N/dados</td>\n",
       "      <td>N/dados</td>\n",
       "      <td>N/dados</td>\n",
       "      <td>N/dados</td>\n",
       "      <td>N/dados</td>\n",
       "      <td>N/dados</td>\n",
       "      <td>N/dados</td>\n",
       "      <td>N/dados</td>\n",
       "    </tr>\n",
       "    <tr>\n",
       "      <th>88</th>\n",
       "      <td>N/dados</td>\n",
       "      <td>N/dados</td>\n",
       "      <td>N/dados</td>\n",
       "      <td>N/dados</td>\n",
       "      <td>WHITC</td>\n",
       "      <td>White Clover Markets</td>\n",
       "      <td>Karl Jablonski</td>\n",
       "      <td>Owner</td>\n",
       "      <td>305 - 14th Ave. S. Suite 3B</td>\n",
       "      <td>Seattle</td>\n",
       "      <td>...</td>\n",
       "      <td>N/dados</td>\n",
       "      <td>N/dados</td>\n",
       "      <td>N/dados</td>\n",
       "      <td>N/dados</td>\n",
       "      <td>N/dados</td>\n",
       "      <td>N/dados</td>\n",
       "      <td>N/dados</td>\n",
       "      <td>N/dados</td>\n",
       "      <td>N/dados</td>\n",
       "      <td>N/dados</td>\n",
       "    </tr>\n",
       "    <tr>\n",
       "      <th>89</th>\n",
       "      <td>N/dados</td>\n",
       "      <td>N/dados</td>\n",
       "      <td>N/dados</td>\n",
       "      <td>N/dados</td>\n",
       "      <td>WILMK</td>\n",
       "      <td>Wilman Kala</td>\n",
       "      <td>Matti Karttunen</td>\n",
       "      <td>Owner/Marketing Assistant</td>\n",
       "      <td>Keskuskatu 45</td>\n",
       "      <td>Helsinki</td>\n",
       "      <td>...</td>\n",
       "      <td>N/dados</td>\n",
       "      <td>N/dados</td>\n",
       "      <td>N/dados</td>\n",
       "      <td>N/dados</td>\n",
       "      <td>N/dados</td>\n",
       "      <td>N/dados</td>\n",
       "      <td>N/dados</td>\n",
       "      <td>N/dados</td>\n",
       "      <td>N/dados</td>\n",
       "      <td>N/dados</td>\n",
       "    </tr>\n",
       "    <tr>\n",
       "      <th>90</th>\n",
       "      <td>N/dados</td>\n",
       "      <td>N/dados</td>\n",
       "      <td>N/dados</td>\n",
       "      <td>N/dados</td>\n",
       "      <td>WOLZA</td>\n",
       "      <td>Wolski  Zajazd</td>\n",
       "      <td>Zbyszek Piestrzeniewicz</td>\n",
       "      <td>Owner</td>\n",
       "      <td>ul. Filtrowa 68</td>\n",
       "      <td>Warszawa</td>\n",
       "      <td>...</td>\n",
       "      <td>N/dados</td>\n",
       "      <td>N/dados</td>\n",
       "      <td>N/dados</td>\n",
       "      <td>N/dados</td>\n",
       "      <td>N/dados</td>\n",
       "      <td>N/dados</td>\n",
       "      <td>N/dados</td>\n",
       "      <td>N/dados</td>\n",
       "      <td>N/dados</td>\n",
       "      <td>N/dados</td>\n",
       "    </tr>\n",
       "    <tr>\n",
       "      <th>0</th>\n",
       "      <td>N/dados</td>\n",
       "      <td>N/dados</td>\n",
       "      <td>N/dados</td>\n",
       "      <td>N/dados</td>\n",
       "      <td>N/dados</td>\n",
       "      <td>N/dados</td>\n",
       "      <td>N/dados</td>\n",
       "      <td>N/dados</td>\n",
       "      <td>N/dados</td>\n",
       "      <td>N/dados</td>\n",
       "      <td>...</td>\n",
       "      <td>N/dados</td>\n",
       "      <td>N/dados</td>\n",
       "      <td>N/dados</td>\n",
       "      <td>N/dados</td>\n",
       "      <td>N/dados</td>\n",
       "      <td>N/dados</td>\n",
       "      <td>N/dados</td>\n",
       "      <td>N/dados</td>\n",
       "      <td>N/dados</td>\n",
       "      <td>N/dados</td>\n",
       "    </tr>\n",
       "  </tbody>\n",
       "</table>\n",
       "<p>100 rows × 61 columns</p>\n",
       "</div>"
      ],
      "text/plain": [
       "   category_id   category_name  \\\n",
       "0            1       Beverages   \n",
       "1            2      Condiments   \n",
       "2            3     Confections   \n",
       "3            4  Dairy Products   \n",
       "4            5  Grains/Cereals   \n",
       "..         ...             ...   \n",
       "87     N/dados         N/dados   \n",
       "88     N/dados         N/dados   \n",
       "89     N/dados         N/dados   \n",
       "90     N/dados         N/dados   \n",
       "0      N/dados         N/dados   \n",
       "\n",
       "                                          description  picture customer_id  \\\n",
       "0         Soft drinks, coffees, teas, beers, and ales       \\x     N/dados   \n",
       "1   Sweet and savory sauces, relishes, spreads, an...       \\x     N/dados   \n",
       "2                 Desserts, candies, and sweet breads       \\x     N/dados   \n",
       "3                                             Cheeses       \\x     N/dados   \n",
       "4                 Breads, crackers, pasta, and cereal       \\x     N/dados   \n",
       "..                                                ...      ...         ...   \n",
       "87                                            N/dados  N/dados       WELLI   \n",
       "88                                            N/dados  N/dados       WHITC   \n",
       "89                                            N/dados  N/dados       WILMK   \n",
       "90                                            N/dados  N/dados       WOLZA   \n",
       "0                                             N/dados  N/dados     N/dados   \n",
       "\n",
       "              company_name             contact_name  \\\n",
       "0                  N/dados                  N/dados   \n",
       "1                  N/dados                  N/dados   \n",
       "2                  N/dados                  N/dados   \n",
       "3                  N/dados                  N/dados   \n",
       "4                  N/dados                  N/dados   \n",
       "..                     ...                      ...   \n",
       "87  Wellington Importadora            Paula Parente   \n",
       "88    White Clover Markets           Karl Jablonski   \n",
       "89             Wilman Kala          Matti Karttunen   \n",
       "90          Wolski  Zajazd  Zbyszek Piestrzeniewicz   \n",
       "0                  N/dados                  N/dados   \n",
       "\n",
       "                contact_title                      address      city  ...  \\\n",
       "0                     N/dados                      N/dados   N/dados  ...   \n",
       "1                     N/dados                      N/dados   N/dados  ...   \n",
       "2                     N/dados                      N/dados   N/dados  ...   \n",
       "3                     N/dados                      N/dados   N/dados  ...   \n",
       "4                     N/dados                      N/dados   N/dados  ...   \n",
       "..                        ...                          ...       ...  ...   \n",
       "87              Sales Manager           Rua do Mercado, 12   Resende  ...   \n",
       "88                      Owner  305 - 14th Ave. S. Suite 3B   Seattle  ...   \n",
       "89  Owner/Marketing Assistant                Keskuskatu 45  Helsinki  ...   \n",
       "90                      Owner              ul. Filtrowa 68  Warszawa  ...   \n",
       "0                     N/dados                      N/dados   N/dados  ...   \n",
       "\n",
       "   units_on_order reorder_level discontinued region_description shipper_id  \\\n",
       "0         N/dados       N/dados      N/dados            N/dados    N/dados   \n",
       "1         N/dados       N/dados      N/dados            N/dados    N/dados   \n",
       "2         N/dados       N/dados      N/dados            N/dados    N/dados   \n",
       "3         N/dados       N/dados      N/dados            N/dados    N/dados   \n",
       "4         N/dados       N/dados      N/dados            N/dados    N/dados   \n",
       "..            ...           ...          ...                ...        ...   \n",
       "87        N/dados       N/dados      N/dados            N/dados    N/dados   \n",
       "88        N/dados       N/dados      N/dados            N/dados    N/dados   \n",
       "89        N/dados       N/dados      N/dados            N/dados    N/dados   \n",
       "90        N/dados       N/dados      N/dados            N/dados    N/dados   \n",
       "0         N/dados       N/dados      N/dados            N/dados    N/dados   \n",
       "\n",
       "   homepage state_id state_name state_abbr state_region  \n",
       "0   N/dados  N/dados    N/dados    N/dados      N/dados  \n",
       "1   N/dados  N/dados    N/dados    N/dados      N/dados  \n",
       "2   N/dados  N/dados    N/dados    N/dados      N/dados  \n",
       "3   N/dados  N/dados    N/dados    N/dados      N/dados  \n",
       "4   N/dados  N/dados    N/dados    N/dados      N/dados  \n",
       "..      ...      ...        ...        ...          ...  \n",
       "87  N/dados  N/dados    N/dados    N/dados      N/dados  \n",
       "88  N/dados  N/dados    N/dados    N/dados      N/dados  \n",
       "89  N/dados  N/dados    N/dados    N/dados      N/dados  \n",
       "90  N/dados  N/dados    N/dados    N/dados      N/dados  \n",
       "0   N/dados  N/dados    N/dados    N/dados      N/dados  \n",
       "\n",
       "[100 rows x 61 columns]"
      ]
     },
     "execution_count": 98,
     "metadata": {},
     "output_type": "execute_result"
    }
   ],
   "source": [
    "unir_concat.head(100)"
   ]
  },
  {
   "cell_type": "markdown",
   "metadata": {},
   "source": [
    "##### <font color='black'>  Retirando espaços vazios</font>\n"
   ]
  },
  {
   "cell_type": "code",
   "execution_count": 21,
   "metadata": {},
   "outputs": [
    {
     "name": "stdout",
     "output_type": "stream",
     "text": [
      "category_id      3281\n",
      "category_name    3358\n",
      "description      3358\n",
      "picture          3358\n",
      "customer_id      2445\n",
      "                 ... \n",
      "homepage         3361\n",
      "state_id         3315\n",
      "state_name       3315\n",
      "state_abbr       3315\n",
      "state_region     3315\n",
      "Length: 61, dtype: int64\n"
     ]
    }
   ],
   "source": [
    "faltantes = unir_concat.isnull().sum()\n",
    "print(faltantes)"
   ]
  },
  {
   "cell_type": "code",
   "execution_count": 22,
   "metadata": {},
   "outputs": [
    {
     "data": {
      "text/html": [
       "<div>\n",
       "<style scoped>\n",
       "    .dataframe tbody tr th:only-of-type {\n",
       "        vertical-align: middle;\n",
       "    }\n",
       "\n",
       "    .dataframe tbody tr th {\n",
       "        vertical-align: top;\n",
       "    }\n",
       "\n",
       "    .dataframe thead th {\n",
       "        text-align: right;\n",
       "    }\n",
       "</style>\n",
       "<table border=\"1\" class=\"dataframe\">\n",
       "  <thead>\n",
       "    <tr style=\"text-align: right;\">\n",
       "      <th></th>\n",
       "      <th>category_id</th>\n",
       "      <th>category_name</th>\n",
       "      <th>description</th>\n",
       "      <th>picture</th>\n",
       "      <th>customer_id</th>\n",
       "      <th>company_name</th>\n",
       "      <th>contact_name</th>\n",
       "      <th>contact_title</th>\n",
       "      <th>address</th>\n",
       "      <th>city</th>\n",
       "      <th>...</th>\n",
       "      <th>units_on_order</th>\n",
       "      <th>reorder_level</th>\n",
       "      <th>discontinued</th>\n",
       "      <th>region_description</th>\n",
       "      <th>shipper_id</th>\n",
       "      <th>homepage</th>\n",
       "      <th>state_id</th>\n",
       "      <th>state_name</th>\n",
       "      <th>state_abbr</th>\n",
       "      <th>state_region</th>\n",
       "    </tr>\n",
       "  </thead>\n",
       "  <tbody>\n",
       "    <tr>\n",
       "      <th>0</th>\n",
       "      <td>1</td>\n",
       "      <td>Beverages</td>\n",
       "      <td>Soft drinks, coffees, teas, beers, and ales</td>\n",
       "      <td>\\x</td>\n",
       "      <td>N/dados</td>\n",
       "      <td>N/dados</td>\n",
       "      <td>N/dados</td>\n",
       "      <td>N/dados</td>\n",
       "      <td>N/dados</td>\n",
       "      <td>N/dados</td>\n",
       "      <td>...</td>\n",
       "      <td>N/dados</td>\n",
       "      <td>N/dados</td>\n",
       "      <td>N/dados</td>\n",
       "      <td>N/dados</td>\n",
       "      <td>N/dados</td>\n",
       "      <td>N/dados</td>\n",
       "      <td>N/dados</td>\n",
       "      <td>N/dados</td>\n",
       "      <td>N/dados</td>\n",
       "      <td>N/dados</td>\n",
       "    </tr>\n",
       "    <tr>\n",
       "      <th>1</th>\n",
       "      <td>2</td>\n",
       "      <td>Condiments</td>\n",
       "      <td>Sweet and savory sauces, relishes, spreads, an...</td>\n",
       "      <td>\\x</td>\n",
       "      <td>N/dados</td>\n",
       "      <td>N/dados</td>\n",
       "      <td>N/dados</td>\n",
       "      <td>N/dados</td>\n",
       "      <td>N/dados</td>\n",
       "      <td>N/dados</td>\n",
       "      <td>...</td>\n",
       "      <td>N/dados</td>\n",
       "      <td>N/dados</td>\n",
       "      <td>N/dados</td>\n",
       "      <td>N/dados</td>\n",
       "      <td>N/dados</td>\n",
       "      <td>N/dados</td>\n",
       "      <td>N/dados</td>\n",
       "      <td>N/dados</td>\n",
       "      <td>N/dados</td>\n",
       "      <td>N/dados</td>\n",
       "    </tr>\n",
       "    <tr>\n",
       "      <th>2</th>\n",
       "      <td>3</td>\n",
       "      <td>Confections</td>\n",
       "      <td>Desserts, candies, and sweet breads</td>\n",
       "      <td>\\x</td>\n",
       "      <td>N/dados</td>\n",
       "      <td>N/dados</td>\n",
       "      <td>N/dados</td>\n",
       "      <td>N/dados</td>\n",
       "      <td>N/dados</td>\n",
       "      <td>N/dados</td>\n",
       "      <td>...</td>\n",
       "      <td>N/dados</td>\n",
       "      <td>N/dados</td>\n",
       "      <td>N/dados</td>\n",
       "      <td>N/dados</td>\n",
       "      <td>N/dados</td>\n",
       "      <td>N/dados</td>\n",
       "      <td>N/dados</td>\n",
       "      <td>N/dados</td>\n",
       "      <td>N/dados</td>\n",
       "      <td>N/dados</td>\n",
       "    </tr>\n",
       "    <tr>\n",
       "      <th>3</th>\n",
       "      <td>4</td>\n",
       "      <td>Dairy Products</td>\n",
       "      <td>Cheeses</td>\n",
       "      <td>\\x</td>\n",
       "      <td>N/dados</td>\n",
       "      <td>N/dados</td>\n",
       "      <td>N/dados</td>\n",
       "      <td>N/dados</td>\n",
       "      <td>N/dados</td>\n",
       "      <td>N/dados</td>\n",
       "      <td>...</td>\n",
       "      <td>N/dados</td>\n",
       "      <td>N/dados</td>\n",
       "      <td>N/dados</td>\n",
       "      <td>N/dados</td>\n",
       "      <td>N/dados</td>\n",
       "      <td>N/dados</td>\n",
       "      <td>N/dados</td>\n",
       "      <td>N/dados</td>\n",
       "      <td>N/dados</td>\n",
       "      <td>N/dados</td>\n",
       "    </tr>\n",
       "    <tr>\n",
       "      <th>4</th>\n",
       "      <td>5</td>\n",
       "      <td>Grains/Cereals</td>\n",
       "      <td>Breads, crackers, pasta, and cereal</td>\n",
       "      <td>\\x</td>\n",
       "      <td>N/dados</td>\n",
       "      <td>N/dados</td>\n",
       "      <td>N/dados</td>\n",
       "      <td>N/dados</td>\n",
       "      <td>N/dados</td>\n",
       "      <td>N/dados</td>\n",
       "      <td>...</td>\n",
       "      <td>N/dados</td>\n",
       "      <td>N/dados</td>\n",
       "      <td>N/dados</td>\n",
       "      <td>N/dados</td>\n",
       "      <td>N/dados</td>\n",
       "      <td>N/dados</td>\n",
       "      <td>N/dados</td>\n",
       "      <td>N/dados</td>\n",
       "      <td>N/dados</td>\n",
       "      <td>N/dados</td>\n",
       "    </tr>\n",
       "    <tr>\n",
       "      <th>...</th>\n",
       "      <td>...</td>\n",
       "      <td>...</td>\n",
       "      <td>...</td>\n",
       "      <td>...</td>\n",
       "      <td>...</td>\n",
       "      <td>...</td>\n",
       "      <td>...</td>\n",
       "      <td>...</td>\n",
       "      <td>...</td>\n",
       "      <td>...</td>\n",
       "      <td>...</td>\n",
       "      <td>...</td>\n",
       "      <td>...</td>\n",
       "      <td>...</td>\n",
       "      <td>...</td>\n",
       "      <td>...</td>\n",
       "      <td>...</td>\n",
       "      <td>...</td>\n",
       "      <td>...</td>\n",
       "      <td>...</td>\n",
       "      <td>...</td>\n",
       "    </tr>\n",
       "    <tr>\n",
       "      <th>679</th>\n",
       "      <td>N/dados</td>\n",
       "      <td>N/dados</td>\n",
       "      <td>N/dados</td>\n",
       "      <td>N/dados</td>\n",
       "      <td>LACOR</td>\n",
       "      <td>N/dados</td>\n",
       "      <td>N/dados</td>\n",
       "      <td>N/dados</td>\n",
       "      <td>N/dados</td>\n",
       "      <td>N/dados</td>\n",
       "      <td>...</td>\n",
       "      <td>N/dados</td>\n",
       "      <td>N/dados</td>\n",
       "      <td>N/dados</td>\n",
       "      <td>N/dados</td>\n",
       "      <td>N/dados</td>\n",
       "      <td>N/dados</td>\n",
       "      <td>N/dados</td>\n",
       "      <td>N/dados</td>\n",
       "      <td>N/dados</td>\n",
       "      <td>N/dados</td>\n",
       "    </tr>\n",
       "    <tr>\n",
       "      <th>680</th>\n",
       "      <td>N/dados</td>\n",
       "      <td>N/dados</td>\n",
       "      <td>N/dados</td>\n",
       "      <td>N/dados</td>\n",
       "      <td>GALED</td>\n",
       "      <td>N/dados</td>\n",
       "      <td>N/dados</td>\n",
       "      <td>N/dados</td>\n",
       "      <td>N/dados</td>\n",
       "      <td>N/dados</td>\n",
       "      <td>...</td>\n",
       "      <td>N/dados</td>\n",
       "      <td>N/dados</td>\n",
       "      <td>N/dados</td>\n",
       "      <td>N/dados</td>\n",
       "      <td>N/dados</td>\n",
       "      <td>N/dados</td>\n",
       "      <td>N/dados</td>\n",
       "      <td>N/dados</td>\n",
       "      <td>N/dados</td>\n",
       "      <td>N/dados</td>\n",
       "    </tr>\n",
       "    <tr>\n",
       "      <th>681</th>\n",
       "      <td>N/dados</td>\n",
       "      <td>N/dados</td>\n",
       "      <td>N/dados</td>\n",
       "      <td>N/dados</td>\n",
       "      <td>FRANK</td>\n",
       "      <td>N/dados</td>\n",
       "      <td>N/dados</td>\n",
       "      <td>N/dados</td>\n",
       "      <td>N/dados</td>\n",
       "      <td>N/dados</td>\n",
       "      <td>...</td>\n",
       "      <td>N/dados</td>\n",
       "      <td>N/dados</td>\n",
       "      <td>N/dados</td>\n",
       "      <td>N/dados</td>\n",
       "      <td>N/dados</td>\n",
       "      <td>N/dados</td>\n",
       "      <td>N/dados</td>\n",
       "      <td>N/dados</td>\n",
       "      <td>N/dados</td>\n",
       "      <td>N/dados</td>\n",
       "    </tr>\n",
       "    <tr>\n",
       "      <th>682</th>\n",
       "      <td>N/dados</td>\n",
       "      <td>N/dados</td>\n",
       "      <td>N/dados</td>\n",
       "      <td>N/dados</td>\n",
       "      <td>SUPRD</td>\n",
       "      <td>N/dados</td>\n",
       "      <td>N/dados</td>\n",
       "      <td>N/dados</td>\n",
       "      <td>N/dados</td>\n",
       "      <td>N/dados</td>\n",
       "      <td>...</td>\n",
       "      <td>N/dados</td>\n",
       "      <td>N/dados</td>\n",
       "      <td>N/dados</td>\n",
       "      <td>N/dados</td>\n",
       "      <td>N/dados</td>\n",
       "      <td>N/dados</td>\n",
       "      <td>N/dados</td>\n",
       "      <td>N/dados</td>\n",
       "      <td>N/dados</td>\n",
       "      <td>N/dados</td>\n",
       "    </tr>\n",
       "    <tr>\n",
       "      <th>683</th>\n",
       "      <td>N/dados</td>\n",
       "      <td>N/dados</td>\n",
       "      <td>N/dados</td>\n",
       "      <td>N/dados</td>\n",
       "      <td>RICSU</td>\n",
       "      <td>N/dados</td>\n",
       "      <td>N/dados</td>\n",
       "      <td>N/dados</td>\n",
       "      <td>N/dados</td>\n",
       "      <td>N/dados</td>\n",
       "      <td>...</td>\n",
       "      <td>N/dados</td>\n",
       "      <td>N/dados</td>\n",
       "      <td>N/dados</td>\n",
       "      <td>N/dados</td>\n",
       "      <td>N/dados</td>\n",
       "      <td>N/dados</td>\n",
       "      <td>N/dados</td>\n",
       "      <td>N/dados</td>\n",
       "      <td>N/dados</td>\n",
       "      <td>N/dados</td>\n",
       "    </tr>\n",
       "  </tbody>\n",
       "</table>\n",
       "<p>3000 rows × 61 columns</p>\n",
       "</div>"
      ],
      "text/plain": [
       "    category_id   category_name  \\\n",
       "0             1       Beverages   \n",
       "1             2      Condiments   \n",
       "2             3     Confections   \n",
       "3             4  Dairy Products   \n",
       "4             5  Grains/Cereals   \n",
       "..          ...             ...   \n",
       "679     N/dados         N/dados   \n",
       "680     N/dados         N/dados   \n",
       "681     N/dados         N/dados   \n",
       "682     N/dados         N/dados   \n",
       "683     N/dados         N/dados   \n",
       "\n",
       "                                           description  picture customer_id  \\\n",
       "0          Soft drinks, coffees, teas, beers, and ales       \\x     N/dados   \n",
       "1    Sweet and savory sauces, relishes, spreads, an...       \\x     N/dados   \n",
       "2                  Desserts, candies, and sweet breads       \\x     N/dados   \n",
       "3                                              Cheeses       \\x     N/dados   \n",
       "4                  Breads, crackers, pasta, and cereal       \\x     N/dados   \n",
       "..                                                 ...      ...         ...   \n",
       "679                                            N/dados  N/dados       LACOR   \n",
       "680                                            N/dados  N/dados       GALED   \n",
       "681                                            N/dados  N/dados       FRANK   \n",
       "682                                            N/dados  N/dados       SUPRD   \n",
       "683                                            N/dados  N/dados       RICSU   \n",
       "\n",
       "    company_name contact_name contact_title  address     city  ...  \\\n",
       "0        N/dados      N/dados       N/dados  N/dados  N/dados  ...   \n",
       "1        N/dados      N/dados       N/dados  N/dados  N/dados  ...   \n",
       "2        N/dados      N/dados       N/dados  N/dados  N/dados  ...   \n",
       "3        N/dados      N/dados       N/dados  N/dados  N/dados  ...   \n",
       "4        N/dados      N/dados       N/dados  N/dados  N/dados  ...   \n",
       "..           ...          ...           ...      ...      ...  ...   \n",
       "679      N/dados      N/dados       N/dados  N/dados  N/dados  ...   \n",
       "680      N/dados      N/dados       N/dados  N/dados  N/dados  ...   \n",
       "681      N/dados      N/dados       N/dados  N/dados  N/dados  ...   \n",
       "682      N/dados      N/dados       N/dados  N/dados  N/dados  ...   \n",
       "683      N/dados      N/dados       N/dados  N/dados  N/dados  ...   \n",
       "\n",
       "    units_on_order reorder_level discontinued region_description shipper_id  \\\n",
       "0          N/dados       N/dados      N/dados            N/dados    N/dados   \n",
       "1          N/dados       N/dados      N/dados            N/dados    N/dados   \n",
       "2          N/dados       N/dados      N/dados            N/dados    N/dados   \n",
       "3          N/dados       N/dados      N/dados            N/dados    N/dados   \n",
       "4          N/dados       N/dados      N/dados            N/dados    N/dados   \n",
       "..             ...           ...          ...                ...        ...   \n",
       "679        N/dados       N/dados      N/dados            N/dados    N/dados   \n",
       "680        N/dados       N/dados      N/dados            N/dados    N/dados   \n",
       "681        N/dados       N/dados      N/dados            N/dados    N/dados   \n",
       "682        N/dados       N/dados      N/dados            N/dados    N/dados   \n",
       "683        N/dados       N/dados      N/dados            N/dados    N/dados   \n",
       "\n",
       "    homepage state_id state_name state_abbr state_region  \n",
       "0    N/dados  N/dados    N/dados    N/dados      N/dados  \n",
       "1    N/dados  N/dados    N/dados    N/dados      N/dados  \n",
       "2    N/dados  N/dados    N/dados    N/dados      N/dados  \n",
       "3    N/dados  N/dados    N/dados    N/dados      N/dados  \n",
       "4    N/dados  N/dados    N/dados    N/dados      N/dados  \n",
       "..       ...      ...        ...        ...          ...  \n",
       "679  N/dados  N/dados    N/dados    N/dados      N/dados  \n",
       "680  N/dados  N/dados    N/dados    N/dados      N/dados  \n",
       "681  N/dados  N/dados    N/dados    N/dados      N/dados  \n",
       "682  N/dados  N/dados    N/dados    N/dados      N/dados  \n",
       "683  N/dados  N/dados    N/dados    N/dados      N/dados  \n",
       "\n",
       "[3000 rows x 61 columns]"
      ]
     },
     "execution_count": 22,
     "metadata": {},
     "output_type": "execute_result"
    }
   ],
   "source": [
    "unir_concat['category_id'].fillna('N/dados',inplace = True)\n",
    "unir_concat['category_name'].fillna('N/dados',inplace = True)\n",
    "unir_concat['description'].fillna('N/dados',inplace = True)\n",
    "unir_concat['picture'].fillna('N/dados',inplace = True)\n",
    "unir_concat['customer_id'].fillna('N/dados',inplace = True)\n",
    "unir_concat['company_name'].fillna('N/dados',inplace = True)\n",
    "unir_concat['contact_name'].fillna('N/dados',inplace = True)\n",
    "unir_concat['contact_title'].fillna('N/dados',inplace = True)\n",
    "unir_concat['address'].fillna('N/dados',inplace = True)\n",
    "unir_concat['city'].fillna('N/dados',inplace = True)\n",
    "unir_concat['region'].fillna('N/dados',inplace = True)\n",
    "unir_concat['postal_code'].fillna('N/dados',inplace = True)\n",
    "unir_concat['country'].fillna('N/dados',inplace = True)\n",
    "unir_concat['phone'].fillna('N/dados',inplace = True)\n",
    "unir_concat['fax'].fillna('N/dados',inplace = True)\n",
    "unir_concat['territory_id'].fillna('N/dados',inplace = True)\n",
    "unir_concat['territory_description'].fillna('N/dados',inplace = True)\n",
    "unir_concat['region_id'].fillna('N/dados',inplace = True)\n",
    "unir_concat['employee_id'].fillna('N/dados',inplace = True)\n",
    "unir_concat['last_name'].fillna('N/dados',inplace = True)\n",
    "unir_concat['first_name'].fillna('N/dados',inplace = True)\n",
    "unir_concat['title'].fillna('N/dados',inplace = True)\n",
    "unir_concat['title_of_courtesy'].fillna('N/dados',inplace = True)\n",
    "unir_concat['birth_date'].fillna('N/dados',inplace = True)\n",
    "unir_concat['hire_date'].fillna('N/dados',inplace = True)\n",
    "unir_concat['home_phone'].fillna('N/dados',inplace = True)\n",
    "unir_concat['extension'].fillna('N/dados',inplace = True)\n",
    "unir_concat['photo'].fillna('N/dados',inplace = True)\n",
    "unir_concat['notes'].fillna('N/dados',inplace = True)\n",
    "unir_concat['reports_to'].fillna('N/dados',inplace = True)\n",
    "unir_concat['photo_path'].fillna('N/dados',inplace = True)\n",
    "unir_concat['order_id'].fillna('N/dados',inplace = True)\n",
    "unir_concat['unit_price'].fillna('N/dados',inplace = True)\n",
    "unir_concat['quantity'].fillna('N/dados',inplace = True)\n",
    "unir_concat['discount'].fillna('N/dados',inplace = True)\n",
    "unir_concat['order_date'].fillna('N/dados',inplace = True)\n",
    "unir_concat['required_date'].fillna('N/dados',inplace = True)\n",
    "unir_concat['shipped_date'].fillna('N/dados',inplace = True)\n",
    "unir_concat['ship_via'].fillna('N/dados',inplace = True)\n",
    "unir_concat['freight'].fillna('N/dados',inplace = True)\n",
    "unir_concat['ship_name'].fillna('N/dados',inplace = True)\n",
    "unir_concat['ship_address'].fillna('N/dados',inplace = True)\n",
    "unir_concat['ship_city'].fillna('N/dados',inplace = True)\n",
    "unir_concat['ship_region'].fillna('N/dados',inplace = True)\n",
    "unir_concat['ship_postal_code'].fillna('N/dados',inplace = True)\n",
    "unir_concat['ship_country'].fillna('N/dados',inplace = True)\n",
    "unir_concat['product_name'].fillna('N/dados',inplace = True)\n",
    "unir_concat['supplier_id'].fillna('N/dados',inplace = True)\n",
    "unir_concat['quantity_per_unit'].fillna('N/dados',inplace = True)\n",
    "unir_concat['units_in_stock'].fillna('N/dados',inplace = True)\n",
    "unir_concat['units_on_order'].fillna('N/dados',inplace = True)\n",
    "unir_concat['reorder_level'].fillna('N/dados',inplace = True)\n",
    "unir_concat['discontinued'].fillna('N/dados',inplace = True)\n",
    "unir_concat['region_description'].fillna('N/dados',inplace = True)\n",
    "unir_concat['shipper_id'].fillna('N/dados',inplace = True)\n",
    "unir_concat['homepage'].fillna('N/dados',inplace = True)\n",
    "unir_concat['state_id'].fillna('N/dados',inplace = True)\n",
    "unir_concat['state_name'].fillna('N/dados',inplace = True)\n",
    "unir_concat['state_abbr'].fillna('N/dados',inplace = True)\n",
    "unir_concat['state_region'].fillna('N/dados',inplace = True)\n",
    "\n",
    "unir_concat.head(3000)"
   ]
  }
 ],
 "metadata": {
  "kernelspec": {
   "display_name": "Python 3",
   "language": "python",
   "name": "python3"
  },
  "language_info": {
   "codemirror_mode": {
    "name": "ipython",
    "version": 3
   },
   "file_extension": ".py",
   "mimetype": "text/x-python",
   "name": "python",
   "nbconvert_exporter": "python",
   "pygments_lexer": "ipython3",
   "version": "3.8.5"
  }
 },
 "nbformat": 4,
 "nbformat_minor": 4
}
